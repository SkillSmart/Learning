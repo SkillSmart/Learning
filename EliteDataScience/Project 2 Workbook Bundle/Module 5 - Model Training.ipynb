{
 "cells": [
  {
   "cell_type": "markdown",
   "metadata": {},
   "source": [
    "<h1 style=\"font-size:42px; text-align:center; margin-bottom:30px;\"><span style=\"color:SteelBlue\">Module 5:</span> Model Training</h1>\n",
    "<hr>\n",
    "\n",
    "At last, it's time to build our models! \n",
    "\n",
    "It might seem like it took us a while to get here, but professional data scientists actually spend the bulk of their time on the 3 steps leading up to this one: \n",
    "* Exploratory Analysis\n",
    "* Data Cleaning\n",
    "* Feature Engineering\n",
    "\n",
    "That's because the biggest jumps in model performance are from **better data**, not from fancier algorithms.\n",
    "\n",
    "This is lengthy and action-packed module, so buckle up and let's dive right in!\n",
    "\n",
    "<br><hr id=\"toc\">\n",
    "\n",
    "### In this module...\n",
    "\n",
    "First, we'll load our analytical base table from Module 3. \n",
    "\n",
    "Then, we'll go through the essential modeling steps:\n",
    "\n",
    "1. [Split your dataset](#split)\n",
    "2. [Build model pipelines](#pipelines)\n",
    "3. [Declare hyperparameters to tune](#hyperparameters)\n",
    "4. [Fit and tune models with cross-validation](#fit-tune)\n",
    "5. [Evaluate metrics and select winner](#evaluate)\n",
    "\n",
    "Finally, we'll save the best model as a project deliverable!\n",
    "\n",
    "<br><hr>"
   ]
  },
  {
   "cell_type": "markdown",
   "metadata": {},
   "source": [
    "### First, let's import libraries, recruit models, and load the analytical base table.\n",
    "\n",
    "Let's import our libraries and load the dataset. It's good practice to keep all of your library imports at the top of your notebook or program.\n",
    "\n",
    "Before anything else, let's import the <code style=\"color:steelblue\">print()</code> function from the future for compatability with Python 3."
   ]
  },
  {
   "cell_type": "code",
   "execution_count": 1,
   "metadata": {
    "collapsed": false
   },
   "outputs": [
    {
     "name": "stdout",
     "output_type": "stream",
     "text": [
      "Print function ready to serve.\n"
     ]
    }
   ],
   "source": [
    "from __future__ import print_function  # Compatability with Python 3\n",
    "print( 'Print function ready to serve.' )"
   ]
  },
  {
   "cell_type": "markdown",
   "metadata": {},
   "source": [
    "Next, let's import the libraries we'll need for this module."
   ]
  },
  {
   "cell_type": "code",
   "execution_count": 2,
   "metadata": {
    "collapsed": false
   },
   "outputs": [],
   "source": [
    "# NumPy for numerical computing\n",
    "import numpy as np\n",
    "\n",
    "# Pandas for DataFrames\n",
    "import pandas as pd\n",
    "pd.set_option('display.max_columns', 100)\n",
    "pd.set_option('display.float_format', lambda x: '%.3f' % x)\n",
    "\n",
    "# Matplotlib for visualization\n",
    "from matplotlib import pyplot as plt\n",
    "# display plots in the notebook\n",
    "%matplotlib inline \n",
    "\n",
    "# Seaborn for easier visualization\n",
    "import seaborn as sns\n",
    "\n",
    "# Scikit-Learn for Modeling\n",
    "import sklearn"
   ]
  },
  {
   "cell_type": "markdown",
   "metadata": {},
   "source": [
    "Next, let's import the 5 algorithms we introduced in Module 4."
   ]
  },
  {
   "cell_type": "code",
   "execution_count": 3,
   "metadata": {
    "collapsed": true
   },
   "outputs": [],
   "source": [
    "# Import Elastic Net, Ridge Regression, and Lasso Regression\n",
    "from sklearn.linear_model import ElasticNet, Ridge, Lasso\n",
    "\n",
    "# Import Random Forest and Gradient Boosted Trees\n",
    "from sklearn.ensemble import RandomForestRegressor, GradientBoostingRegressor"
   ]
  },
  {
   "cell_type": "markdown",
   "metadata": {},
   "source": [
    "<strong>Quick note about this module.</strong><br> In this module, we'll be relying heavily on Scikit-Learn, which has many helpful functions we can take advantage of. However, we won't import everything right away. Instead, we'll be importing each function from Scikit-Learn as we need it. That way, we can point out where you can find each function.\n",
    "\n",
    "\n",
    "Next, let's load the analytical base table from Module 3."
   ]
  },
  {
   "cell_type": "code",
   "execution_count": 4,
   "metadata": {
    "collapsed": false,
    "scrolled": true
   },
   "outputs": [
    {
     "data": {
      "text/plain": [
       "0       216500\n",
       "1       279900\n",
       "2       379900\n",
       "3       340000\n",
       "4       265000\n",
       "5       240000\n",
       "6       388100\n",
       "7       240000\n",
       "8       250000\n",
       "9       335000\n",
       "10      376750\n",
       "11      210000\n",
       "12      289900\n",
       "13      535000\n",
       "14      218000\n",
       "15      400000\n",
       "16      226000\n",
       "17      215000\n",
       "18      327000\n",
       "19      331100\n",
       "20      240000\n",
       "21      320000\n",
       "22      375000\n",
       "23      377000\n",
       "24      262500\n",
       "25      216250\n",
       "26      270000\n",
       "27      235000\n",
       "28      225000\n",
       "29      370000\n",
       "         ...  \n",
       "1587    751000\n",
       "1588    690000\n",
       "1589    649900\n",
       "1590    750000\n",
       "1591    279875\n",
       "1592    700000\n",
       "1593    765000\n",
       "1594    535000\n",
       "1595    439000\n",
       "1596    215000\n",
       "1597    700000\n",
       "1598    460000\n",
       "1599    800000\n",
       "1600    798000\n",
       "1601    755000\n",
       "1602    350000\n",
       "1603    535000\n",
       "1604    720000\n",
       "1605    600000\n",
       "1606    590000\n",
       "1607    665500\n",
       "1608    743500\n",
       "1609    535000\n",
       "1610    765000\n",
       "1611    569000\n",
       "1612    760000\n",
       "1613    690000\n",
       "1614    600000\n",
       "1615    759900\n",
       "1616    735000\n",
       "Name: tx_price, Length: 1617, dtype: int64"
      ]
     },
     "execution_count": 4,
     "metadata": {},
     "output_type": "execute_result"
    }
   ],
   "source": [
    "# Load cleaned dataset from Module 3\n",
    "df = pd.read_csv('analytical_base_table.csv')\n",
    "df.tx_price\n"
   ]
  },
  {
   "cell_type": "markdown",
   "metadata": {},
   "source": [
    "<br id=\"split\">\n",
    "# 1. Split your dataset\n",
    "\n",
    "Let's start with a crucial but sometimes overlooked step: **Spending** your data.\n",
    "\n",
    "<br>\n",
    "First, let's import the <code style=\"color:steelblue\">train_test_split()</code> function from Scikit-Learn."
   ]
  },
  {
   "cell_type": "code",
   "execution_count": 5,
   "metadata": {
    "collapsed": false
   },
   "outputs": [
    {
     "name": "stderr",
     "output_type": "stream",
     "text": [
      "C:\\Users\\frank\\Anaconda3\\lib\\site-packages\\sklearn\\cross_validation.py:44: DeprecationWarning: This module was deprecated in version 0.18 in favor of the model_selection module into which all the refactored classes and functions are moved. Also note that the interface of the new CV iterators are different from that of this module. This module will be removed in 0.20.\n",
      "  \"This module will be removed in 0.20.\", DeprecationWarning)\n"
     ]
    }
   ],
   "source": [
    "# Function for splitting training and test set\n",
    "from sklearn.cross_validation import train_test_split"
   ]
  },
  {
   "cell_type": "markdown",
   "metadata": {},
   "source": [
    "Next, separate your dataframe into separate objects for the target variable (<code style=\"color:steelblue\">y</code>) and the input features (<code style=\"color:steelblue\">X</code>)."
   ]
  },
  {
   "cell_type": "code",
   "execution_count": 6,
   "metadata": {
    "collapsed": false
   },
   "outputs": [],
   "source": [
    "# Create separate object for target variable\n",
    "y = df.pop('tx_price')\n",
    "# Create separate object for input features\n",
    "x = df"
   ]
  },
  {
   "cell_type": "code",
   "execution_count": null,
   "metadata": {
    "collapsed": false
   },
   "outputs": [],
   "source": []
  },
  {
   "cell_type": "markdown",
   "metadata": {},
   "source": [
    "<br><hr style=\"border-color:royalblue;background-color:royalblue;height:1px;\">\n",
    "## <span style=\"color:RoyalBlue\">Exercise 5.1</span>\n",
    "\n",
    "**First, split <code style=\"color:steelblue\">X</code> and <code style=\"color:steelblue\">y</code> into training and test sets using the <code style=\"color:steelblue\">train_test_split()</code> function.** \n",
    "* **Tip:** Its first two arguments should be X and y.\n",
    "* **Pass in the argument <code style=\"color:steelblue\">test_size=<span style=\"color:crimson\">0.2</span></code> to set aside 20% of our observations for the test set.**\n",
    "* **Pass in <code style=\"color:steelblue\">random_state=<span style=\"color:crimson\">1234</span></code> to set the random state for replicable results.**\n",
    "* You can read more about this function in the <a href=\"http://scikit-learn.org/stable/modules/generated/sklearn.model_selection.train_test_split.html\" target=\"_blank\">documentation</a>.\n",
    "\n",
    "The function returns a tuple with 4 elements: <code style=\"color:steelblue\">(X_train, X_test, y_train, y_test)</code>. Remember, you can **unpack** it. We've given you a head-start below with the code to unpack the tuple:"
   ]
  },
  {
   "cell_type": "code",
   "execution_count": 7,
   "metadata": {
    "collapsed": false
   },
   "outputs": [],
   "source": [
    "# Split X and y into train and test sets\n",
    "X_train, X_test, y_train, y_test = train_test_split(df, y)"
   ]
  },
  {
   "cell_type": "markdown",
   "metadata": {},
   "source": [
    "Let's confirm we have the right number of observations in each subset.\n",
    "\n",
    "<br>\n",
    "**Next, run this code to confirm the size of each subset is correct.**"
   ]
  },
  {
   "cell_type": "code",
   "execution_count": 8,
   "metadata": {
    "collapsed": false
   },
   "outputs": [
    {
     "name": "stdout",
     "output_type": "stream",
     "text": [
      "1212 405 1212 405\n"
     ]
    }
   ],
   "source": [
    "print( len(X_train), len(X_test), len(y_train), len(y_test) )"
   ]
  },
  {
   "cell_type": "markdown",
   "metadata": {},
   "source": [
    "Next, when we train our models, we can fit them on the <code style=\"color:steelblue\">X_train</code> feature values and <code style=\"color:steelblue\">y_train</code> target values.\n",
    "\n",
    "Finally, when we're ready to evaluate our models on our test set, we would use the trained models to predict <code style=\"color:steelblue\">X_test</code> and evaluate the predictions against <code style=\"color:steelblue\">y_test</code>.\n",
    "\n",
    "<hr style=\"border-color:royalblue;background-color:royalblue;height:1px;\">\n",
    "<div style=\"text-align:center; margin: 40px 0 40px 0;\">\n",
    "[**Back to Contents**](#toc)\n",
    "</div>"
   ]
  },
  {
   "cell_type": "markdown",
   "metadata": {},
   "source": [
    "<br id=\"pipelines\">\n",
    "# 2. Build model pipelines\n",
    "\n",
    "In Modules 1, 2, and 3, you explored the dataset, cleaned it, and engineered new features. However, sometimes we'll want to preprocess the training data even more before feeding it into our algorithms. \n",
    "\n",
    "<br>\n",
    "First, let's show the summary statistics from our training data."
   ]
  },
  {
   "cell_type": "code",
   "execution_count": 9,
   "metadata": {
    "collapsed": false
   },
   "outputs": [
    {
     "data": {
      "text/html": [
       "<div>\n",
       "<style>\n",
       "    .dataframe thead tr:only-child th {\n",
       "        text-align: right;\n",
       "    }\n",
       "\n",
       "    .dataframe thead th {\n",
       "        text-align: left;\n",
       "    }\n",
       "\n",
       "    .dataframe tbody tr th {\n",
       "        vertical-align: top;\n",
       "    }\n",
       "</style>\n",
       "<table border=\"1\" class=\"dataframe\">\n",
       "  <thead>\n",
       "    <tr style=\"text-align: right;\">\n",
       "      <th></th>\n",
       "      <th>beds</th>\n",
       "      <th>baths</th>\n",
       "      <th>sqft</th>\n",
       "      <th>lot_size</th>\n",
       "      <th>basement</th>\n",
       "      <th>restaurants</th>\n",
       "      <th>groceries</th>\n",
       "      <th>nightlife</th>\n",
       "      <th>cafes</th>\n",
       "      <th>shopping</th>\n",
       "      <th>arts_entertainment</th>\n",
       "      <th>beauty_spas</th>\n",
       "      <th>active_life</th>\n",
       "      <th>median_age</th>\n",
       "      <th>married</th>\n",
       "      <th>college_grad</th>\n",
       "      <th>property_tax</th>\n",
       "      <th>insurance</th>\n",
       "      <th>median_school</th>\n",
       "      <th>num_schools</th>\n",
       "      <th>two_and_two</th>\n",
       "      <th>during_recession</th>\n",
       "      <th>property_age</th>\n",
       "      <th>school_score</th>\n",
       "      <th>exterior_walls_Brick</th>\n",
       "      <th>exterior_walls_Brick veneer</th>\n",
       "      <th>exterior_walls_Combination</th>\n",
       "      <th>exterior_walls_Metal</th>\n",
       "      <th>exterior_walls_Missing</th>\n",
       "      <th>exterior_walls_Other</th>\n",
       "      <th>exterior_walls_Siding (Alum/Vinyl)</th>\n",
       "      <th>exterior_walls_Wood</th>\n",
       "      <th>roof_Asphalt</th>\n",
       "      <th>roof_Composition Shingle</th>\n",
       "      <th>roof_Other</th>\n",
       "      <th>roof_Shake Shingle</th>\n",
       "      <th>roof_Wood Shake/ Shingles</th>\n",
       "      <th>property_type_Apartment / Condo / Townhouse</th>\n",
       "      <th>property_type_Single-Family</th>\n",
       "    </tr>\n",
       "  </thead>\n",
       "  <tbody>\n",
       "    <tr>\n",
       "      <th>count</th>\n",
       "      <td>1212.000</td>\n",
       "      <td>1212.000</td>\n",
       "      <td>1212.000</td>\n",
       "      <td>1212.000</td>\n",
       "      <td>1212.000</td>\n",
       "      <td>1212.000</td>\n",
       "      <td>1212.000</td>\n",
       "      <td>1212.000</td>\n",
       "      <td>1212.000</td>\n",
       "      <td>1212.000</td>\n",
       "      <td>1212.000</td>\n",
       "      <td>1212.000</td>\n",
       "      <td>1212.000</td>\n",
       "      <td>1212.000</td>\n",
       "      <td>1212.000</td>\n",
       "      <td>1212.000</td>\n",
       "      <td>1212.000</td>\n",
       "      <td>1212.000</td>\n",
       "      <td>1212.000</td>\n",
       "      <td>1212.000</td>\n",
       "      <td>1212.000</td>\n",
       "      <td>1212.000</td>\n",
       "      <td>1212.000</td>\n",
       "      <td>1212.000</td>\n",
       "      <td>1212.000</td>\n",
       "      <td>1212.000</td>\n",
       "      <td>1212.000</td>\n",
       "      <td>1212.000</td>\n",
       "      <td>1212.000</td>\n",
       "      <td>1212.000</td>\n",
       "      <td>1212.000</td>\n",
       "      <td>1212.000</td>\n",
       "      <td>1212.000</td>\n",
       "      <td>1212.000</td>\n",
       "      <td>1212.000</td>\n",
       "      <td>1212.000</td>\n",
       "      <td>1212.000</td>\n",
       "      <td>1212.000</td>\n",
       "      <td>1212.000</td>\n",
       "    </tr>\n",
       "    <tr>\n",
       "      <th>mean</th>\n",
       "      <td>3.372</td>\n",
       "      <td>2.535</td>\n",
       "      <td>2172.466</td>\n",
       "      <td>12731.021</td>\n",
       "      <td>0.882</td>\n",
       "      <td>42.297</td>\n",
       "      <td>4.762</td>\n",
       "      <td>5.389</td>\n",
       "      <td>5.655</td>\n",
       "      <td>42.620</td>\n",
       "      <td>3.597</td>\n",
       "      <td>24.443</td>\n",
       "      <td>16.399</td>\n",
       "      <td>38.781</td>\n",
       "      <td>68.250</td>\n",
       "      <td>65.138</td>\n",
       "      <td>451.401</td>\n",
       "      <td>136.834</td>\n",
       "      <td>6.440</td>\n",
       "      <td>2.809</td>\n",
       "      <td>0.104</td>\n",
       "      <td>0.273</td>\n",
       "      <td>27.729</td>\n",
       "      <td>17.946</td>\n",
       "      <td>0.389</td>\n",
       "      <td>0.031</td>\n",
       "      <td>0.047</td>\n",
       "      <td>0.059</td>\n",
       "      <td>0.094</td>\n",
       "      <td>0.035</td>\n",
       "      <td>0.274</td>\n",
       "      <td>0.072</td>\n",
       "      <td>0.071</td>\n",
       "      <td>0.631</td>\n",
       "      <td>0.059</td>\n",
       "      <td>0.037</td>\n",
       "      <td>0.015</td>\n",
       "      <td>0.432</td>\n",
       "      <td>0.568</td>\n",
       "    </tr>\n",
       "    <tr>\n",
       "      <th>std</th>\n",
       "      <td>1.065</td>\n",
       "      <td>0.913</td>\n",
       "      <td>1212.386</td>\n",
       "      <td>35744.800</td>\n",
       "      <td>0.323</td>\n",
       "      <td>48.361</td>\n",
       "      <td>4.612</td>\n",
       "      <td>8.854</td>\n",
       "      <td>7.895</td>\n",
       "      <td>55.162</td>\n",
       "      <td>4.962</td>\n",
       "      <td>26.573</td>\n",
       "      <td>18.090</td>\n",
       "      <td>6.649</td>\n",
       "      <td>19.850</td>\n",
       "      <td>17.084</td>\n",
       "      <td>204.018</td>\n",
       "      <td>65.064</td>\n",
       "      <td>2.006</td>\n",
       "      <td>0.495</td>\n",
       "      <td>0.305</td>\n",
       "      <td>0.446</td>\n",
       "      <td>20.255</td>\n",
       "      <td>6.475</td>\n",
       "      <td>0.488</td>\n",
       "      <td>0.172</td>\n",
       "      <td>0.212</td>\n",
       "      <td>0.236</td>\n",
       "      <td>0.292</td>\n",
       "      <td>0.183</td>\n",
       "      <td>0.446</td>\n",
       "      <td>0.258</td>\n",
       "      <td>0.257</td>\n",
       "      <td>0.483</td>\n",
       "      <td>0.235</td>\n",
       "      <td>0.189</td>\n",
       "      <td>0.121</td>\n",
       "      <td>0.495</td>\n",
       "      <td>0.495</td>\n",
       "    </tr>\n",
       "    <tr>\n",
       "      <th>min</th>\n",
       "      <td>1.000</td>\n",
       "      <td>1.000</td>\n",
       "      <td>612.000</td>\n",
       "      <td>0.000</td>\n",
       "      <td>0.000</td>\n",
       "      <td>0.000</td>\n",
       "      <td>0.000</td>\n",
       "      <td>0.000</td>\n",
       "      <td>0.000</td>\n",
       "      <td>0.000</td>\n",
       "      <td>0.000</td>\n",
       "      <td>0.000</td>\n",
       "      <td>0.000</td>\n",
       "      <td>22.000</td>\n",
       "      <td>11.000</td>\n",
       "      <td>5.000</td>\n",
       "      <td>88.000</td>\n",
       "      <td>30.000</td>\n",
       "      <td>1.000</td>\n",
       "      <td>1.000</td>\n",
       "      <td>0.000</td>\n",
       "      <td>0.000</td>\n",
       "      <td>1.000</td>\n",
       "      <td>3.000</td>\n",
       "      <td>0.000</td>\n",
       "      <td>0.000</td>\n",
       "      <td>0.000</td>\n",
       "      <td>0.000</td>\n",
       "      <td>0.000</td>\n",
       "      <td>0.000</td>\n",
       "      <td>0.000</td>\n",
       "      <td>0.000</td>\n",
       "      <td>0.000</td>\n",
       "      <td>0.000</td>\n",
       "      <td>0.000</td>\n",
       "      <td>0.000</td>\n",
       "      <td>0.000</td>\n",
       "      <td>0.000</td>\n",
       "      <td>0.000</td>\n",
       "    </tr>\n",
       "    <tr>\n",
       "      <th>25%</th>\n",
       "      <td>3.000</td>\n",
       "      <td>2.000</td>\n",
       "      <td>1302.000</td>\n",
       "      <td>1520.000</td>\n",
       "      <td>1.000</td>\n",
       "      <td>7.000</td>\n",
       "      <td>1.000</td>\n",
       "      <td>0.000</td>\n",
       "      <td>0.000</td>\n",
       "      <td>7.000</td>\n",
       "      <td>0.000</td>\n",
       "      <td>5.000</td>\n",
       "      <td>5.000</td>\n",
       "      <td>34.000</td>\n",
       "      <td>57.000</td>\n",
       "      <td>53.000</td>\n",
       "      <td>315.000</td>\n",
       "      <td>93.000</td>\n",
       "      <td>5.000</td>\n",
       "      <td>3.000</td>\n",
       "      <td>0.000</td>\n",
       "      <td>0.000</td>\n",
       "      <td>11.000</td>\n",
       "      <td>12.000</td>\n",
       "      <td>0.000</td>\n",
       "      <td>0.000</td>\n",
       "      <td>0.000</td>\n",
       "      <td>0.000</td>\n",
       "      <td>0.000</td>\n",
       "      <td>0.000</td>\n",
       "      <td>0.000</td>\n",
       "      <td>0.000</td>\n",
       "      <td>0.000</td>\n",
       "      <td>0.000</td>\n",
       "      <td>0.000</td>\n",
       "      <td>0.000</td>\n",
       "      <td>0.000</td>\n",
       "      <td>0.000</td>\n",
       "      <td>0.000</td>\n",
       "    </tr>\n",
       "    <tr>\n",
       "      <th>50%</th>\n",
       "      <td>3.000</td>\n",
       "      <td>3.000</td>\n",
       "      <td>1800.000</td>\n",
       "      <td>5824.000</td>\n",
       "      <td>1.000</td>\n",
       "      <td>24.500</td>\n",
       "      <td>3.000</td>\n",
       "      <td>2.000</td>\n",
       "      <td>3.000</td>\n",
       "      <td>24.000</td>\n",
       "      <td>2.000</td>\n",
       "      <td>17.000</td>\n",
       "      <td>10.000</td>\n",
       "      <td>38.000</td>\n",
       "      <td>72.000</td>\n",
       "      <td>66.000</td>\n",
       "      <td>409.000</td>\n",
       "      <td>123.000</td>\n",
       "      <td>7.000</td>\n",
       "      <td>3.000</td>\n",
       "      <td>0.000</td>\n",
       "      <td>0.000</td>\n",
       "      <td>24.000</td>\n",
       "      <td>18.000</td>\n",
       "      <td>0.000</td>\n",
       "      <td>0.000</td>\n",
       "      <td>0.000</td>\n",
       "      <td>0.000</td>\n",
       "      <td>0.000</td>\n",
       "      <td>0.000</td>\n",
       "      <td>0.000</td>\n",
       "      <td>0.000</td>\n",
       "      <td>0.000</td>\n",
       "      <td>1.000</td>\n",
       "      <td>0.000</td>\n",
       "      <td>0.000</td>\n",
       "      <td>0.000</td>\n",
       "      <td>0.000</td>\n",
       "      <td>1.000</td>\n",
       "    </tr>\n",
       "    <tr>\n",
       "      <th>75%</th>\n",
       "      <td>4.000</td>\n",
       "      <td>3.000</td>\n",
       "      <td>2728.250</td>\n",
       "      <td>11325.000</td>\n",
       "      <td>1.000</td>\n",
       "      <td>61.000</td>\n",
       "      <td>7.000</td>\n",
       "      <td>6.000</td>\n",
       "      <td>7.000</td>\n",
       "      <td>54.000</td>\n",
       "      <td>5.000</td>\n",
       "      <td>37.000</td>\n",
       "      <td>21.000</td>\n",
       "      <td>43.000</td>\n",
       "      <td>83.000</td>\n",
       "      <td>79.000</td>\n",
       "      <td>552.250</td>\n",
       "      <td>166.000</td>\n",
       "      <td>8.000</td>\n",
       "      <td>3.000</td>\n",
       "      <td>0.000</td>\n",
       "      <td>1.000</td>\n",
       "      <td>41.000</td>\n",
       "      <td>24.000</td>\n",
       "      <td>1.000</td>\n",
       "      <td>0.000</td>\n",
       "      <td>0.000</td>\n",
       "      <td>0.000</td>\n",
       "      <td>0.000</td>\n",
       "      <td>0.000</td>\n",
       "      <td>1.000</td>\n",
       "      <td>0.000</td>\n",
       "      <td>0.000</td>\n",
       "      <td>1.000</td>\n",
       "      <td>0.000</td>\n",
       "      <td>0.000</td>\n",
       "      <td>0.000</td>\n",
       "      <td>1.000</td>\n",
       "      <td>1.000</td>\n",
       "    </tr>\n",
       "    <tr>\n",
       "      <th>max</th>\n",
       "      <td>5.000</td>\n",
       "      <td>6.000</td>\n",
       "      <td>7842.000</td>\n",
       "      <td>436471.000</td>\n",
       "      <td>1.000</td>\n",
       "      <td>266.000</td>\n",
       "      <td>24.000</td>\n",
       "      <td>54.000</td>\n",
       "      <td>47.000</td>\n",
       "      <td>340.000</td>\n",
       "      <td>35.000</td>\n",
       "      <td>177.000</td>\n",
       "      <td>94.000</td>\n",
       "      <td>66.000</td>\n",
       "      <td>100.000</td>\n",
       "      <td>100.000</td>\n",
       "      <td>1941.000</td>\n",
       "      <td>673.000</td>\n",
       "      <td>10.000</td>\n",
       "      <td>4.000</td>\n",
       "      <td>1.000</td>\n",
       "      <td>1.000</td>\n",
       "      <td>114.000</td>\n",
       "      <td>30.000</td>\n",
       "      <td>1.000</td>\n",
       "      <td>1.000</td>\n",
       "      <td>1.000</td>\n",
       "      <td>1.000</td>\n",
       "      <td>1.000</td>\n",
       "      <td>1.000</td>\n",
       "      <td>1.000</td>\n",
       "      <td>1.000</td>\n",
       "      <td>1.000</td>\n",
       "      <td>1.000</td>\n",
       "      <td>1.000</td>\n",
       "      <td>1.000</td>\n",
       "      <td>1.000</td>\n",
       "      <td>1.000</td>\n",
       "      <td>1.000</td>\n",
       "    </tr>\n",
       "  </tbody>\n",
       "</table>\n",
       "</div>"
      ],
      "text/plain": [
       "          beds    baths     sqft   lot_size  basement  restaurants  groceries  \\\n",
       "count 1212.000 1212.000 1212.000   1212.000  1212.000     1212.000   1212.000   \n",
       "mean     3.372    2.535 2172.466  12731.021     0.882       42.297      4.762   \n",
       "std      1.065    0.913 1212.386  35744.800     0.323       48.361      4.612   \n",
       "min      1.000    1.000  612.000      0.000     0.000        0.000      0.000   \n",
       "25%      3.000    2.000 1302.000   1520.000     1.000        7.000      1.000   \n",
       "50%      3.000    3.000 1800.000   5824.000     1.000       24.500      3.000   \n",
       "75%      4.000    3.000 2728.250  11325.000     1.000       61.000      7.000   \n",
       "max      5.000    6.000 7842.000 436471.000     1.000      266.000     24.000   \n",
       "\n",
       "       nightlife    cafes  shopping  arts_entertainment  beauty_spas  \\\n",
       "count   1212.000 1212.000  1212.000            1212.000     1212.000   \n",
       "mean       5.389    5.655    42.620               3.597       24.443   \n",
       "std        8.854    7.895    55.162               4.962       26.573   \n",
       "min        0.000    0.000     0.000               0.000        0.000   \n",
       "25%        0.000    0.000     7.000               0.000        5.000   \n",
       "50%        2.000    3.000    24.000               2.000       17.000   \n",
       "75%        6.000    7.000    54.000               5.000       37.000   \n",
       "max       54.000   47.000   340.000              35.000      177.000   \n",
       "\n",
       "       active_life  median_age  married  college_grad  property_tax  \\\n",
       "count     1212.000    1212.000 1212.000      1212.000      1212.000   \n",
       "mean        16.399      38.781   68.250        65.138       451.401   \n",
       "std         18.090       6.649   19.850        17.084       204.018   \n",
       "min          0.000      22.000   11.000         5.000        88.000   \n",
       "25%          5.000      34.000   57.000        53.000       315.000   \n",
       "50%         10.000      38.000   72.000        66.000       409.000   \n",
       "75%         21.000      43.000   83.000        79.000       552.250   \n",
       "max         94.000      66.000  100.000       100.000      1941.000   \n",
       "\n",
       "       insurance  median_school  num_schools  two_and_two  during_recession  \\\n",
       "count   1212.000       1212.000     1212.000     1212.000          1212.000   \n",
       "mean     136.834          6.440        2.809        0.104             0.273   \n",
       "std       65.064          2.006        0.495        0.305             0.446   \n",
       "min       30.000          1.000        1.000        0.000             0.000   \n",
       "25%       93.000          5.000        3.000        0.000             0.000   \n",
       "50%      123.000          7.000        3.000        0.000             0.000   \n",
       "75%      166.000          8.000        3.000        0.000             1.000   \n",
       "max      673.000         10.000        4.000        1.000             1.000   \n",
       "\n",
       "       property_age  school_score  exterior_walls_Brick  \\\n",
       "count      1212.000      1212.000              1212.000   \n",
       "mean         27.729        17.946                 0.389   \n",
       "std          20.255         6.475                 0.488   \n",
       "min           1.000         3.000                 0.000   \n",
       "25%          11.000        12.000                 0.000   \n",
       "50%          24.000        18.000                 0.000   \n",
       "75%          41.000        24.000                 1.000   \n",
       "max         114.000        30.000                 1.000   \n",
       "\n",
       "       exterior_walls_Brick veneer  exterior_walls_Combination  \\\n",
       "count                     1212.000                    1212.000   \n",
       "mean                         0.031                       0.047   \n",
       "std                          0.172                       0.212   \n",
       "min                          0.000                       0.000   \n",
       "25%                          0.000                       0.000   \n",
       "50%                          0.000                       0.000   \n",
       "75%                          0.000                       0.000   \n",
       "max                          1.000                       1.000   \n",
       "\n",
       "       exterior_walls_Metal  exterior_walls_Missing  exterior_walls_Other  \\\n",
       "count              1212.000                1212.000              1212.000   \n",
       "mean                  0.059                   0.094                 0.035   \n",
       "std                   0.236                   0.292                 0.183   \n",
       "min                   0.000                   0.000                 0.000   \n",
       "25%                   0.000                   0.000                 0.000   \n",
       "50%                   0.000                   0.000                 0.000   \n",
       "75%                   0.000                   0.000                 0.000   \n",
       "max                   1.000                   1.000                 1.000   \n",
       "\n",
       "       exterior_walls_Siding (Alum/Vinyl)  exterior_walls_Wood  roof_Asphalt  \\\n",
       "count                            1212.000             1212.000      1212.000   \n",
       "mean                                0.274                0.072         0.071   \n",
       "std                                 0.446                0.258         0.257   \n",
       "min                                 0.000                0.000         0.000   \n",
       "25%                                 0.000                0.000         0.000   \n",
       "50%                                 0.000                0.000         0.000   \n",
       "75%                                 1.000                0.000         0.000   \n",
       "max                                 1.000                1.000         1.000   \n",
       "\n",
       "       roof_Composition Shingle  roof_Other  roof_Shake Shingle  \\\n",
       "count                  1212.000    1212.000            1212.000   \n",
       "mean                      0.631       0.059               0.037   \n",
       "std                       0.483       0.235               0.189   \n",
       "min                       0.000       0.000               0.000   \n",
       "25%                       0.000       0.000               0.000   \n",
       "50%                       1.000       0.000               0.000   \n",
       "75%                       1.000       0.000               0.000   \n",
       "max                       1.000       1.000               1.000   \n",
       "\n",
       "       roof_Wood Shake/ Shingles  property_type_Apartment / Condo / Townhouse  \\\n",
       "count                   1212.000                                     1212.000   \n",
       "mean                       0.015                                        0.432   \n",
       "std                        0.121                                        0.495   \n",
       "min                        0.000                                        0.000   \n",
       "25%                        0.000                                        0.000   \n",
       "50%                        0.000                                        0.000   \n",
       "75%                        0.000                                        1.000   \n",
       "max                        1.000                                        1.000   \n",
       "\n",
       "       property_type_Single-Family  \n",
       "count                     1212.000  \n",
       "mean                         0.568  \n",
       "std                          0.495  \n",
       "min                          0.000  \n",
       "25%                          0.000  \n",
       "50%                          1.000  \n",
       "75%                          1.000  \n",
       "max                          1.000  "
      ]
     },
     "execution_count": 9,
     "metadata": {},
     "output_type": "execute_result"
    }
   ],
   "source": [
    "# Summary statistics of X_train\n",
    "X_train.describe()"
   ]
  },
  {
   "cell_type": "markdown",
   "metadata": {},
   "source": [
    "Next, standardize the training data manually, creating a new <code style=\"color:steelblue\">X_train_new</code> object."
   ]
  },
  {
   "cell_type": "code",
   "execution_count": 10,
   "metadata": {
    "collapsed": false
   },
   "outputs": [],
   "source": [
    "# Standardize X_train\n",
    "X_train_new = (X_train - X_train.mean()) / X_train.std()"
   ]
  },
  {
   "cell_type": "markdown",
   "metadata": {},
   "source": [
    "Let's look at the summary statistics for <code style=\"color:steelblue\">X_train_new</code> to confirm standarization worked correctly.\n",
    "* How can you tell?"
   ]
  },
  {
   "cell_type": "code",
   "execution_count": 11,
   "metadata": {
    "collapsed": false
   },
   "outputs": [
    {
     "data": {
      "text/html": [
       "<div>\n",
       "<style>\n",
       "    .dataframe thead tr:only-child th {\n",
       "        text-align: right;\n",
       "    }\n",
       "\n",
       "    .dataframe thead th {\n",
       "        text-align: left;\n",
       "    }\n",
       "\n",
       "    .dataframe tbody tr th {\n",
       "        vertical-align: top;\n",
       "    }\n",
       "</style>\n",
       "<table border=\"1\" class=\"dataframe\">\n",
       "  <thead>\n",
       "    <tr style=\"text-align: right;\">\n",
       "      <th></th>\n",
       "      <th>beds</th>\n",
       "      <th>baths</th>\n",
       "      <th>sqft</th>\n",
       "      <th>lot_size</th>\n",
       "      <th>basement</th>\n",
       "      <th>restaurants</th>\n",
       "      <th>groceries</th>\n",
       "      <th>nightlife</th>\n",
       "      <th>cafes</th>\n",
       "      <th>shopping</th>\n",
       "      <th>arts_entertainment</th>\n",
       "      <th>beauty_spas</th>\n",
       "      <th>active_life</th>\n",
       "      <th>median_age</th>\n",
       "      <th>married</th>\n",
       "      <th>college_grad</th>\n",
       "      <th>property_tax</th>\n",
       "      <th>insurance</th>\n",
       "      <th>median_school</th>\n",
       "      <th>num_schools</th>\n",
       "      <th>two_and_two</th>\n",
       "      <th>during_recession</th>\n",
       "      <th>property_age</th>\n",
       "      <th>school_score</th>\n",
       "      <th>exterior_walls_Brick</th>\n",
       "      <th>exterior_walls_Brick veneer</th>\n",
       "      <th>exterior_walls_Combination</th>\n",
       "      <th>exterior_walls_Metal</th>\n",
       "      <th>exterior_walls_Missing</th>\n",
       "      <th>exterior_walls_Other</th>\n",
       "      <th>exterior_walls_Siding (Alum/Vinyl)</th>\n",
       "      <th>exterior_walls_Wood</th>\n",
       "      <th>roof_Asphalt</th>\n",
       "      <th>roof_Composition Shingle</th>\n",
       "      <th>roof_Other</th>\n",
       "      <th>roof_Shake Shingle</th>\n",
       "      <th>roof_Wood Shake/ Shingles</th>\n",
       "      <th>property_type_Apartment / Condo / Townhouse</th>\n",
       "      <th>property_type_Single-Family</th>\n",
       "    </tr>\n",
       "  </thead>\n",
       "  <tbody>\n",
       "    <tr>\n",
       "      <th>count</th>\n",
       "      <td>1212.000</td>\n",
       "      <td>1212.000</td>\n",
       "      <td>1212.000</td>\n",
       "      <td>1212.000</td>\n",
       "      <td>1212.000</td>\n",
       "      <td>1212.000</td>\n",
       "      <td>1212.000</td>\n",
       "      <td>1212.000</td>\n",
       "      <td>1212.000</td>\n",
       "      <td>1212.000</td>\n",
       "      <td>1212.000</td>\n",
       "      <td>1212.000</td>\n",
       "      <td>1212.000</td>\n",
       "      <td>1212.000</td>\n",
       "      <td>1212.000</td>\n",
       "      <td>1212.000</td>\n",
       "      <td>1212.000</td>\n",
       "      <td>1212.000</td>\n",
       "      <td>1212.000</td>\n",
       "      <td>1212.000</td>\n",
       "      <td>1212.000</td>\n",
       "      <td>1212.000</td>\n",
       "      <td>1212.000</td>\n",
       "      <td>1212.000</td>\n",
       "      <td>1212.000</td>\n",
       "      <td>1212.000</td>\n",
       "      <td>1212.000</td>\n",
       "      <td>1212.000</td>\n",
       "      <td>1212.000</td>\n",
       "      <td>1212.000</td>\n",
       "      <td>1212.000</td>\n",
       "      <td>1212.000</td>\n",
       "      <td>1212.000</td>\n",
       "      <td>1212.000</td>\n",
       "      <td>1212.000</td>\n",
       "      <td>1212.000</td>\n",
       "      <td>1212.000</td>\n",
       "      <td>1212.000</td>\n",
       "      <td>1212.000</td>\n",
       "    </tr>\n",
       "    <tr>\n",
       "      <th>mean</th>\n",
       "      <td>0.000</td>\n",
       "      <td>-0.000</td>\n",
       "      <td>-0.000</td>\n",
       "      <td>-0.000</td>\n",
       "      <td>0.000</td>\n",
       "      <td>-0.000</td>\n",
       "      <td>0.000</td>\n",
       "      <td>0.000</td>\n",
       "      <td>-0.000</td>\n",
       "      <td>-0.000</td>\n",
       "      <td>0.000</td>\n",
       "      <td>0.000</td>\n",
       "      <td>-0.000</td>\n",
       "      <td>0.000</td>\n",
       "      <td>0.000</td>\n",
       "      <td>-0.000</td>\n",
       "      <td>-0.000</td>\n",
       "      <td>0.000</td>\n",
       "      <td>-0.000</td>\n",
       "      <td>-0.000</td>\n",
       "      <td>0.000</td>\n",
       "      <td>0.000</td>\n",
       "      <td>0.000</td>\n",
       "      <td>0.000</td>\n",
       "      <td>0.000</td>\n",
       "      <td>-0.000</td>\n",
       "      <td>-0.000</td>\n",
       "      <td>-0.000</td>\n",
       "      <td>-0.000</td>\n",
       "      <td>-0.000</td>\n",
       "      <td>-0.000</td>\n",
       "      <td>-0.000</td>\n",
       "      <td>0.000</td>\n",
       "      <td>0.000</td>\n",
       "      <td>0.000</td>\n",
       "      <td>-0.000</td>\n",
       "      <td>-0.000</td>\n",
       "      <td>0.000</td>\n",
       "      <td>-0.000</td>\n",
       "    </tr>\n",
       "    <tr>\n",
       "      <th>std</th>\n",
       "      <td>1.000</td>\n",
       "      <td>1.000</td>\n",
       "      <td>1.000</td>\n",
       "      <td>1.000</td>\n",
       "      <td>1.000</td>\n",
       "      <td>1.000</td>\n",
       "      <td>1.000</td>\n",
       "      <td>1.000</td>\n",
       "      <td>1.000</td>\n",
       "      <td>1.000</td>\n",
       "      <td>1.000</td>\n",
       "      <td>1.000</td>\n",
       "      <td>1.000</td>\n",
       "      <td>1.000</td>\n",
       "      <td>1.000</td>\n",
       "      <td>1.000</td>\n",
       "      <td>1.000</td>\n",
       "      <td>1.000</td>\n",
       "      <td>1.000</td>\n",
       "      <td>1.000</td>\n",
       "      <td>1.000</td>\n",
       "      <td>1.000</td>\n",
       "      <td>1.000</td>\n",
       "      <td>1.000</td>\n",
       "      <td>1.000</td>\n",
       "      <td>1.000</td>\n",
       "      <td>1.000</td>\n",
       "      <td>1.000</td>\n",
       "      <td>1.000</td>\n",
       "      <td>1.000</td>\n",
       "      <td>1.000</td>\n",
       "      <td>1.000</td>\n",
       "      <td>1.000</td>\n",
       "      <td>1.000</td>\n",
       "      <td>1.000</td>\n",
       "      <td>1.000</td>\n",
       "      <td>1.000</td>\n",
       "      <td>1.000</td>\n",
       "      <td>1.000</td>\n",
       "    </tr>\n",
       "    <tr>\n",
       "      <th>min</th>\n",
       "      <td>-2.228</td>\n",
       "      <td>-1.681</td>\n",
       "      <td>-1.287</td>\n",
       "      <td>-0.356</td>\n",
       "      <td>-2.733</td>\n",
       "      <td>-0.875</td>\n",
       "      <td>-1.032</td>\n",
       "      <td>-0.609</td>\n",
       "      <td>-0.716</td>\n",
       "      <td>-0.773</td>\n",
       "      <td>-0.725</td>\n",
       "      <td>-0.920</td>\n",
       "      <td>-0.906</td>\n",
       "      <td>-2.524</td>\n",
       "      <td>-2.884</td>\n",
       "      <td>-3.520</td>\n",
       "      <td>-1.781</td>\n",
       "      <td>-1.642</td>\n",
       "      <td>-2.712</td>\n",
       "      <td>-3.654</td>\n",
       "      <td>-0.340</td>\n",
       "      <td>-0.613</td>\n",
       "      <td>-1.320</td>\n",
       "      <td>-2.308</td>\n",
       "      <td>-0.797</td>\n",
       "      <td>-0.177</td>\n",
       "      <td>-0.222</td>\n",
       "      <td>-0.251</td>\n",
       "      <td>-0.322</td>\n",
       "      <td>-0.189</td>\n",
       "      <td>-0.614</td>\n",
       "      <td>-0.278</td>\n",
       "      <td>-0.276</td>\n",
       "      <td>-1.308</td>\n",
       "      <td>-0.249</td>\n",
       "      <td>-0.196</td>\n",
       "      <td>-0.123</td>\n",
       "      <td>-0.871</td>\n",
       "      <td>-1.147</td>\n",
       "    </tr>\n",
       "    <tr>\n",
       "      <th>25%</th>\n",
       "      <td>-0.349</td>\n",
       "      <td>-0.586</td>\n",
       "      <td>-0.718</td>\n",
       "      <td>-0.314</td>\n",
       "      <td>0.366</td>\n",
       "      <td>-0.730</td>\n",
       "      <td>-0.816</td>\n",
       "      <td>-0.609</td>\n",
       "      <td>-0.716</td>\n",
       "      <td>-0.646</td>\n",
       "      <td>-0.725</td>\n",
       "      <td>-0.732</td>\n",
       "      <td>-0.630</td>\n",
       "      <td>-0.719</td>\n",
       "      <td>-0.567</td>\n",
       "      <td>-0.710</td>\n",
       "      <td>-0.669</td>\n",
       "      <td>-0.674</td>\n",
       "      <td>-0.718</td>\n",
       "      <td>0.385</td>\n",
       "      <td>-0.340</td>\n",
       "      <td>-0.613</td>\n",
       "      <td>-0.826</td>\n",
       "      <td>-0.918</td>\n",
       "      <td>-0.797</td>\n",
       "      <td>-0.177</td>\n",
       "      <td>-0.222</td>\n",
       "      <td>-0.251</td>\n",
       "      <td>-0.322</td>\n",
       "      <td>-0.189</td>\n",
       "      <td>-0.614</td>\n",
       "      <td>-0.278</td>\n",
       "      <td>-0.276</td>\n",
       "      <td>-1.308</td>\n",
       "      <td>-0.249</td>\n",
       "      <td>-0.196</td>\n",
       "      <td>-0.123</td>\n",
       "      <td>-0.871</td>\n",
       "      <td>-1.147</td>\n",
       "    </tr>\n",
       "    <tr>\n",
       "      <th>50%</th>\n",
       "      <td>-0.349</td>\n",
       "      <td>0.510</td>\n",
       "      <td>-0.307</td>\n",
       "      <td>-0.193</td>\n",
       "      <td>0.366</td>\n",
       "      <td>-0.368</td>\n",
       "      <td>-0.382</td>\n",
       "      <td>-0.383</td>\n",
       "      <td>-0.336</td>\n",
       "      <td>-0.338</td>\n",
       "      <td>-0.322</td>\n",
       "      <td>-0.280</td>\n",
       "      <td>-0.354</td>\n",
       "      <td>-0.118</td>\n",
       "      <td>0.189</td>\n",
       "      <td>0.050</td>\n",
       "      <td>-0.208</td>\n",
       "      <td>-0.213</td>\n",
       "      <td>0.279</td>\n",
       "      <td>0.385</td>\n",
       "      <td>-0.340</td>\n",
       "      <td>-0.613</td>\n",
       "      <td>-0.184</td>\n",
       "      <td>0.008</td>\n",
       "      <td>-0.797</td>\n",
       "      <td>-0.177</td>\n",
       "      <td>-0.222</td>\n",
       "      <td>-0.251</td>\n",
       "      <td>-0.322</td>\n",
       "      <td>-0.189</td>\n",
       "      <td>-0.614</td>\n",
       "      <td>-0.278</td>\n",
       "      <td>-0.276</td>\n",
       "      <td>0.764</td>\n",
       "      <td>-0.249</td>\n",
       "      <td>-0.196</td>\n",
       "      <td>-0.123</td>\n",
       "      <td>-0.871</td>\n",
       "      <td>0.871</td>\n",
       "    </tr>\n",
       "    <tr>\n",
       "      <th>75%</th>\n",
       "      <td>0.590</td>\n",
       "      <td>0.510</td>\n",
       "      <td>0.458</td>\n",
       "      <td>-0.039</td>\n",
       "      <td>0.366</td>\n",
       "      <td>0.387</td>\n",
       "      <td>0.485</td>\n",
       "      <td>0.069</td>\n",
       "      <td>0.170</td>\n",
       "      <td>0.206</td>\n",
       "      <td>0.283</td>\n",
       "      <td>0.473</td>\n",
       "      <td>0.254</td>\n",
       "      <td>0.634</td>\n",
       "      <td>0.743</td>\n",
       "      <td>0.811</td>\n",
       "      <td>0.494</td>\n",
       "      <td>0.448</td>\n",
       "      <td>0.778</td>\n",
       "      <td>0.385</td>\n",
       "      <td>-0.340</td>\n",
       "      <td>1.631</td>\n",
       "      <td>0.655</td>\n",
       "      <td>0.935</td>\n",
       "      <td>1.254</td>\n",
       "      <td>-0.177</td>\n",
       "      <td>-0.222</td>\n",
       "      <td>-0.251</td>\n",
       "      <td>-0.322</td>\n",
       "      <td>-0.189</td>\n",
       "      <td>1.627</td>\n",
       "      <td>-0.278</td>\n",
       "      <td>-0.276</td>\n",
       "      <td>0.764</td>\n",
       "      <td>-0.249</td>\n",
       "      <td>-0.196</td>\n",
       "      <td>-0.123</td>\n",
       "      <td>1.147</td>\n",
       "      <td>0.871</td>\n",
       "    </tr>\n",
       "    <tr>\n",
       "      <th>max</th>\n",
       "      <td>1.529</td>\n",
       "      <td>3.795</td>\n",
       "      <td>4.676</td>\n",
       "      <td>11.855</td>\n",
       "      <td>0.366</td>\n",
       "      <td>4.626</td>\n",
       "      <td>4.172</td>\n",
       "      <td>5.490</td>\n",
       "      <td>5.237</td>\n",
       "      <td>5.391</td>\n",
       "      <td>6.329</td>\n",
       "      <td>5.741</td>\n",
       "      <td>4.290</td>\n",
       "      <td>4.094</td>\n",
       "      <td>1.600</td>\n",
       "      <td>2.041</td>\n",
       "      <td>7.301</td>\n",
       "      <td>8.241</td>\n",
       "      <td>1.775</td>\n",
       "      <td>2.404</td>\n",
       "      <td>2.935</td>\n",
       "      <td>1.631</td>\n",
       "      <td>4.259</td>\n",
       "      <td>1.862</td>\n",
       "      <td>1.254</td>\n",
       "      <td>5.633</td>\n",
       "      <td>4.500</td>\n",
       "      <td>3.977</td>\n",
       "      <td>3.102</td>\n",
       "      <td>5.276</td>\n",
       "      <td>1.627</td>\n",
       "      <td>3.594</td>\n",
       "      <td>3.617</td>\n",
       "      <td>0.764</td>\n",
       "      <td>4.007</td>\n",
       "      <td>5.090</td>\n",
       "      <td>8.141</td>\n",
       "      <td>1.147</td>\n",
       "      <td>0.871</td>\n",
       "    </tr>\n",
       "  </tbody>\n",
       "</table>\n",
       "</div>"
      ],
      "text/plain": [
       "          beds    baths     sqft  lot_size  basement  restaurants  groceries  \\\n",
       "count 1212.000 1212.000 1212.000  1212.000  1212.000     1212.000   1212.000   \n",
       "mean     0.000   -0.000   -0.000    -0.000     0.000       -0.000      0.000   \n",
       "std      1.000    1.000    1.000     1.000     1.000        1.000      1.000   \n",
       "min     -2.228   -1.681   -1.287    -0.356    -2.733       -0.875     -1.032   \n",
       "25%     -0.349   -0.586   -0.718    -0.314     0.366       -0.730     -0.816   \n",
       "50%     -0.349    0.510   -0.307    -0.193     0.366       -0.368     -0.382   \n",
       "75%      0.590    0.510    0.458    -0.039     0.366        0.387      0.485   \n",
       "max      1.529    3.795    4.676    11.855     0.366        4.626      4.172   \n",
       "\n",
       "       nightlife    cafes  shopping  arts_entertainment  beauty_spas  \\\n",
       "count   1212.000 1212.000  1212.000            1212.000     1212.000   \n",
       "mean       0.000   -0.000    -0.000               0.000        0.000   \n",
       "std        1.000    1.000     1.000               1.000        1.000   \n",
       "min       -0.609   -0.716    -0.773              -0.725       -0.920   \n",
       "25%       -0.609   -0.716    -0.646              -0.725       -0.732   \n",
       "50%       -0.383   -0.336    -0.338              -0.322       -0.280   \n",
       "75%        0.069    0.170     0.206               0.283        0.473   \n",
       "max        5.490    5.237     5.391               6.329        5.741   \n",
       "\n",
       "       active_life  median_age  married  college_grad  property_tax  \\\n",
       "count     1212.000    1212.000 1212.000      1212.000      1212.000   \n",
       "mean        -0.000       0.000    0.000        -0.000        -0.000   \n",
       "std          1.000       1.000    1.000         1.000         1.000   \n",
       "min         -0.906      -2.524   -2.884        -3.520        -1.781   \n",
       "25%         -0.630      -0.719   -0.567        -0.710        -0.669   \n",
       "50%         -0.354      -0.118    0.189         0.050        -0.208   \n",
       "75%          0.254       0.634    0.743         0.811         0.494   \n",
       "max          4.290       4.094    1.600         2.041         7.301   \n",
       "\n",
       "       insurance  median_school  num_schools  two_and_two  during_recession  \\\n",
       "count   1212.000       1212.000     1212.000     1212.000          1212.000   \n",
       "mean       0.000         -0.000       -0.000        0.000             0.000   \n",
       "std        1.000          1.000        1.000        1.000             1.000   \n",
       "min       -1.642         -2.712       -3.654       -0.340            -0.613   \n",
       "25%       -0.674         -0.718        0.385       -0.340            -0.613   \n",
       "50%       -0.213          0.279        0.385       -0.340            -0.613   \n",
       "75%        0.448          0.778        0.385       -0.340             1.631   \n",
       "max        8.241          1.775        2.404        2.935             1.631   \n",
       "\n",
       "       property_age  school_score  exterior_walls_Brick  \\\n",
       "count      1212.000      1212.000              1212.000   \n",
       "mean          0.000         0.000                 0.000   \n",
       "std           1.000         1.000                 1.000   \n",
       "min          -1.320        -2.308                -0.797   \n",
       "25%          -0.826        -0.918                -0.797   \n",
       "50%          -0.184         0.008                -0.797   \n",
       "75%           0.655         0.935                 1.254   \n",
       "max           4.259         1.862                 1.254   \n",
       "\n",
       "       exterior_walls_Brick veneer  exterior_walls_Combination  \\\n",
       "count                     1212.000                    1212.000   \n",
       "mean                        -0.000                      -0.000   \n",
       "std                          1.000                       1.000   \n",
       "min                         -0.177                      -0.222   \n",
       "25%                         -0.177                      -0.222   \n",
       "50%                         -0.177                      -0.222   \n",
       "75%                         -0.177                      -0.222   \n",
       "max                          5.633                       4.500   \n",
       "\n",
       "       exterior_walls_Metal  exterior_walls_Missing  exterior_walls_Other  \\\n",
       "count              1212.000                1212.000              1212.000   \n",
       "mean                 -0.000                  -0.000                -0.000   \n",
       "std                   1.000                   1.000                 1.000   \n",
       "min                  -0.251                  -0.322                -0.189   \n",
       "25%                  -0.251                  -0.322                -0.189   \n",
       "50%                  -0.251                  -0.322                -0.189   \n",
       "75%                  -0.251                  -0.322                -0.189   \n",
       "max                   3.977                   3.102                 5.276   \n",
       "\n",
       "       exterior_walls_Siding (Alum/Vinyl)  exterior_walls_Wood  roof_Asphalt  \\\n",
       "count                            1212.000             1212.000      1212.000   \n",
       "mean                               -0.000               -0.000         0.000   \n",
       "std                                 1.000                1.000         1.000   \n",
       "min                                -0.614               -0.278        -0.276   \n",
       "25%                                -0.614               -0.278        -0.276   \n",
       "50%                                -0.614               -0.278        -0.276   \n",
       "75%                                 1.627               -0.278        -0.276   \n",
       "max                                 1.627                3.594         3.617   \n",
       "\n",
       "       roof_Composition Shingle  roof_Other  roof_Shake Shingle  \\\n",
       "count                  1212.000    1212.000            1212.000   \n",
       "mean                      0.000       0.000              -0.000   \n",
       "std                       1.000       1.000               1.000   \n",
       "min                      -1.308      -0.249              -0.196   \n",
       "25%                      -1.308      -0.249              -0.196   \n",
       "50%                       0.764      -0.249              -0.196   \n",
       "75%                       0.764      -0.249              -0.196   \n",
       "max                       0.764       4.007               5.090   \n",
       "\n",
       "       roof_Wood Shake/ Shingles  property_type_Apartment / Condo / Townhouse  \\\n",
       "count                   1212.000                                     1212.000   \n",
       "mean                      -0.000                                        0.000   \n",
       "std                        1.000                                        1.000   \n",
       "min                       -0.123                                       -0.871   \n",
       "25%                       -0.123                                       -0.871   \n",
       "50%                       -0.123                                       -0.871   \n",
       "75%                       -0.123                                        1.147   \n",
       "max                        8.141                                        1.147   \n",
       "\n",
       "       property_type_Single-Family  \n",
       "count                     1212.000  \n",
       "mean                        -0.000  \n",
       "std                          1.000  \n",
       "min                         -1.147  \n",
       "25%                         -1.147  \n",
       "50%                          0.871  \n",
       "75%                          0.871  \n",
       "max                          0.871  "
      ]
     },
     "execution_count": 11,
     "metadata": {},
     "output_type": "execute_result"
    }
   ],
   "source": [
    "# Summary statistics of X_train_new\n",
    "X_train_new.describe()"
   ]
  },
  {
   "cell_type": "markdown",
   "metadata": {},
   "source": [
    "For the most part, we'll almost never perform manual standardization because we'll include preprocessing steps in **model pipelines**.\n",
    "\n",
    "<br>\n",
    "So let's import the <code style=\"color:steelblue\">make_pipeline()</code> function from Scikit-Learn."
   ]
  },
  {
   "cell_type": "code",
   "execution_count": 12,
   "metadata": {
    "collapsed": true
   },
   "outputs": [],
   "source": [
    "# Function for creating model pipelines\n",
    "from sklearn.pipeline import make_pipeline\n"
   ]
  },
  {
   "cell_type": "markdown",
   "metadata": {},
   "source": [
    "Now let's import the <code style=\"color:steelblue\">StandardScaler</code>, which is used for standardization."
   ]
  },
  {
   "cell_type": "code",
   "execution_count": 13,
   "metadata": {
    "collapsed": true
   },
   "outputs": [],
   "source": [
    "# For standardization\n",
    "from sklearn.preprocessing import StandardScaler"
   ]
  },
  {
   "cell_type": "markdown",
   "metadata": {},
   "source": [
    "Next, create a <code style=\"color:steelblue\">pipelines</code> dictionary.\n",
    "* It should include 3 keys: <code style=\"color:crimson\">'lasso'</code>, <code style=\"color:crimson\">'ridge'</code>, and <code style=\"color:crimson\">'enet'</code>\n",
    "* The corresponding values should be pipelines that first standardize the data.\n",
    "* For the algorithm in each pipeline, set <code style=\"color:steelblue\">random_state=<span style=\"color:crimson\">123</span></code> to ensure replicable results."
   ]
  },
  {
   "cell_type": "code",
   "execution_count": 14,
   "metadata": {
    "collapsed": false
   },
   "outputs": [],
   "source": [
    "# Create pipelines dictionary\n",
    "pipelines = {\n",
    "    'lasso':make_pipeline(StandardScaler(), Lasso(random_state=123)),\n",
    "    'ridge':make_pipeline(StandardScaler(), Ridge(random_state=123)),\n",
    "    'enet': make_pipeline(StandardScaler(), ElasticNet(random_state=123))\n",
    "}"
   ]
  },
  {
   "cell_type": "markdown",
   "metadata": {},
   "source": [
    "In the next exercise, you'll add pipelines for tree ensembles."
   ]
  },
  {
   "cell_type": "markdown",
   "metadata": {},
   "source": [
    "<hr style=\"border-color:royalblue;background-color:royalblue;height:1px;\">\n",
    "## <span style=\"color:RoyalBlue\">Exercise 5.2</span>\n",
    "\n",
    "**Add pipelines for <code style=\"color:SteelBlue\">RandomForestRegressor</code> and <code style=\"color:SteelBlue\">GradientBoostingRegressor</code> to your pipeline dictionary.**\n",
    "* Name them <code style=\"color:crimson\">'rf'</code> for random forest and <code style=\"color:crimson\">'gb'</code> for gradient boosted tree.\n",
    "* Both pipelines should standardize the data first.\n",
    "* For both, set <code style=\"color:steelblue\">random_state=<span style=\"color:crimson\">123</span></code> to ensure replicable results."
   ]
  },
  {
   "cell_type": "code",
   "execution_count": 15,
   "metadata": {
    "collapsed": false
   },
   "outputs": [],
   "source": [
    "# Add a pipeline for 'rf'\n",
    "pipelines['rf'] = make_pipeline(StandardScaler(), RandomForestRegressor(random_state=123))\n",
    "# Add a pipeline for 'gb'\n",
    "pipelines['gb'] = make_pipeline(StandardScaler(), GradientBoostingRegressor(random_state=123))\n"
   ]
  },
  {
   "cell_type": "markdown",
   "metadata": {},
   "source": [
    "Let's make sure our dictionary has pipelines for each of our algorithms.\n",
    "\n",
    "<br>\n",
    "**Run this code to confirm that you have all 5 algorithms, each part of a pipeline.**"
   ]
  },
  {
   "cell_type": "code",
   "execution_count": 16,
   "metadata": {
    "collapsed": false
   },
   "outputs": [
    {
     "name": "stdout",
     "output_type": "stream",
     "text": [
      "lasso <class 'sklearn.pipeline.Pipeline'>\n",
      "ridge <class 'sklearn.pipeline.Pipeline'>\n",
      "enet <class 'sklearn.pipeline.Pipeline'>\n",
      "rf <class 'sklearn.pipeline.Pipeline'>\n",
      "gb <class 'sklearn.pipeline.Pipeline'>\n"
     ]
    }
   ],
   "source": [
    "# Check that we have all 5 algorithms, and that they are all pipelines\n",
    "for key, value in pipelines.items():\n",
    "    print( key, type(value) )"
   ]
  },
  {
   "cell_type": "markdown",
   "metadata": {},
   "source": [
    "Now that we have our pipelines, we're ready to move on to declaring hyperparameters to tune.\n",
    "\n",
    "<hr style=\"border-color:royalblue;background-color:royalblue;height:1px;\">\n",
    "\n",
    "<div style=\"text-align:center; margin: 40px 0 40px 0;\">\n",
    "[**Back to Contents**](#toc)\n",
    "</div>\n"
   ]
  },
  {
   "cell_type": "markdown",
   "metadata": {},
   "source": [
    "<br id=\"hyperparameters\">\n",
    "# 3. Declare hyperparameters to tune\n",
    "\n",
    "Up to now, we've been casually talking about \"tuning\" models, but now it's time to treat the topic more formally.\n",
    "\n",
    "<br>\n",
    "First, list all the tunable hyperparameters for your Lasso regression pipeline."
   ]
  },
  {
   "cell_type": "code",
   "execution_count": 17,
   "metadata": {
    "collapsed": false
   },
   "outputs": [
    {
     "data": {
      "text/plain": [
       "{'lasso': Lasso(alpha=1.0, copy_X=True, fit_intercept=True, max_iter=1000,\n",
       "    normalize=False, positive=False, precompute=False, random_state=123,\n",
       "    selection='cyclic', tol=0.0001, warm_start=False),\n",
       " 'lasso__alpha': 1.0,\n",
       " 'lasso__copy_X': True,\n",
       " 'lasso__fit_intercept': True,\n",
       " 'lasso__max_iter': 1000,\n",
       " 'lasso__normalize': False,\n",
       " 'lasso__positive': False,\n",
       " 'lasso__precompute': False,\n",
       " 'lasso__random_state': 123,\n",
       " 'lasso__selection': 'cyclic',\n",
       " 'lasso__tol': 0.0001,\n",
       " 'lasso__warm_start': False,\n",
       " 'standardscaler': StandardScaler(copy=True, with_mean=True, with_std=True),\n",
       " 'standardscaler__copy': True,\n",
       " 'standardscaler__with_mean': True,\n",
       " 'standardscaler__with_std': True,\n",
       " 'steps': [('standardscaler',\n",
       "   StandardScaler(copy=True, with_mean=True, with_std=True)),\n",
       "  ('lasso', Lasso(alpha=1.0, copy_X=True, fit_intercept=True, max_iter=1000,\n",
       "      normalize=False, positive=False, precompute=False, random_state=123,\n",
       "      selection='cyclic', tol=0.0001, warm_start=False))]}"
      ]
     },
     "execution_count": 17,
     "metadata": {},
     "output_type": "execute_result"
    }
   ],
   "source": [
    "# List tuneable hyperparameters of our Lasso pipeline\n",
    "pipelines['lasso'].get_params()"
   ]
  },
  {
   "cell_type": "markdown",
   "metadata": {},
   "source": [
    "Next, declare hyperparameters to tune for Lasso and Ridge regression.\n",
    "* Try values between 0.001 and 10 for <code style=\"color:steelblue\">alpha</code>."
   ]
  },
  {
   "cell_type": "code",
   "execution_count": 18,
   "metadata": {
    "collapsed": true
   },
   "outputs": [],
   "source": [
    "# Lasso hyperparameters\n",
    "lasso_hyperparameters = {\n",
    "    'lasso__alpha' :[0.001, 0.005, 0.01, 0.05, 0.1, 0.5,1,  5, 10]\n",
    "}\n",
    "# Ridge hyperparameters\n",
    "ridge_hyperparameters = {\n",
    "    'ridge__alpha':[0.001, 0.005, 0.01, 0.05, 0.1, 0.5,1,  5, 10]\n",
    "}"
   ]
  },
  {
   "cell_type": "markdown",
   "metadata": {},
   "source": [
    "Now declare a hyperparameter grid fo Elastic-Net.\n",
    "* You should tune the <code style=\"color:steelblue\">l1_ratio</code> in addition to <code style=\"color:steelblue\">alpha</code>."
   ]
  },
  {
   "cell_type": "code",
   "execution_count": 19,
   "metadata": {
    "collapsed": false
   },
   "outputs": [],
   "source": [
    "# Elastic Net hyperparameters\n",
    "enet_hyperparameters = {\n",
    "    'elasticnet__alpha': [0.001, 0.05, 0.1, 0.5, 1, 2, 5, 9],\n",
    "    'elasticnet__l1_ratio': [0.1, 0.2, 0.4, 0.6, 0.8, 0.9]\n",
    "}"
   ]
  },
  {
   "cell_type": "code",
   "execution_count": 20,
   "metadata": {
    "collapsed": false
   },
   "outputs": [
    {
     "data": {
      "text/plain": [
       "{'ridge': Ridge(alpha=1.0, copy_X=True, fit_intercept=True, max_iter=None,\n",
       "    normalize=False, random_state=123, solver='auto', tol=0.001),\n",
       " 'ridge__alpha': 1.0,\n",
       " 'ridge__copy_X': True,\n",
       " 'ridge__fit_intercept': True,\n",
       " 'ridge__max_iter': None,\n",
       " 'ridge__normalize': False,\n",
       " 'ridge__random_state': 123,\n",
       " 'ridge__solver': 'auto',\n",
       " 'ridge__tol': 0.001,\n",
       " 'standardscaler': StandardScaler(copy=True, with_mean=True, with_std=True),\n",
       " 'standardscaler__copy': True,\n",
       " 'standardscaler__with_mean': True,\n",
       " 'standardscaler__with_std': True,\n",
       " 'steps': [('standardscaler',\n",
       "   StandardScaler(copy=True, with_mean=True, with_std=True)),\n",
       "  ('ridge', Ridge(alpha=1.0, copy_X=True, fit_intercept=True, max_iter=None,\n",
       "      normalize=False, random_state=123, solver='auto', tol=0.001))]}"
      ]
     },
     "execution_count": 20,
     "metadata": {},
     "output_type": "execute_result"
    }
   ],
   "source": [
    "pipelines['ridge'].get_params()"
   ]
  },
  {
   "cell_type": "markdown",
   "metadata": {},
   "source": [
    "<br><hr style=\"border-color:royalblue;background-color:royalblue;height:1px;\">\n",
    "## <span style=\"color:RoyalBlue\">Exercise 5.3</span>\n",
    "\n",
    "Let's start by declaring the hyperparameter grid for our random forest.\n",
    "\n",
    "<br>\n",
    "**Declare a hyperparameter grid for <code style=\"color:SteelBlue\">RandomForestRegressor</code>.**\n",
    "* Name it <code style=\"color:steelblue\">rf_hyperparameters</code>\n",
    "\n",
    "* Set <code style=\"color:steelblue\"><span style=\"color:crimson\">'randomforestregressor\\__n_estimators'</span>: [100, 200]</code>\n",
    "* Set <code style=\"color:steelblue\"><span style=\"color:crimson\">'randomforestregressor\\__max_features'</span>: ['auto', 'sqrt', 0.33]</code>"
   ]
  },
  {
   "cell_type": "code",
   "execution_count": 21,
   "metadata": {
    "collapsed": false
   },
   "outputs": [],
   "source": [
    "# Random forest hyperparameters\n",
    "rf_hyperparameters = {\n",
    "    'randomforestregressor__n_estimators': [100, 200],\n",
    "    'randomforestregressor__max_features': ['auto', 'sqrt', 0.33]\n",
    "}"
   ]
  },
  {
   "cell_type": "markdown",
   "metadata": {},
   "source": [
    "Next, let's declare settings to try for our boosted tree.\n",
    "\n",
    "<br>\n",
    "**Declare a hyperparameter grid for <code style=\"color:SteelBlue\">GradientBoostingRegressor</code>.**\n",
    "* Name it <code style=\"color:steelblue\">gb_hyperparameters</code>.\n",
    "* Set <code style=\"color:steelblue\"><span style=\"color:crimson\">'gradientboostingregressor\\__n_estimators'</span>: [100, 200]</code>\n",
    "* Set <code style=\"color:steelblue\"><span style=\"color:crimson\">'gradientboostingregressor\\__learning_rate'</span>: [0.05, 0.1, 0.2]</code>\n",
    "* Set <code style=\"color:steelblue\"><span style=\"color:crimson\">'gradientboostingregressor\\__max_depth'</span>: [1, 3, 5]</code>"
   ]
  },
  {
   "cell_type": "code",
   "execution_count": 22,
   "metadata": {
    "collapsed": true
   },
   "outputs": [],
   "source": [
    "# Boosted tree hyperparameters\n",
    "gb_hyperparameters = {\n",
    "    'gradientboostingregressor__n_estimators': [100, 200],\n",
    "    'gradientboostingregressor__learning_rate': [0.05, 0.1, 0.2],\n",
    "    'gradientboostingregressor__max_depth': [1, 3, 5]\n",
    "}"
   ]
  },
  {
   "cell_type": "markdown",
   "metadata": {},
   "source": [
    "Now that we have all of our hyperparameters declared, let's store them in a dictionary for ease of access.\n",
    "\n",
    "<br>\n",
    "**Create a <code style=\"color:steelblue\">hyperparameters</code> dictionary**.\n",
    "* Use the same keys as in the <code style=\"color:steelblue\">pipelines</code> dictionary.\n",
    "    * If you forgot what those keys were, you can insert a new code cell and call <code style=\"color:steelblue\">pipelines.keys()</code> for a reminder.\n",
    "* Set the values to the corresponding **hyperparameter grids** we've been declaring throughout this module.\n",
    "    * e.g. <code style=\"color:steelblue\"><span style=\"color:crimson\">'rf'</span> : rf_hyperparameters</code>\n",
    "    * e.g. <code style=\"color:steelblue\"><span style=\"color:crimson\">'lasso'</span> : lasso_hyperparameters</code>"
   ]
  },
  {
   "cell_type": "code",
   "execution_count": 23,
   "metadata": {
    "collapsed": false
   },
   "outputs": [],
   "source": [
    "# Create hyperparameters dictionary\n",
    "hyperparameters = {}\n",
    "hyperparameters['lasso'] = lasso_hyperparameters\n",
    "hyperparameters['ridge'] = ridge_hyperparameters\n",
    "hyperparameters['enet'] = enet_hyperparameters\n",
    "hyperparameters['rf'] = rf_hyperparameters\n",
    "hyperparameters['gb'] = gb_hyperparameters"
   ]
  },
  {
   "cell_type": "code",
   "execution_count": 24,
   "metadata": {
    "collapsed": false
   },
   "outputs": [
    {
     "data": {
      "text/plain": [
       "{'gradientboostingregressor__learning_rate': [0.05, 0.1, 0.2],\n",
       " 'gradientboostingregressor__max_depth': [1, 3, 5],\n",
       " 'gradientboostingregressor__n_estimators': [100, 200]}"
      ]
     },
     "execution_count": 24,
     "metadata": {},
     "output_type": "execute_result"
    }
   ],
   "source": [
    "hyperparameters['gb']"
   ]
  },
  {
   "cell_type": "markdown",
   "metadata": {},
   "source": [
    "**Finally, run this code to check that <code style=\"color:steelblue\">hyperparameters</code> is set up correctly.**"
   ]
  },
  {
   "cell_type": "code",
   "execution_count": 25,
   "metadata": {
    "collapsed": false
   },
   "outputs": [
    {
     "name": "stdout",
     "output_type": "stream",
     "text": [
      "enet was found in hyperparameters, and it is a grid.\n",
      "gb was found in hyperparameters, and it is a grid.\n",
      "ridge was found in hyperparameters, and it is a grid.\n",
      "rf was found in hyperparameters, and it is a grid.\n",
      "lasso was found in hyperparameters, and it is a grid.\n"
     ]
    }
   ],
   "source": [
    "for key in ['enet', 'gb', 'ridge', 'rf', 'lasso']:\n",
    "    if key in hyperparameters:\n",
    "        if type(hyperparameters[key]) is dict:\n",
    "            print( key, 'was found in hyperparameters, and it is a grid.' )\n",
    "        else:\n",
    "            print( key, 'was found in hyperparameters, but it is not a grid.' )\n",
    "    else:\n",
    "        print( key, 'was not found in hyperparameters')"
   ]
  },
  {
   "cell_type": "markdown",
   "metadata": {},
   "source": [
    "<hr style=\"border-color:royalblue;background-color:royalblue;height:1px;\">\n",
    "<div style=\"text-align:center; margin: 40px 0 40px 0;\">\n",
    "[**Back to Contents**](#toc)\n",
    "</div>"
   ]
  },
  {
   "cell_type": "markdown",
   "metadata": {},
   "source": [
    "<br id=\"fit-tune\">\n",
    "# 4. Fit and tune models with cross-validation\n",
    "\n",
    "Now that we have our <code style=\"color:steelblue\">pipelines</code> and <code style=\"color:steelblue\">hyperparameters</code> dictionaries declared, we're ready to tune our models with cross-validation.\n",
    "\n",
    "<br>\n",
    "First, let's to import a helper for cross-validation called <code style=\"color:steelblue\">GridSearchCV</code>."
   ]
  },
  {
   "cell_type": "code",
   "execution_count": 26,
   "metadata": {
    "collapsed": false
   },
   "outputs": [
    {
     "name": "stderr",
     "output_type": "stream",
     "text": [
      "C:\\Users\\frank\\Anaconda3\\lib\\site-packages\\sklearn\\grid_search.py:43: DeprecationWarning: This module was deprecated in version 0.18 in favor of the model_selection module into which all the refactored classes and functions are moved. This module will be removed in 0.20.\n",
      "  DeprecationWarning)\n"
     ]
    }
   ],
   "source": [
    "# Helper for cross-validation\n",
    "from sklearn.grid_search import GridSearchCV"
   ]
  },
  {
   "cell_type": "markdown",
   "metadata": {},
   "source": [
    "Next, to see an example, set up cross-validation for Lasso regression."
   ]
  },
  {
   "cell_type": "code",
   "execution_count": 27,
   "metadata": {
    "collapsed": false
   },
   "outputs": [],
   "source": [
    "# Create cross-validation object from Lasso pipeline and Lasso hyperparameters\n",
    "lasso_cv = GridSearchCV(pipelines['lasso'], hyperparameters['lasso'], cv=10, n_jobs=-1)"
   ]
  },
  {
   "cell_type": "markdown",
   "metadata": {},
   "source": [
    "Pass <code style=\"color:steelblue\">X_train</code> and <code style=\"color:steelblue\">y_train</code> into the <code style=\"color:steelblue\">.fit()</code> function to tune hyperparameters."
   ]
  },
  {
   "cell_type": "code",
   "execution_count": 28,
   "metadata": {
    "collapsed": false
   },
   "outputs": [
    {
     "data": {
      "text/plain": [
       "GridSearchCV(cv=10, error_score='raise',\n",
       "       estimator=Pipeline(steps=[('standardscaler', StandardScaler(copy=True, with_mean=True, with_std=True)), ('lasso', Lasso(alpha=1.0, copy_X=True, fit_intercept=True, max_iter=1000,\n",
       "   normalize=False, positive=False, precompute=False, random_state=123,\n",
       "   selection='cyclic', tol=0.0001, warm_start=False))]),\n",
       "       fit_params={}, iid=True, n_jobs=-1,\n",
       "       param_grid={'lasso__alpha': [0.001, 0.005, 0.01, 0.05, 0.1, 0.5, 1, 5, 10]},\n",
       "       pre_dispatch='2*n_jobs', refit=True, scoring=None, verbose=0)"
      ]
     },
     "execution_count": 28,
     "metadata": {},
     "output_type": "execute_result"
    }
   ],
   "source": [
    "# Fit and tune model\n",
    "lasso_cv.fit(X_train, y_train)"
   ]
  },
  {
   "cell_type": "markdown",
   "metadata": {},
   "source": [
    "By the way, don't worry if you get the message:\n",
    "\n",
    "<pre style=\"color:crimson\">ConvergenceWarning: Objective did not converge. You might want to increase the number of iterations</pre>\n",
    "\n",
    "We'll dive into some of the under-the-hood nuances later.\n",
    "\n",
    "<br>\n",
    "In the next exercise, we'll write a loop that tunes all of our models."
   ]
  },
  {
   "cell_type": "markdown",
   "metadata": {},
   "source": [
    "<br><hr style=\"border-color:royalblue;background-color:royalblue;height:1px;\">\n",
    "## <span style=\"color:RoyalBlue\">Exercise 5.4</span>\n",
    "\n",
    "**Create a dictionary of models named <code style=\"color:SteelBlue\">fitted_models</code> that have been tuned using cross-validation.**\n",
    "* The keys should be the same as those in the <code style=\"color:SteelBlue\">pipelines</code> and <code style=\"color:SteelBlue\">hyperparameters</code> dictionaries. \n",
    "* The values should be <code style=\"color:steelblue\">GridSearchCV</code> objects that have been fitted to <code style=\"color:steelblue\">X_train</code> and <code style=\"color:steelblue\">y_train</code>.\n",
    "* After fitting each model, print <code style=\"color:crimson\">'{name} has been fitted.'</code> just to track the progress.\n",
    "* **Tip:** We've started you off with some code.\n",
    "\n",
    "This step can take a few minutes, so please be patient."
   ]
  },
  {
   "cell_type": "code",
   "execution_count": 29,
   "metadata": {
    "collapsed": false
   },
   "outputs": [
    {
     "name": "stdout",
     "output_type": "stream",
     "text": [
      "lasso has been fitted.\n",
      "ridge has been fitted.\n",
      "enet has been fitted.\n",
      "rf has been fitted.\n",
      "gb has been fitted.\n"
     ]
    }
   ],
   "source": [
    "# Create empty dictionary called fitted_models\n",
    "fitted_models = {}\n",
    "\n",
    "# Loop through model pipelines, tuning each one and saving it to fitted_models\n",
    "for name, pipeline in pipelines.items():\n",
    "    # Create cross-validation object from pipeline and hyperparameters\n",
    "    cv_object = GridSearchCV(pipelines[name], hyperparameters[name], cv=10, n_jobs=-1)\n",
    "    \n",
    "    # Fit model on X_train, y_train\n",
    "    cv_object.fit(X_train, y_train)\n",
    "    \n",
    "    # Store model in fitted_models[name] \n",
    "    fitted_models[name] = cv_object\n",
    "    \n",
    "    # Print '{name} has been fitted'\n",
    "    print(name, 'has been fitted.')"
   ]
  },
  {
   "cell_type": "markdown",
   "metadata": {},
   "source": [
    "<br>\n",
    "**Run this code to check that the models are of the correct type.**"
   ]
  },
  {
   "cell_type": "code",
   "execution_count": 30,
   "metadata": {
    "collapsed": false
   },
   "outputs": [
    {
     "name": "stdout",
     "output_type": "stream",
     "text": [
      "lasso <class 'sklearn.grid_search.GridSearchCV'>\n",
      "ridge <class 'sklearn.grid_search.GridSearchCV'>\n",
      "enet <class 'sklearn.grid_search.GridSearchCV'>\n",
      "rf <class 'sklearn.grid_search.GridSearchCV'>\n",
      "gb <class 'sklearn.grid_search.GridSearchCV'>\n"
     ]
    }
   ],
   "source": [
    "# Check that we have 5 cross-validation objects\n",
    "for key, value in fitted_models.items():\n",
    "    print( key, type(value) )"
   ]
  },
  {
   "cell_type": "markdown",
   "metadata": {},
   "source": [
    "<br>\n",
    "**Finally, run this code to check that the models have been fitted correctly.**"
   ]
  },
  {
   "cell_type": "code",
   "execution_count": 31,
   "metadata": {
    "collapsed": false
   },
   "outputs": [
    {
     "name": "stdout",
     "output_type": "stream",
     "text": [
      "lasso has been fitted.\n",
      "ridge has been fitted.\n",
      "enet has been fitted.\n",
      "rf has been fitted.\n",
      "gb has been fitted.\n"
     ]
    }
   ],
   "source": [
    "from sklearn.exceptions import NotFittedError\n",
    "\n",
    "for name, model in fitted_models.items():\n",
    "    try:\n",
    "        pred = model.predict(X_test)\n",
    "        print(name, 'has been fitted.')\n",
    "    except NotFittedError as e:\n",
    "        print(repr(e))"
   ]
  },
  {
   "cell_type": "markdown",
   "metadata": {},
   "source": [
    "Nice. Now we're ready to evaluate how our models performed!\n",
    "\n",
    "<hr style=\"border-color:royalblue;background-color:royalblue;height:1px;\">\n",
    "\n",
    "<div style=\"text-align:center; margin: 40px 0 40px 0;\">\n",
    "[**Back to Contents**](#toc)\n",
    "</div>"
   ]
  },
  {
   "cell_type": "markdown",
   "metadata": {},
   "source": [
    "<br id=\"evaluate\">\n",
    "# 5. Evaluate models and select winner\n",
    "\n",
    "Finally, it's time to evaluate our models and pick the best one.\n",
    "\n",
    "<br>\n",
    "Let's display the holdout $R^2$ score for each fitted model."
   ]
  },
  {
   "cell_type": "code",
   "execution_count": 33,
   "metadata": {
    "collapsed": false
   },
   "outputs": [
    {
     "name": "stdout",
     "output_type": "stream",
     "text": [
      "lasso 0.40184202364263694\n",
      "ridge 0.40389545654574444\n",
      "enet 0.4117905107129998\n",
      "rf 0.5182517703983678\n",
      "gb 0.5239445933674012\n"
     ]
    }
   ],
   "source": [
    "# Display best_score_ for each fitted model\n",
    "for name, model in fitted_models.items():\n",
    "    print( name, model.best_score_)"
   ]
  },
  {
   "cell_type": "markdown",
   "metadata": {},
   "source": [
    "Here's what you should see:\n",
    "\n",
    "    enet 0.342759786956\n",
    "    lasso 0.309321321129\n",
    "    ridge 0.316805719351\n",
    "    gb 0.48873808731\n",
    "    rf 0.480576134721\n",
    "\n",
    "\n",
    "If you get different numbers, check to see if you've set the <code style=\"color:steelblue\">random_state=</code> correctly for each of the models."
   ]
  },
  {
   "cell_type": "markdown",
   "metadata": {},
   "source": [
    "Next, import the <code style=\"color:steelblue\">r2_score()</code> and <code style=\"color:steelblue\">mean_absolute_error()</code> functions."
   ]
  },
  {
   "cell_type": "code",
   "execution_count": 36,
   "metadata": {
    "collapsed": false
   },
   "outputs": [],
   "source": [
    "# Import r2_score and mean_absolute_error functions\n",
    "from sklearn.metrics import r2_score, mean_absolute_error"
   ]
  },
  {
   "cell_type": "markdown",
   "metadata": {},
   "source": [
    "Finally, let's see how the fitted models perform on our test set!\n",
    "\n",
    "<br>\n",
    "First, access your fitted random forest and display the object."
   ]
  },
  {
   "cell_type": "code",
   "execution_count": 37,
   "metadata": {
    "collapsed": false
   },
   "outputs": [
    {
     "data": {
      "text/plain": [
       "GridSearchCV(cv=10, error_score='raise',\n",
       "       estimator=Pipeline(steps=[('standardscaler', StandardScaler(copy=True, with_mean=True, with_std=True)), ('randomforestregressor', RandomForestRegressor(bootstrap=True, criterion='mse', max_depth=None,\n",
       "           max_features='auto', max_leaf_nodes=None,\n",
       "           min_impurity_split=1e-07, min_samples_leaf=1,\n",
       "           min_samples_split=2, min_weight_fraction_leaf=0.0,\n",
       "           n_estimators=10, n_jobs=1, oob_score=False, random_state=123,\n",
       "           verbose=0, warm_start=False))]),\n",
       "       fit_params={}, iid=True, n_jobs=-1,\n",
       "       param_grid={'randomforestregressor__n_estimators': [100, 200], 'randomforestregressor__max_features': ['auto', 'sqrt', 0.33]},\n",
       "       pre_dispatch='2*n_jobs', refit=True, scoring=None, verbose=0)"
      ]
     },
     "execution_count": 37,
     "metadata": {},
     "output_type": "execute_result"
    }
   ],
   "source": [
    "# Display fitted random forest object\n",
    "fitted_models['rf']"
   ]
  },
  {
   "cell_type": "markdown",
   "metadata": {},
   "source": [
    "Predict the test set using the fitted random forest."
   ]
  },
  {
   "cell_type": "code",
   "execution_count": 38,
   "metadata": {
    "collapsed": true
   },
   "outputs": [],
   "source": [
    "# Predict test set using fitted random forest\n",
    "pred = fitted_models['rf'].predict(X_test)"
   ]
  },
  {
   "cell_type": "markdown",
   "metadata": {},
   "source": [
    "Finally, we use the scoring functions we imported to calculate and print $R^2$ and MAE."
   ]
  },
  {
   "cell_type": "code",
   "execution_count": 39,
   "metadata": {
    "collapsed": false
   },
   "outputs": [
    {
     "name": "stdout",
     "output_type": "stream",
     "text": [
      "0.521206434002\n",
      "75505.5958025\n"
     ]
    }
   ],
   "source": [
    "# Calculate and print R^2 and MAE\n",
    "print(r2_score(y_test, pred))\n",
    "print(mean_absolute_error(y_test, pred))\n"
   ]
  },
  {
   "cell_type": "markdown",
   "metadata": {},
   "source": [
    "In the next exercise, we'll evaluate all of our fitted models on the test set and pick the winner."
   ]
  },
  {
   "cell_type": "markdown",
   "metadata": {},
   "source": [
    "<br><hr style=\"border-color:royalblue;background-color:royalblue;height:1px;\">\n",
    "## <span style=\"color:RoyalBlue\">Exercise 5.5</span>\n",
    "\n",
    "**Use a <code style=\"color:SteelBlue\">for</code> loop, print the performance of each model in <code style=\"color:SteelBlue\">fitted_models</code> on the test set.**\n",
    "* Print both <code style=\"color:SteelBlue\">r2_score</code> and <code style=\"color:SteelBlue\">mean_absolute_error</code>.\n",
    "* Those functions each take two arguments:\n",
    "    * The actual values for your target variable (<code style=\"color:SteelBlue\">y_test</code>)\n",
    "    * Predicted values for your target variable\n",
    "* Label the output with the name of the algorithm. For example:\n",
    "\n",
    "<pre style=\"color:crimson\">\n",
    "lasso\n",
    "--------\n",
    "R^2: 0.409313458932\n",
    "MAE: 84963.5598922\n",
    "</pre>"
   ]
  },
  {
   "cell_type": "code",
   "execution_count": 47,
   "metadata": {
    "collapsed": false
   },
   "outputs": [
    {
     "name": "stdout",
     "output_type": "stream",
     "text": [
      "\n",
      " lasso\n",
      "-----------\n",
      "R^2: 0.271576860384\n",
      "MAE: 91718.4029734\n",
      "\n",
      " ridge\n",
      "-----------\n",
      "R^2: 0.283556610809\n",
      "MAE: 91439.3228555\n",
      "\n",
      " enet\n",
      "-----------\n",
      "R^2: 0.307006337892\n",
      "MAE: 91732.2991337\n",
      "\n",
      " rf\n",
      "-----------\n",
      "R^2: 0.521206434002\n",
      "MAE: 75505.5958025\n",
      "\n",
      " gb\n",
      "-----------\n",
      "R^2: 0.525378963343\n",
      "MAE: 76077.6561189\n"
     ]
    }
   ],
   "source": [
    "# Code here\n",
    "for name, model in fitted_models.items():\n",
    "    predict = model.predict(X_test)\n",
    "    print('\\n',name)\n",
    "    print('-----------')\n",
    "    print('R^2:', r2_score(y_test, predict ))\n",
    "    print('MAE:', mean_absolute_error(y_test, predict))\n"
   ]
  },
  {
   "cell_type": "markdown",
   "metadata": {},
   "source": [
    "**Next, ask yourself these questions to pick the winning model:**\n",
    "* Which model had the highest $R^2$ on the test set?\n",
    "\n",
    "> Random forest\n",
    "\n",
    "* Which model had the lowest mean absolute error?\n",
    "\n",
    "> Random forest\n",
    "\n",
    "* Are these two models the same one?\n",
    "\n",
    "> Yes\n",
    "\n",
    "* Did it also have the best holdout $R^2$ score from cross-validation?\n",
    "\n",
    "> Yes\n",
    "\n",
    "* **Does it satisfy our win condition?**\n",
    "\n",
    "> Yes, its mean absolute error is less than \\$70,000!"
   ]
  },
  {
   "cell_type": "markdown",
   "metadata": {},
   "source": [
    "**Finally, let's plot the performance of the winning model on the test set. Run the code below.**\n",
    "* It first plots a scatter plot.\n",
    "* Then, it plots predicted transaction price on the X-axis.\n",
    "* Finally, it plots actual transaction price on the y-axis."
   ]
  },
  {
   "cell_type": "code",
   "execution_count": 48,
   "metadata": {
    "collapsed": false
   },
   "outputs": [
    {
     "data": {
      "image/png": "[encoded data removed]",
      "text/plain": [
       "<matplotlib.figure.Figure at 0x190711509b0>"
      ]
     },
     "metadata": {},
     "output_type": "display_data"
    }
   ],
   "source": [
    "gb_pred = fitted_models['rf'].predict(X_test)\n",
    "plt.scatter(gb_pred, y_test)\n",
    "plt.xlabel('predicted')\n",
    "plt.ylabel('actual')\n",
    "plt.show()"
   ]
  },
  {
   "cell_type": "markdown",
   "metadata": {},
   "source": [
    "This last visual check is a nice way to confirm our model's performance.\n",
    "* Are the points scattered around the 45 degree diagonal?\n",
    "\n",
    "<br>\n",
    "<hr style=\"border-color:royalblue;background-color:royalblue;height:1px;\">\n",
    "\n",
    "<div style=\"text-align:center; margin: 40px 0 40px 0;\">\n",
    "[**Back to Contents**](#toc)\n",
    "</div>"
   ]
  },
  {
   "cell_type": "markdown",
   "metadata": {},
   "source": [
    "<br>\n",
    "### Finally, let's save the winning model.\n",
    "\n",
    "Great job! You've created a pretty kick-ass model for real-estate valuation. Now it's time to save your hard work.\n",
    "\n",
    "First, let's take a look at the data type of your winning model.\n",
    "\n",
    "***Run each code cell below after completing the exercises above.***"
   ]
  },
  {
   "cell_type": "code",
   "execution_count": null,
   "metadata": {
    "collapsed": false
   },
   "outputs": [],
   "source": [
    "type(fitted_models['rf'])"
   ]
  },
  {
   "cell_type": "markdown",
   "metadata": {},
   "source": [
    "It looks like this is still the <code style=\"color:steelblue\">GridSearchCV</code> data type. \n",
    "* You can actually directly save this object if you want, because it will use the winning model pipeline by default. \n",
    "* However, what we really care about is the actual winning model <code style=\"color:steelblue\">Pipeline</code>, right?\n",
    "\n",
    "In that case, we can use the <code style=\"color:steelblue\">best\\_estimator_</code> method to access it:"
   ]
  },
  {
   "cell_type": "code",
   "execution_count": null,
   "metadata": {
    "collapsed": false
   },
   "outputs": [],
   "source": [
    "type(fitted_models['rf'].best_estimator_)"
   ]
  },
  {
   "cell_type": "markdown",
   "metadata": {},
   "source": [
    "If we output that object directly, we can also see the winning values for our hyperparameters."
   ]
  },
  {
   "cell_type": "code",
   "execution_count": null,
   "metadata": {
    "collapsed": false
   },
   "outputs": [],
   "source": [
    "fitted_models['rf'].best_estimator_"
   ]
  },
  {
   "cell_type": "markdown",
   "metadata": {},
   "source": [
    "See? The winning values for our hyperparameters are:\n",
    "* <code style=\"color:steelblue\">n_estimators: <span style=\"color:crimson\">200</span></code>\n",
    "* <code style=\"color:steelblue\">max_features : <span style=\"color:crimson\">'auto'</span></code>\n",
    "\n",
    "Great, now let's import a helpful package called <code style=\"color:steelblue\">pickle</code>, which saves Python objects to disk."
   ]
  },
  {
   "cell_type": "code",
   "execution_count": null,
   "metadata": {
    "collapsed": true
   },
   "outputs": [],
   "source": [
    "import pickle"
   ]
  },
  {
   "cell_type": "markdown",
   "metadata": {},
   "source": [
    "Let's save the winning <code style=\"color:steelblue\">Pipeline</code> object into a pickle file."
   ]
  },
  {
   "cell_type": "code",
   "execution_count": null,
   "metadata": {
    "collapsed": false
   },
   "outputs": [],
   "source": [
    "with open('final_model.pkl', 'wb') as f:\n",
    "    pickle.dump(fitted_models['rf'].best_estimator_, f)"
   ]
  },
  {
   "cell_type": "markdown",
   "metadata": {},
   "source": [
    "Congratulations... you've built and saved a successful model trained using machine learning!\n",
    "\n",
    "As a reminder, here are a few things you did in this module:\n",
    "* You split your dataset into separate training and test sets.\n",
    "* You set up preprocessing pipelines.\n",
    "* You tuned your models using cross-validation.\n",
    "* And you evaluated your models, selecting and saving the winner.\n",
    "\n",
    "<br>\n",
    "<hr>\n",
    "\n",
    "<p>This also marks the end of <span style=\"color:royalblue\">Project 2: Real-Estate Tycoon</span>!</p>\n",
    "<p>In the next project, you'll practice the entire machine learning workflow again, except for <strong>classification</strong>. In addition, we'll provide less formal guidance and introduce some new concepts.</p><p>Finally, in this project, you trained a kick-ass model and saved it as a pickle file. In the next project, we'll show you how to take <strong>project delivery</strong> a step further by creating custom model classes that can apply your final model to raw data.</p>\n",
    "\n",
    "<div style=\"text-align:center; margin: 40px 0 40px 0;\">\n",
    "[**Back to Contents**](#toc)\n",
    "</div>\n"
   ]
  }
 ],
 "metadata": {
  "anaconda-cloud": {},
  "kernelspec": {
   "display_name": "Python 3",
   "language": "python",
   "name": "python3"
  },
  "language_info": {
   "codemirror_mode": {
    "name": "ipython",
    "version": 3
   },
   "file_extension": ".py",
   "mimetype": "text/x-python",
   "name": "python",
   "nbconvert_exporter": "python",
   "pygments_lexer": "ipython3",
   "version": "3.6.0"
  }
 },
 "nbformat": 4,
 "nbformat_minor": 0
}
