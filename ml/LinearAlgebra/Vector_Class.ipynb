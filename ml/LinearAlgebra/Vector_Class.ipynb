{
 "cells": [
  {
   "cell_type": "code",
   "execution_count": 758,
   "metadata": {
    "collapsed": false
   },
   "outputs": [],
   "source": [
    "from math import sqrt, acos, pi\n",
    "import numpy as np\n",
    "\n",
    "from decimal import Decimal, getcontext\n",
    "\n",
    "class Vector(object):\n",
    "    def __init__(self, coordinates):\n",
    "        try:\n",
    "            if not coordinates:\n",
    "                raise ValueError\n",
    "            self.coordinates = tuple([Decimal(x) for x in coordinates] )\n",
    "            self.dimensions = len(coordinates)\n",
    "        \n",
    "        except ValueError:\n",
    "            raise ValueError('The coordinates must be nonempty')\n",
    "        \n",
    "        except TypeError:\n",
    "            raise TypeError('The coordinates must be an iterable')\n",
    "            \n",
    "            \n",
    "    def __str__(self):\n",
    "        return 'Vector: {}'.format(self.coordinates)\n",
    "    \n",
    "    def __eq__(self, v):\n",
    "        return self.coordinates == v.coordinates\n",
    "    \n",
    "    def __add__(self, right):\n",
    "#         result = []\n",
    "#         for i in range(self.dimensions):\n",
    "#             result.append(round(self.coordinates[i] + right.coordinates[i], 3))\n",
    "#         return Vector(result)\n",
    "#         # Implement using list comprehensions with a zip function\n",
    "        return Vector([x+y for x,y in zip(self.coordinates, right.coordinates)])\n",
    "    \n",
    "    def __truediv__(self, right):\n",
    "        return Vector([x/y for x,y in zip(self.coordinates, right.coordinates)])\n",
    "        \n",
    "    def __round__(self, digits):\n",
    "        return Vector([round(x, digits) for x in self.coordinates])\n",
    "    \n",
    "    def __sub__(self, right):\n",
    "        return Vector([x-y for x,y in zip(self.coordinates, right.coordinates)])\n",
    "#         result = []\n",
    "#         for i in range(self.dimensions):\n",
    "#             result.append(round(self.coordinates[i] - right.coordinates[i], 3))\n",
    "#         return Vector(result)\n",
    "    \n",
    "    def __mul__(self, scalar):\n",
    "        #Multiplication with a scalar\n",
    "        try:\n",
    "            return Vector([ x * y for x,y in zip(scalar.coordinates,self.coordinates)])\n",
    "        except:\n",
    "            return Vector([Decimal(scalar) * x for x in self.coordinates])\n",
    "        \n",
    "#         result = []\n",
    "#         for i in range(self.dimensions):\n",
    "#             result.append(round(self.coordinates[i] * scalar, 3))\n",
    "#         return Vector(result)\n",
    "    \n",
    "    \n",
    "    def magnitude(self):\n",
    "        return round(math.sqrt(sum([x ** 2 for x in self.coordinates])), 3)\n",
    "    \n",
    "    def normalized(self):\n",
    "        try:\n",
    "            return round(self * (1.0/self.magnitude()),3)\n",
    "        except:\n",
    "            raise Exception('Cannot normalize the zero vector')\n",
    "    \n",
    "    def dot(self, right):\n",
    "        \"\"\"Calculates the element wise product sum on two vectors\"\"\"\n",
    "        return sum([x*y for x,y in zip(self.coordinates, right.coordinates)])\n",
    "    \n",
    "    def angle(self, right, degree=False):\n",
    "        radians =  math.acos(self.dot(right)/Decimal((self.magnitude() * right.magnitude())))\n",
    "        if degree:\n",
    "            return radians * (180./math.pi)\n",
    "        else: \n",
    "            return radians\n",
    "    \n",
    "    def is_parallel(self, right):\n",
    "        result = self/right \n",
    "        if len(set(result.coordinates)) !=1:\n",
    "            return False\n",
    "        else:\n",
    "            return True\n",
    "    \n",
    "    def is_othorgonal(self, right):\n",
    "        \"\"\"Checks if two Vectors are othorgonal to each other\"\"\"\n",
    "        if self.dot(right) == 0:\n",
    "            return False\n",
    "        else:\n",
    "            return True\n",
    "        \n",
    "    \n",
    "    def par_component_to(self, basis):\n",
    "        \"\"\"Computes the projected lenght of this vector onto a specific basis\"\"\"   \n",
    "        u = basis.normalized()\n",
    "        weight = self.dot(u)\n",
    "        return u * weight\n",
    "\n",
    "    def orth_component_to(self, basis):\n",
    "        \"\"\"Compute the orthorgonal component of a vector on a given basis\"\"\"\n",
    "        projection = self.par_component_to(basis)\n",
    "        return self - projection\n",
    "    "
   ]
  },
  {
   "cell_type": "code",
   "execution_count": 759,
   "metadata": {
    "collapsed": false
   },
   "outputs": [
    {
     "name": "stdout",
     "output_type": "stream",
     "text": [
      "True\n"
     ]
    }
   ],
   "source": [
    "v1 = Vector([1,2,3])\n",
    "v2 = Vector([-1,2,3])\n",
    "print(v1.is_parallel(v1*12.2345))\n"
   ]
  },
  {
   "cell_type": "code",
   "execution_count": 760,
   "metadata": {
    "collapsed": false
   },
   "outputs": [
    {
     "name": "stdout",
     "output_type": "stream",
     "text": [
      "Vector: (Decimal('1.143'), Decimal('1.742'))\n"
     ]
    }
   ],
   "source": [
    "# Projection\n",
    "v1 = Vector([3.039, 1.879])\n",
    "b1 = Vector([0.825, 2.036]) \n",
    "\n",
    "print (round(v1 * b1.normalized(),3))"
   ]
  },
  {
   "cell_type": "code",
   "execution_count": 761,
   "metadata": {
    "collapsed": false
   },
   "outputs": [
    {
     "name": "stdout",
     "output_type": "stream",
     "text": [
      "Vector: (Decimal('-8.348218560000000706651235305'), Decimal('3.380101996000000534687401910'), Decimal('-1.438308932000000367507297482'))\n"
     ]
    }
   ],
   "source": [
    "# Orthorgonal Component\n",
    "v2 = Vector([-9.88, -3.264, -8.159])\n",
    "b2 = Vector([-2.155, -9.353, -9.473])\n",
    "\n",
    "print(v2.orth_component_to(b2))"
   ]
  },
  {
   "cell_type": "code",
   "execution_count": 762,
   "metadata": {
    "collapsed": false
   },
   "outputs": [
    {
     "name": "stdout",
     "output_type": "stream",
     "text": [
      "Othorgonal Vector: (Decimal('1.038'), Decimal('-3.358'), Decimal('2.844'), Decimal('-5.191'))\n",
      "Parallel Vector: (Decimal('1.971'), Decimal('-2.814'), Decimal('0.848'), Decimal('2.681'))\n",
      "True\n"
     ]
    }
   ],
   "source": [
    "# Principal Components of a vector\n",
    "v3 = Vector([3.009, -6.172, 3.692, -2.51])\n",
    "b3 = Vector([6.404, -9.144, 2.759, 8.718])\n",
    "\n",
    "# Calculating the orthorgonal Component\n",
    "orth = round(v3.orth_component_to(b3),3)\n",
    "\n",
    "# Calculating the parallel part\n",
    "parallel = round(v3.par_component_to(b3),3)\n",
    "\n",
    "# Calculating the vector\n",
    "print(\"Othorgonal\", orth)\n",
    "print(\"Parallel\",parallel)\n",
    "\n",
    "print(round(v3,3) == (orth + parallel)) "
   ]
  },
  {
   "cell_type": "code",
   "execution_count": 768,
   "metadata": {
    "collapsed": false
   },
   "outputs": [
    {
     "name": "stdout",
     "output_type": "stream",
     "text": [
      "Vector: (Decimal('3.039'), Decimal('1.879'))\n",
      "Vector: (Decimal('1.085'), Decimal('2.674'))\n",
      "Vector: (Decimal('1.954'), Decimal('-0.795'))\n"
     ]
    }
   ],
   "source": [
    "#Testdrive orthorgonal component\n",
    "print(round(v1, 3))\n",
    "print(round(v1.par_component_to(b1),3))\n",
    "print(round(v1.orth_component_to(b1),3))"
   ]
  },
  {
   "cell_type": "code",
   "execution_count": 764,
   "metadata": {
    "collapsed": false
   },
   "outputs": [
    {
     "name": "stdout",
     "output_type": "stream",
     "text": [
      "Vector: (Decimal('3.039000000000000145661260830820538103580474853515625'), Decimal('1.879000000000000003552713678800500929355621337890625'))\n",
      "Vector: (Decimal('0.376'), Decimal('0.927'))\n"
     ]
    }
   ],
   "source": [
    "print(v1)\n",
    "print(b1.normalized())"
   ]
  },
  {
   "cell_type": "code",
   "execution_count": 765,
   "metadata": {
    "collapsed": false
   },
   "outputs": [
    {
     "name": "stdout",
     "output_type": "stream",
     "text": [
      "False\n",
      "True\n"
     ]
    }
   ],
   "source": [
    "print(v1==v2)\n",
    "print(v1==v1)"
   ]
  },
  {
   "cell_type": "code",
   "execution_count": 766,
   "metadata": {
    "collapsed": false
   },
   "outputs": [],
   "source": [
    "v3 = Vector([8.212, -9.341]) \n",
    "v4 = Vector([-1.129, 2.111])"
   ]
  },
  {
   "cell_type": "code",
   "execution_count": 767,
   "metadata": {
    "collapsed": false
   },
   "outputs": [
    {
     "name": "stdout",
     "output_type": "stream",
     "text": [
      "Vector: (Decimal('8.211999999999999744204615126363933086395263671875'), Decimal('-9.3409999999999993036681189551018178462982177734375'))\n"
     ]
    }
   ],
   "source": [
    "print(v3)"
   ]
  },
  {
   "cell_type": "code",
   "execution_count": 500,
   "metadata": {
    "collapsed": false
   },
   "outputs": [
    {
     "name": "stdout",
     "output_type": "stream",
     "text": [
      "2\n"
     ]
    }
   ],
   "source": [
    "print(v3.dimensions)"
   ]
  },
  {
   "cell_type": "code",
   "execution_count": 501,
   "metadata": {
    "collapsed": false
   },
   "outputs": [
    {
     "data": {
      "text/plain": [
       "Decimal('8.211999999999999744204615126363933086395263671875')"
      ]
     },
     "execution_count": 501,
     "metadata": {},
     "output_type": "execute_result"
    }
   ],
   "source": [
    "v3.coordinates[0]"
   ]
  },
  {
   "cell_type": "code",
   "execution_count": 502,
   "metadata": {
    "collapsed": false
   },
   "outputs": [
    {
     "name": "stdout",
     "output_type": "stream",
     "text": [
      "Vector: (Decimal('7.088999999999999968025576891'), Decimal('-7.229999999999999094058011906'))\n"
     ]
    }
   ],
   "source": [
    "print(Vector([8.218, -9.341]) + Vector([-1.129, 2.111]))"
   ]
  },
  {
   "cell_type": "code",
   "execution_count": 503,
   "metadata": {
    "collapsed": false
   },
   "outputs": [
    {
     "name": "stdout",
     "output_type": "stream",
     "text": [
      "Vector: (Decimal('9.340999999999999747757328805'), Decimal('-11.45199999999999951327822600'))\n"
     ]
    }
   ],
   "source": [
    "print(v3 - v4)"
   ]
  },
  {
   "cell_type": "code",
   "execution_count": 504,
   "metadata": {
    "collapsed": false
   },
   "outputs": [
    {
     "name": "stdout",
     "output_type": "stream",
     "text": [
      "Vector: (Decimal('15.34200000000000052580162446'), Decimal('7.336999999999999855226917589'))\n"
     ]
    }
   ],
   "source": [
    "print(Vector([7.119, 8.215]) - Vector([-8.223, 0.878]))"
   ]
  },
  {
   "cell_type": "code",
   "execution_count": 505,
   "metadata": {
    "collapsed": false
   },
   "outputs": [
    {
     "name": "stdout",
     "output_type": "stream",
     "text": [
      "Vector: (Decimal('12.38211000000000054020787843'), Decimal('-7.498920000000000222790674798'), Decimal('-2.356380000000000081388229489'))\n"
     ]
    }
   ],
   "source": [
    "print(Vector([1.671, -1.012, -0.318]) * 7.41)"
   ]
  },
  {
   "cell_type": "code",
   "execution_count": 506,
   "metadata": {
    "collapsed": false
   },
   "outputs": [
    {
     "name": "stdout",
     "output_type": "stream",
     "text": [
      "12.437\n"
     ]
    }
   ],
   "source": [
    "print(v3.magnitude())"
   ]
  },
  {
   "cell_type": "code",
   "execution_count": 507,
   "metadata": {
    "collapsed": false
   },
   "outputs": [
    {
     "name": "stdout",
     "output_type": "stream",
     "text": [
      "Vector: (Decimal('0.660'), Decimal('-0.751'))\n"
     ]
    }
   ],
   "source": [
    "print(v3.normalized())"
   ]
  },
  {
   "cell_type": "code",
   "execution_count": 508,
   "metadata": {
    "collapsed": false
   },
   "outputs": [],
   "source": [
    "v1 = [-0.221, 7.437]\n",
    "v1 = Vector(v1)\n",
    "v2 = [8.813, -1.331, -6.247]\n",
    "v2 = Vector(v2)"
   ]
  },
  {
   "cell_type": "code",
   "execution_count": 509,
   "metadata": {
    "collapsed": false
   },
   "outputs": [
    {
     "name": "stdout",
     "output_type": "stream",
     "text": [
      "7.44\n",
      "10.884\n"
     ]
    }
   ],
   "source": [
    "print(v1.magnitude())\n",
    "print(v2.magnitude())"
   ]
  },
  {
   "cell_type": "code",
   "execution_count": 510,
   "metadata": {
    "collapsed": true
   },
   "outputs": [],
   "source": [
    "v3 = Vector([5.581, -2.136])\n",
    "v4 = Vector([1.996, 3.108, -4.554])"
   ]
  },
  {
   "cell_type": "code",
   "execution_count": 511,
   "metadata": {
    "collapsed": false
   },
   "outputs": [
    {
     "name": "stdout",
     "output_type": "stream",
     "text": [
      "Vector: (Decimal('0.934'), Decimal('-0.357'))\n",
      "Vector: (Decimal('0.340'), Decimal('0.530'), Decimal('-0.777'))\n"
     ]
    }
   ],
   "source": [
    "print(v3.normalized())\n",
    "print(v4.normalized())\n",
    "# print(Vector([0,0,0,0,]).normalized())"
   ]
  },
  {
   "cell_type": "code",
   "execution_count": 512,
   "metadata": {
    "collapsed": false
   },
   "outputs": [
    {
     "name": "stdout",
     "output_type": "stream",
     "text": [
      "-11.84632000000000023085644507\n"
     ]
    }
   ],
   "source": [
    "print(v1.dot(v2))"
   ]
  },
  {
   "cell_type": "code",
   "execution_count": 513,
   "metadata": {
    "collapsed": false
   },
   "outputs": [
    {
     "name": "stdout",
     "output_type": "stream",
     "text": [
      "5\n"
     ]
    }
   ],
   "source": [
    "# Testing the dot\n",
    "print(Vector([1,2,-1]).dot(Vector([3,1,0])))"
   ]
  },
  {
   "cell_type": "code",
   "execution_count": 525,
   "metadata": {
    "collapsed": false
   },
   "outputs": [
    {
     "data": {
      "text/plain": [
       "49.78309603993665"
      ]
     },
     "execution_count": 525,
     "metadata": {},
     "output_type": "execute_result"
    }
   ],
   "source": [
    "#Testing the calculation of the inner angle between 2 vectors\n",
    "v1 = Vector([1,2,-1])\n",
    "v2 = Vector([3,1,0])\n",
    "\n",
    "# Calculate the Angle\n",
    "v1.angle(v2, True)"
   ]
  },
  {
   "cell_type": "code",
   "execution_count": 522,
   "metadata": {
    "collapsed": false
   },
   "outputs": [
    {
     "data": {
      "text/plain": [
       "0.868878937733445"
      ]
     },
     "execution_count": 522,
     "metadata": {},
     "output_type": "execute_result"
    }
   ],
   "source": [
    "v1.angle(v2)"
   ]
  },
  {
   "cell_type": "code",
   "execution_count": 516,
   "metadata": {
    "collapsed": false
   },
   "outputs": [
    {
     "name": "stdout",
     "output_type": "stream",
     "text": [
      "-41.382\n",
      "56.397\n"
     ]
    }
   ],
   "source": [
    "print(round(Vector([7.887, 4.138]).dot(Vector([-8.802, 6.776])),3))\n",
    "print(round(Vector([-5.955, -4.904, -1.874]).dot(Vector([-4.496, -8.755, 7.103])),3))"
   ]
  },
  {
   "cell_type": "code",
   "execution_count": 519,
   "metadata": {
    "collapsed": false
   },
   "outputs": [
    {
     "name": "stdout",
     "output_type": "stream",
     "text": [
      "3.0704\n",
      "60.275\n"
     ]
    }
   ],
   "source": [
    "print(round(Vector([3.183, -7.627]).angle(Vector([-2.668, 5.319])),4))\n",
    "print(round(Vector([7.35, 0.221, 5.188]).angle(Vector([2.751, 8.259, 3.985]), True),3))"
   ]
  },
  {
   "cell_type": "markdown",
   "metadata": {
    "collapsed": true
   },
   "source": []
  },
  {
   "cell_type": "code",
   "execution_count": null,
   "metadata": {
    "collapsed": true
   },
   "outputs": [],
   "source": []
  },
  {
   "cell_type": "code",
   "execution_count": null,
   "metadata": {
    "collapsed": true
   },
   "outputs": [],
   "source": []
  }
 ],
 "metadata": {
  "kernelspec": {
   "display_name": "Python 3",
   "language": "python",
   "name": "python3"
  },
  "language_info": {
   "codemirror_mode": {
    "name": "ipython",
    "version": 3
   },
   "file_extension": ".py",
   "mimetype": "text/x-python",
   "name": "python",
   "nbconvert_exporter": "python",
   "pygments_lexer": "ipython3",
   "version": "3.6.0"
  }
 },
 "nbformat": 4,
 "nbformat_minor": 2
}
