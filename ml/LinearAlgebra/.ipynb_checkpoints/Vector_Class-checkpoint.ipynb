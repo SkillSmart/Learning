{
 "cells": [
  {
   "cell_type": "code",
   "execution_count": 656,
   "metadata": {
    "collapsed": false
   },
   "outputs": [],
   "source": [
    "from math import sqrt, acos, pi\n",
    "import numpy as np\n",
    "\n",
    "from decimal import Decimal, getcontext\n",
    "\n",
    "class Vector(object):\n",
    "    def __init__(self, coordinates):\n",
    "        try:\n",
    "            if not coordinates:\n",
    "                raise ValueError\n",
    "            self.coordinates = tuple([Decimal(x) for x in coordinates] )\n",
    "            self.dimensions = len(coordinates)\n",
    "        \n",
    "        except ValueError:\n",
    "            raise ValueError('The coordinates must be nonempty')\n",
    "        \n",
    "        except TypeError:\n",
    "            raise TypeError('The coordinates must be an iterable')\n",
    "            \n",
    "            \n",
    "    def __str__(self):\n",
    "        return 'Vector: {}'.format(self.coordinates)\n",
    "    \n",
    "    def __eq__(self, v):\n",
    "        return self.coordinates == v.coordinates\n",
    "    \n",
    "    def __add__(self, right):\n",
    "#         result = []\n",
    "#         for i in range(self.dimensions):\n",
    "#             result.append(round(self.coordinates[i] + right.coordinates[i], 3))\n",
    "#         return Vector(result)\n",
    "#         # Implement using list comprehensions with a zip function\n",
    "        return Vector([x+y for x,y in zip(self.coordinates, right.coordinates)])\n",
    "    \n",
    "    def __truediv__(self, right):\n",
    "        return Vector([x/y for x,y in zip(self.coordinates, right.coordinates)])\n",
    "        \n",
    "    def __round__(self, digits):\n",
    "        return Vector([round(x, digits) for x in self.coordinates])\n",
    "    \n",
    "    def __sub__(self, right):\n",
    "        return Vector([x-y for x,y in zip(self.coordinates, right.coordinates)])\n",
    "#         result = []\n",
    "#         for i in range(self.dimensions):\n",
    "#             result.append(round(self.coordinates[i] - right.coordinates[i], 3))\n",
    "#         return Vector(result)\n",
    "    \n",
    "    def __mul__(self, scalar):\n",
    "        #Multiplication with a scalar\n",
    "        if scalar.dimensions:\n",
    "            return true\n",
    "        else:\n",
    "            return Vector([Decimal(scalar) * x for x in self.coordinates])\n",
    "        \n",
    "#         result = []\n",
    "#         for i in range(self.dimensions):\n",
    "#             result.append(round(self.coordinates[i] * scalar, 3))\n",
    "#         return Vector(result)\n",
    "    \n",
    "    \n",
    "    def magnitude(self):\n",
    "        return round(math.sqrt(sum([x ** 2 for x in self.coordinates])), 3)\n",
    "    \n",
    "    def normalized(self):\n",
    "        try:\n",
    "            return round(self * (1.0/self.magnitude()),3)\n",
    "        except:\n",
    "            raise Exception('Cannot normalize the zero vector')\n",
    "    \n",
    "    def dot(self, right):\n",
    "        \"\"\"Calculates the element wise product sum on two vectors\"\"\"\n",
    "        return sum([x*y for x,y in zip(self.coordinates, right.coordinates)])\n",
    "    \n",
    "    def angle(self, right, degree=False):\n",
    "        radians =  math.acos(self.dot(right)/Decimal((self.magnitude() * right.magnitude())))\n",
    "        if degree:\n",
    "            return radians * (180./math.pi)\n",
    "        else: \n",
    "            return radians\n",
    "    \n",
    "    def is_parallel(self, right):\n",
    "        result = self/right \n",
    "        if len(set(result.coordinates)) !=1:\n",
    "            return False\n",
    "        else:\n",
    "            return True\n",
    "    \n",
    "    def is_othorgonal(self, right):\n",
    "        \"\"\"Checks if two Vectors are othorgonal to each other\"\"\"\n",
    "        if self.dot(right) == 0:\n",
    "            return False\n",
    "        else:\n",
    "            return True\n",
    "        \n",
    "    \n",
    "    def projection(self, basis):\n",
    "        \"\"\"Computes the projected lenght of this vector onto a specific basis\"\"\"\n",
    "        \n",
    "        #self.coordinates\n",
    "        return self * basis.normalized()\n",
    "            \n",
    "    "
   ]
  },
  {
   "cell_type": "code",
   "execution_count": 631,
   "metadata": {
    "collapsed": false
   },
   "outputs": [
    {
     "name": "stdout",
     "output_type": "stream",
     "text": [
      "True\n"
     ]
    }
   ],
   "source": [
    "v1 = Vector([1,2,3])\n",
    "v2 = Vector([-1,2,3])\n",
    "print(v1.is_parallel(v1*12.2345))\n"
   ]
  },
  {
   "cell_type": "code",
   "execution_count": 660,
   "metadata": {
    "collapsed": false
   },
   "outputs": [
    {
     "ename": "AttributeError",
     "evalue": "'Vector' object has no attribute 'dimension'",
     "output_type": "error",
     "traceback": [
      "\u001b[0;31m---------------------------------------------------------------------------\u001b[0m",
      "\u001b[0;31mAttributeError\u001b[0m                            Traceback (most recent call last)",
      "\u001b[0;32m<ipython-input-660-8fe96f74d06f>\u001b[0m in \u001b[0;36m<module>\u001b[0;34m()\u001b[0m\n\u001b[1;32m      3\u001b[0m \u001b[0mb1\u001b[0m \u001b[1;33m=\u001b[0m \u001b[0mVector\u001b[0m\u001b[1;33m(\u001b[0m\u001b[1;33m[\u001b[0m\u001b[1;36m0.825\u001b[0m\u001b[1;33m,\u001b[0m \u001b[1;36m2.036\u001b[0m\u001b[1;33m]\u001b[0m\u001b[1;33m)\u001b[0m\u001b[1;33m\u001b[0m\u001b[0m\n\u001b[1;32m      4\u001b[0m \u001b[1;33m\u001b[0m\u001b[0m\n\u001b[0;32m----> 5\u001b[0;31m \u001b[0mv1\u001b[0m\u001b[1;33m.\u001b[0m\u001b[0mdimension\u001b[0m\u001b[1;33m\u001b[0m\u001b[0m\n\u001b[0m",
      "\u001b[0;31mAttributeError\u001b[0m: 'Vector' object has no attribute 'dimension'"
     ]
    }
   ],
   "source": [
    "# Projection\n",
    "v1 = Vector([3.039, 1.879])\n",
    "b1 = Vector([0.825, 2.036]) \n",
    "\n",
    "v1.dimension"
   ]
  },
  {
   "cell_type": "code",
   "execution_count": 641,
   "metadata": {
    "collapsed": false
   },
   "outputs": [
    {
     "name": "stdout",
     "output_type": "stream",
     "text": [
      "Vector: (Decimal('3.039000000000000145661260830820538103580474853515625'), Decimal('1.879000000000000003552713678800500929355621337890625'))\n",
      "Vector: (Decimal('0.376'), Decimal('0.927'))\n"
     ]
    }
   ],
   "source": [
    "print(v1)\n",
    "print(b1.normalized())"
   ]
  },
  {
   "cell_type": "code",
   "execution_count": 497,
   "metadata": {
    "collapsed": false
   },
   "outputs": [
    {
     "name": "stdout",
     "output_type": "stream",
     "text": [
      "False\n",
      "True\n"
     ]
    }
   ],
   "source": [
    "print(v1==v2)\n",
    "print(v1==v1)"
   ]
  },
  {
   "cell_type": "code",
   "execution_count": 498,
   "metadata": {
    "collapsed": false
   },
   "outputs": [],
   "source": [
    "v3 = Vector([8.212, -9.341]) \n",
    "v4 = Vector([-1.129, 2.111])"
   ]
  },
  {
   "cell_type": "code",
   "execution_count": 499,
   "metadata": {
    "collapsed": false
   },
   "outputs": [
    {
     "name": "stdout",
     "output_type": "stream",
     "text": [
      "Vector: (Decimal('8.211999999999999744204615126363933086395263671875'), Decimal('-9.3409999999999993036681189551018178462982177734375'))\n"
     ]
    }
   ],
   "source": [
    "print(v3)"
   ]
  },
  {
   "cell_type": "code",
   "execution_count": 500,
   "metadata": {
    "collapsed": false
   },
   "outputs": [
    {
     "name": "stdout",
     "output_type": "stream",
     "text": [
      "2\n"
     ]
    }
   ],
   "source": [
    "print(v3.dimensions)"
   ]
  },
  {
   "cell_type": "code",
   "execution_count": 501,
   "metadata": {
    "collapsed": false
   },
   "outputs": [
    {
     "data": {
      "text/plain": [
       "Decimal('8.211999999999999744204615126363933086395263671875')"
      ]
     },
     "execution_count": 501,
     "metadata": {},
     "output_type": "execute_result"
    }
   ],
   "source": [
    "v3.coordinates[0]"
   ]
  },
  {
   "cell_type": "code",
   "execution_count": 502,
   "metadata": {
    "collapsed": false
   },
   "outputs": [
    {
     "name": "stdout",
     "output_type": "stream",
     "text": [
      "Vector: (Decimal('7.088999999999999968025576891'), Decimal('-7.229999999999999094058011906'))\n"
     ]
    }
   ],
   "source": [
    "print(Vector([8.218, -9.341]) + Vector([-1.129, 2.111]))"
   ]
  },
  {
   "cell_type": "code",
   "execution_count": 503,
   "metadata": {
    "collapsed": false
   },
   "outputs": [
    {
     "name": "stdout",
     "output_type": "stream",
     "text": [
      "Vector: (Decimal('9.340999999999999747757328805'), Decimal('-11.45199999999999951327822600'))\n"
     ]
    }
   ],
   "source": [
    "print(v3 - v4)"
   ]
  },
  {
   "cell_type": "code",
   "execution_count": 504,
   "metadata": {
    "collapsed": false
   },
   "outputs": [
    {
     "name": "stdout",
     "output_type": "stream",
     "text": [
      "Vector: (Decimal('15.34200000000000052580162446'), Decimal('7.336999999999999855226917589'))\n"
     ]
    }
   ],
   "source": [
    "print(Vector([7.119, 8.215]) - Vector([-8.223, 0.878]))"
   ]
  },
  {
   "cell_type": "code",
   "execution_count": 505,
   "metadata": {
    "collapsed": false
   },
   "outputs": [
    {
     "name": "stdout",
     "output_type": "stream",
     "text": [
      "Vector: (Decimal('12.38211000000000054020787843'), Decimal('-7.498920000000000222790674798'), Decimal('-2.356380000000000081388229489'))\n"
     ]
    }
   ],
   "source": [
    "print(Vector([1.671, -1.012, -0.318]) * 7.41)"
   ]
  },
  {
   "cell_type": "code",
   "execution_count": 506,
   "metadata": {
    "collapsed": false
   },
   "outputs": [
    {
     "name": "stdout",
     "output_type": "stream",
     "text": [
      "12.437\n"
     ]
    }
   ],
   "source": [
    "print(v3.magnitude())"
   ]
  },
  {
   "cell_type": "code",
   "execution_count": 507,
   "metadata": {
    "collapsed": false
   },
   "outputs": [
    {
     "name": "stdout",
     "output_type": "stream",
     "text": [
      "Vector: (Decimal('0.660'), Decimal('-0.751'))\n"
     ]
    }
   ],
   "source": [
    "print(v3.normalized())"
   ]
  },
  {
   "cell_type": "code",
   "execution_count": 508,
   "metadata": {
    "collapsed": false
   },
   "outputs": [],
   "source": [
    "v1 = [-0.221, 7.437]\n",
    "v1 = Vector(v1)\n",
    "v2 = [8.813, -1.331, -6.247]\n",
    "v2 = Vector(v2)"
   ]
  },
  {
   "cell_type": "code",
   "execution_count": 509,
   "metadata": {
    "collapsed": false
   },
   "outputs": [
    {
     "name": "stdout",
     "output_type": "stream",
     "text": [
      "7.44\n",
      "10.884\n"
     ]
    }
   ],
   "source": [
    "print(v1.magnitude())\n",
    "print(v2.magnitude())"
   ]
  },
  {
   "cell_type": "code",
   "execution_count": 510,
   "metadata": {
    "collapsed": true
   },
   "outputs": [],
   "source": [
    "v3 = Vector([5.581, -2.136])\n",
    "v4 = Vector([1.996, 3.108, -4.554])"
   ]
  },
  {
   "cell_type": "code",
   "execution_count": 511,
   "metadata": {
    "collapsed": false
   },
   "outputs": [
    {
     "name": "stdout",
     "output_type": "stream",
     "text": [
      "Vector: (Decimal('0.934'), Decimal('-0.357'))\n",
      "Vector: (Decimal('0.340'), Decimal('0.530'), Decimal('-0.777'))\n"
     ]
    }
   ],
   "source": [
    "print(v3.normalized())\n",
    "print(v4.normalized())\n",
    "# print(Vector([0,0,0,0,]).normalized())"
   ]
  },
  {
   "cell_type": "code",
   "execution_count": 512,
   "metadata": {
    "collapsed": false
   },
   "outputs": [
    {
     "name": "stdout",
     "output_type": "stream",
     "text": [
      "-11.84632000000000023085644507\n"
     ]
    }
   ],
   "source": [
    "print(v1.dot(v2))"
   ]
  },
  {
   "cell_type": "code",
   "execution_count": 513,
   "metadata": {
    "collapsed": false
   },
   "outputs": [
    {
     "name": "stdout",
     "output_type": "stream",
     "text": [
      "5\n"
     ]
    }
   ],
   "source": [
    "# Testing the dot\n",
    "print(Vector([1,2,-1]).dot(Vector([3,1,0])))"
   ]
  },
  {
   "cell_type": "code",
   "execution_count": 525,
   "metadata": {
    "collapsed": false
   },
   "outputs": [
    {
     "data": {
      "text/plain": [
       "49.78309603993665"
      ]
     },
     "execution_count": 525,
     "metadata": {},
     "output_type": "execute_result"
    }
   ],
   "source": [
    "#Testing the calculation of the inner angle between 2 vectors\n",
    "v1 = Vector([1,2,-1])\n",
    "v2 = Vector([3,1,0])\n",
    "\n",
    "# Calculate the Angle\n",
    "v1.angle(v2, True)"
   ]
  },
  {
   "cell_type": "code",
   "execution_count": 522,
   "metadata": {
    "collapsed": false
   },
   "outputs": [
    {
     "data": {
      "text/plain": [
       "0.868878937733445"
      ]
     },
     "execution_count": 522,
     "metadata": {},
     "output_type": "execute_result"
    }
   ],
   "source": [
    "v1.angle(v2)"
   ]
  },
  {
   "cell_type": "code",
   "execution_count": 516,
   "metadata": {
    "collapsed": false
   },
   "outputs": [
    {
     "name": "stdout",
     "output_type": "stream",
     "text": [
      "-41.382\n",
      "56.397\n"
     ]
    }
   ],
   "source": [
    "print(round(Vector([7.887, 4.138]).dot(Vector([-8.802, 6.776])),3))\n",
    "print(round(Vector([-5.955, -4.904, -1.874]).dot(Vector([-4.496, -8.755, 7.103])),3))"
   ]
  },
  {
   "cell_type": "code",
   "execution_count": 519,
   "metadata": {
    "collapsed": false
   },
   "outputs": [
    {
     "name": "stdout",
     "output_type": "stream",
     "text": [
      "3.0704\n",
      "60.275\n"
     ]
    }
   ],
   "source": [
    "print(round(Vector([3.183, -7.627]).angle(Vector([-2.668, 5.319])),4))\n",
    "print(round(Vector([7.35, 0.221, 5.188]).angle(Vector([2.751, 8.259, 3.985]), True),3))"
   ]
  },
  {
   "cell_type": "code",
   "execution_count": null,
   "metadata": {
    "collapsed": true
   },
   "outputs": [],
   "source": []
  },
  {
   "cell_type": "code",
   "execution_count": null,
   "metadata": {
    "collapsed": true
   },
   "outputs": [],
   "source": []
  },
  {
   "cell_type": "code",
   "execution_count": null,
   "metadata": {
    "collapsed": true
   },
   "outputs": [],
   "source": []
  }
 ],
 "metadata": {
  "kernelspec": {
   "display_name": "Python 3",
   "language": "python",
   "name": "python3"
  },
  "language_info": {
   "codemirror_mode": {
    "name": "ipython",
    "version": 3
   },
   "file_extension": ".py",
   "mimetype": "text/x-python",
   "name": "python",
   "nbconvert_exporter": "python",
   "pygments_lexer": "ipython3",
   "version": "3.6.0"
  }
 },
 "nbformat": 4,
 "nbformat_minor": 2
}
