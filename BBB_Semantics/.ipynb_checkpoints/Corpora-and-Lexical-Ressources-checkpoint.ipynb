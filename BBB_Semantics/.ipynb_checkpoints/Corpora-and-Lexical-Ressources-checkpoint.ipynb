{
 "cells": [
  {
   "cell_type": "markdown",
   "metadata": {},
   "source": [
    "# Accessing Text Corpora and Lexical Resources\n",
    "Practical work in Natural Language Processing typically uses large bodies of linguisticdata, or corpora. The goal of this chapter is to answer the following questions:\n",
    "- 1. What are some useful text corpora and lexical resources, and how can we accessthem with Python?\n",
    "- 2. Which Python constructs are most helpful for this work?\n",
    "- 3. How do we avoid repeating ourselves when writing Python code?"
   ]
  },
  {
   "cell_type": "code",
   "execution_count": 1,
   "metadata": {
    "collapsed": true
   },
   "outputs": [],
   "source": [
    "% matplotlib inline\n",
    "import nltk\n",
    "import matplotlib.pyplot as plt"
   ]
  },
  {
   "cell_type": "markdown",
   "metadata": {},
   "source": [
    "## Common Methods on the Corpus Reader Object in NLTK\n"
   ]
  },
  {
   "cell_type": "code",
   "execution_count": 2,
   "metadata": {
    "collapsed": false
   },
   "outputs": [
    {
     "data": {
      "text/plain": [
       "nltk.corpus.reader.api.CorpusReader"
      ]
     },
     "execution_count": 2,
     "metadata": {},
     "output_type": "execute_result"
    }
   ],
   "source": [
    "# Instantiating a Corpus Reader\n",
    "corpus = nltk.corpus.CorpusReader\n",
    "corpus"
   ]
  },
  {
   "cell_type": "code",
   "execution_count": null,
   "metadata": {
    "collapsed": false
   },
   "outputs": [],
   "source": [
    "# List the files of the corpus\n",
    "corpus.fileids()\n",
    "\n",
    "# List Files corressponding to category\n",
    "corpus.fileids([categories])\n",
    "\n",
    "# Display the raw text of the corpus\n",
    "corpus.raw()\n",
    "\n",
    "# Display raw text of specific files\n",
    "corpus.raw(fileids=[f1, f2, f3])\n",
    "\n",
    "# Display raw text corresponding to categories\n",
    "corpus.raw(categories=[c1, c2])\n",
    "\n",
    "# Display text as sentences\n",
    "corpus.sents()\n",
    "\n",
    "# Display text as words\n",
    "corpus.words()\n",
    "\n",
    "# ... within specific files\n",
    "corpus.words([f1, f2])\n",
    "\n",
    "# ... for a specific category\n",
    "corpus.words([c1, c2])\n",
    "\n",
    "# Display file path on disk\n",
    "corpus.abspath(f1)\n",
    "\n",
    "# Display file encoding (when known)\n",
    "corpus.encoding(f1)\n",
    "\n",
    "# Display root of locally installed corpus\n",
    "corpus.root()"
   ]
  },
  {
   "cell_type": "markdown",
   "metadata": {},
   "source": [
    "## Loading a corpus from files\n",
    "\n",
    "The 'PlainCorpusReader' exposes convenience functions to easily load a bunch of textfiles in a given folder structure into a single corpus.<br>\n",
    "\n",
    "To do this, just pass the Root of the folder, an a regEx to possibly subset the files in the Folder."
   ]
  },
  {
   "cell_type": "code",
   "execution_count": null,
   "metadata": {
    "collapsed": false
   },
   "outputs": [],
   "source": [
    "from nltk.corpus import PlaintextCorpusReader\n",
    "# Setting Root\n",
    "corpus_root = '/data/raw'\n",
    "# Loading Folder List into Corpus\n",
    "wordlist = PlaintextCorpusReader(corpus_root, '*.txt')"
   ]
  },
  {
   "cell_type": "markdown",
   "metadata": {},
   "source": [
    "### Gutenberg Corpus"
   ]
  },
  {
   "cell_type": "code",
   "execution_count": 4,
   "metadata": {
    "collapsed": true
   },
   "outputs": [],
   "source": [
    "# Loading a Corpus from the Collection\n",
    "gutenberg = nltk.corpus.gutenberg"
   ]
  },
  {
   "cell_type": "code",
   "execution_count": 5,
   "metadata": {
    "collapsed": false
   },
   "outputs": [
    {
     "data": {
      "text/plain": [
       "['austen-emma.txt',\n",
       " 'austen-persuasion.txt',\n",
       " 'austen-sense.txt',\n",
       " 'bible-kjv.txt',\n",
       " 'blake-poems.txt',\n",
       " 'bryant-stories.txt',\n",
       " 'burgess-busterbrown.txt',\n",
       " 'carroll-alice.txt',\n",
       " 'chesterton-ball.txt',\n",
       " 'chesterton-brown.txt',\n",
       " 'chesterton-thursday.txt',\n",
       " 'edgeworth-parents.txt',\n",
       " 'melville-moby_dick.txt',\n",
       " 'milton-paradise.txt',\n",
       " 'shakespeare-caesar.txt',\n",
       " 'shakespeare-hamlet.txt',\n",
       " 'shakespeare-macbeth.txt',\n",
       " 'whitman-leaves.txt']"
      ]
     },
     "execution_count": 5,
     "metadata": {},
     "output_type": "execute_result"
    }
   ],
   "source": [
    "# Inspecting the Data contained in the Corpus\n",
    "gutenberg.fileids()"
   ]
  },
  {
   "cell_type": "code",
   "execution_count": 16,
   "metadata": {
    "collapsed": true
   },
   "outputs": [],
   "source": [
    "# Loading an individual Text as a list of words from the Collection\n",
    "emma = gutenberg.words('austen-emma.txt')"
   ]
  },
  {
   "cell_type": "code",
   "execution_count": 12,
   "metadata": {
    "collapsed": false
   },
   "outputs": [
    {
     "name": "stdout",
     "output_type": "stream",
     "text": [
      "192427 word tokens\n"
     ]
    },
    {
     "data": {
      "text/plain": [
       "nltk.corpus.reader.util.StreamBackedCorpusView"
      ]
     },
     "execution_count": 12,
     "metadata": {},
     "output_type": "execute_result"
    }
   ],
   "source": [
    "print(len(emma), 'word tokens')\n",
    "type(emma)"
   ]
  },
  {
   "cell_type": "code",
   "execution_count": 18,
   "metadata": {
    "collapsed": false
   },
   "outputs": [
    {
     "name": "stdout",
     "output_type": "stream",
     "text": [
      "4 24 26 austen-emma.txt\n",
      "4 26 16 austen-persuasion.txt\n",
      "4 28 22 austen-sense.txt\n",
      "4 33 79 bible-kjv.txt\n",
      "4 19 5 blake-poems.txt\n",
      "4 19 14 bryant-stories.txt\n",
      "4 17 12 burgess-busterbrown.txt\n",
      "4 20 12 carroll-alice.txt\n",
      "4 20 11 chesterton-ball.txt\n",
      "4 22 11 chesterton-brown.txt\n",
      "4 18 10 chesterton-thursday.txt\n",
      "4 20 24 edgeworth-parents.txt\n",
      "4 25 15 melville-moby_dick.txt\n",
      "4 52 10 milton-paradise.txt\n",
      "4 11 8 shakespeare-caesar.txt\n",
      "4 12 7 shakespeare-hamlet.txt\n",
      "4 12 6 shakespeare-macbeth.txt\n",
      "4 36 12 whitman-leaves.txt\n"
     ]
    }
   ],
   "source": [
    "# Comparing Text based on their individual word frequency differences\n",
    "for fileid in gutenberg.fileids():\n",
    "    num_chars = len(gutenberg.raw(fileid))\n",
    "    num_words = len(gutenberg.words(fileid))\n",
    "    num_sents = len(gutenberg.sents(fileid))\n",
    "    num_vocab = len(set([w.lower() for w in gutenberg.words(fileid)]))\n",
    "    print( int(num_chars/num_words), int(num_words/num_sents), int(num_words/num_vocab), fileid)"
   ]
  },
  {
   "cell_type": "markdown",
   "metadata": {},
   "source": [
    "### Web and Chat Text"
   ]
  },
  {
   "cell_type": "code",
   "execution_count": 25,
   "metadata": {
    "collapsed": false
   },
   "outputs": [
    {
     "name": "stdout",
     "output_type": "stream",
     "text": [
      "firefox.txt ::: Cookie Manager: \"Don't allow sites that set removed cookies to se\n",
      "grail.txt ::: SCENE 1: [wind] [clop clop clop] \n",
      "KING ARTHUR: Whoa there!  [clop\n",
      "overheard.txt ::: White guy: So, do you have any plans for this evening?\n",
      "Asian girl\n",
      "pirates.txt ::: PIRATES OF THE CARRIBEAN: DEAD MAN'S CHEST, by Ted Elliott & Terr\n",
      "singles.txt ::: 25 SEXY MALE, seeks attrac older single lady, for discreet encoun\n",
      "wine.txt ::: Lovely delicate, fragrant Rhone wine. Polished leather and strawb\n"
     ]
    }
   ],
   "source": [
    "# Corpus of Web Text\n",
    "\n",
    "from nltk.corpus import webtext\n",
    "for file in webtext.fileids():\n",
    "    print(file,':::' ,webtext.raw(file)[:65])"
   ]
  },
  {
   "cell_type": "code",
   "execution_count": 39,
   "metadata": {
    "collapsed": false
   },
   "outputs": [
    {
     "data": {
      "text/plain": [
       "[['ya', 'man'],\n",
       " ['I',\n",
       "  'am',\n",
       "  'too',\n",
       "  '..',\n",
       "  'Connected',\n",
       "  'to',\n",
       "  '...',\n",
       "  'Slip',\n",
       "  'away',\n",
       "  '...',\n",
       "  'Fade',\n",
       "  'away',\n",
       "  '...',\n",
       "  'Days',\n",
       "  'away',\n",
       "  'I',\n",
       "  '...',\n",
       "  'Still',\n",
       "  'feel',\n",
       "  'you',\n",
       "  '...',\n",
       "  'Touching',\n",
       "  'me',\n",
       "  '...',\n",
       "  'Changing',\n",
       "  'me',\n",
       "  '...',\n",
       "  'Considerably',\n",
       "  'killing',\n",
       "  'me',\n",
       "  '...'],\n",
       " ['heeeey', '!'],\n",
       " ['do', \"n't\", 'you', 'have', 'a', 'sharpie', '?'],\n",
       " ['26', '/', 'm']]"
      ]
     },
     "execution_count": 39,
     "metadata": {},
     "output_type": "execute_result"
    }
   ],
   "source": [
    "# Corpus of Chat Text\n",
    "\n",
    "from nltk.corpus import nps_chat\n",
    "chatroom = nps_chat.posts('10-19-20s_706posts.xml')\n",
    "chatroom[50:55]"
   ]
  },
  {
   "cell_type": "markdown",
   "metadata": {},
   "source": [
    "### Brown Corpus\n",
    "The Brown Corpus was the first million-word electronic corpus of English, created in1961 at Brown University. This corpus contains text from 500 sources, and the sourceshave been categorized by genre, such as news, editorial, and so on."
   ]
  },
  {
   "cell_type": "code",
   "execution_count": 40,
   "metadata": {
    "collapsed": false
   },
   "outputs": [
    {
     "data": {
      "text/plain": [
       "['adventure',\n",
       " 'belles_lettres',\n",
       " 'editorial',\n",
       " 'fiction',\n",
       " 'government',\n",
       " 'hobbies',\n",
       " 'humor',\n",
       " 'learned',\n",
       " 'lore',\n",
       " 'mystery',\n",
       " 'news',\n",
       " 'religion',\n",
       " 'reviews',\n",
       " 'romance',\n",
       " 'science_fiction']"
      ]
     },
     "execution_count": 40,
     "metadata": {},
     "output_type": "execute_result"
    }
   ],
   "source": [
    "from nltk.corpus import brown\n",
    "brown.categories()"
   ]
  },
  {
   "cell_type": "code",
   "execution_count": 49,
   "metadata": {
    "collapsed": false
   },
   "outputs": [
    {
     "name": "stdout",
     "output_type": "stream",
     "text": [
      "Words::\n",
      " ['The', 'Fulton', 'County', 'Grand', 'Jury', 'said', ...]\n",
      "\n",
      "By Sentence::\n",
      " [['The', 'Fulton', 'County', 'Grand', 'Jury', 'said', 'Friday', 'an', 'investigation', 'of', \"Atlanta's\", 'recent', 'primary', 'election', 'produced', '``', 'no', 'evidence', \"''\", 'that', 'any', 'irregularities', 'took', 'place', '.'], ['The', 'jury', 'further', 'said', 'in', 'term-end', 'presentments', 'that', 'the', 'City', 'Executive', 'Committee', ',', 'which', 'had', 'over-all', 'charge', 'of', 'the', 'election', ',', '``', 'deserves', 'the', 'praise', 'and', 'thanks', 'of', 'the', 'City', 'of', 'Atlanta', \"''\", 'for', 'the', 'manner', 'in', 'which', 'the', 'election', 'was', 'conducted', '.']]\n"
     ]
    }
   ],
   "source": [
    "# It can be accesses as well with words and sentences\n",
    "print( 'Words::\\n', brown.words(categories='news') )\n",
    "print( '\\nBy Sentence::\\n', brown.sents(categories='news')[:2] )\n",
    "\n"
   ]
  },
  {
   "cell_type": "code",
   "execution_count": 53,
   "metadata": {
    "collapsed": false
   },
   "outputs": [
    {
     "data": {
      "text/plain": [
       "115024"
      ]
     },
     "execution_count": 53,
     "metadata": {},
     "output_type": "execute_result"
    }
   ],
   "source": [
    "# Or concatenating multiple Categories\n",
    "len(brown.words(categories=['news', 'science_fiction']))"
   ]
  },
  {
   "cell_type": "code",
   "execution_count": 59,
   "metadata": {
    "collapsed": false
   },
   "outputs": [
    {
     "name": "stdout",
     "output_type": "stream",
     "text": [
      "can : 93\n",
      "could : 86\n",
      "may : 66\n",
      "might : 38\n",
      "would : 244\n",
      "must : 50\n",
      "will : 389\n"
     ]
    }
   ],
   "source": [
    "from nltk import FreqDist\n",
    "# Investigating genre specific usage patterns in words\n",
    "news = brown.words(categories='news')\n",
    "fdist_news = FreqDist(news)\n",
    "\n",
    "modals = ['can', 'could', 'may', 'might', 'would', 'must', 'will']\n",
    "\n",
    "for m in modals:\n",
    "    print(m, \":\", fdist[m])"
   ]
  },
  {
   "cell_type": "markdown",
   "metadata": {},
   "source": [
    "#### Comparing Genres based on usage of modals\n",
    "\n",
    "This is an example how to generate frequency distributions over a range of subsamples, and c"
   ]
  },
  {
   "cell_type": "code",
   "execution_count": 60,
   "metadata": {
    "collapsed": true
   },
   "outputs": [],
   "source": [
    "cfd = nltk.ConditionalFreqDist(\n",
    "    (genre, word)\n",
    "    for genre in brown.categories()\n",
    "    for word in brown.words(categories=genre))"
   ]
  },
  {
   "cell_type": "code",
   "execution_count": 63,
   "metadata": {
    "collapsed": false
   },
   "outputs": [
    {
     "name": "stdout",
     "output_type": "stream",
     "text": [
      "                  can could   may might  must  will \n",
      "           news    93    86    66    38    50   389 \n",
      "       religion    82    59    78    12    54    71 \n",
      "        hobbies   268    58   131    22    83   264 \n",
      "science_fiction    16    49     4    12     8    16 \n",
      "        romance    74   193    11    51    45    43 \n",
      "          humor    16    30     8     8     9    13 \n"
     ]
    }
   ],
   "source": [
    "genres=['news', 'religion', 'hobbies', 'science_fiction', 'romance', 'humor']\n",
    "modals = ['can', 'could', 'may', 'might', 'must', 'will']\n",
    "cfd.tabulate(conditions=genres, samples=modals)"
   ]
  },
  {
   "cell_type": "markdown",
   "metadata": {},
   "source": [
    "### Reuters Corpus\n",
    "\n",
    "The Reuters Corpus contains 10,788 news documents totaling 1.3 million words. Thedocuments have been classified into 90 topics, and grouped into two sets, called “train-ing” and “test”; thus, the text with fileid 'test/14826' is a document drawn from thetest set"
   ]
  },
  {
   "cell_type": "code",
   "execution_count": 84,
   "metadata": {
    "collapsed": false
   },
   "outputs": [
    {
     "data": {
      "text/plain": [
       "['acq',\n",
       " 'alum',\n",
       " 'barley',\n",
       " 'bop',\n",
       " 'carcass',\n",
       " 'castor-oil',\n",
       " 'cocoa',\n",
       " 'coconut',\n",
       " 'coconut-oil',\n",
       " 'coffee',\n",
       " 'copper',\n",
       " 'copra-cake',\n",
       " 'corn',\n",
       " 'cotton',\n",
       " 'cotton-oil',\n",
       " 'cpi',\n",
       " 'cpu',\n",
       " 'crude',\n",
       " 'dfl',\n",
       " 'dlr']"
      ]
     },
     "execution_count": 84,
     "metadata": {},
     "output_type": "execute_result"
    }
   ],
   "source": [
    "from nltk.corpus import reuters\n",
    "reuters.categories()[:20]"
   ]
  },
  {
   "cell_type": "code",
   "execution_count": 67,
   "metadata": {
    "collapsed": false
   },
   "outputs": [],
   "source": [
    "jobs_articles = reuters.words(categories='jobs')"
   ]
  },
  {
   "cell_type": "code",
   "execution_count": 79,
   "metadata": {
    "collapsed": false
   },
   "outputs": [
    {
     "data": {
      "text/plain": [
       "['GERMAN',\n",
       " 'INDUSTRIAL',\n",
       " 'EMPLOYMENT',\n",
       " 'SEEN',\n",
       " 'STAGNATING',\n",
       " 'The',\n",
       " 'number',\n",
       " 'of',\n",
       " 'workers',\n",
       " 'employed']"
      ]
     },
     "execution_count": 79,
     "metadata": {},
     "output_type": "execute_result"
    }
   ],
   "source": [
    "freq_jobs = FreqDist(jobs_articles)\n",
    "vocab_jobs = freq_jobs.keys()\n",
    "list(vocab_jobs)[:10]"
   ]
  },
  {
   "cell_type": "code",
   "execution_count": 73,
   "metadata": {
    "collapsed": false
   },
   "outputs": [
    {
     "ename": "NameError",
     "evalue": "name 'freq_jobs' is not defined",
     "output_type": "error",
     "traceback": [
      "\u001b[0;31m---------------------------------------------------------------------------\u001b[0m",
      "\u001b[0;31mNameError\u001b[0m                                 Traceback (most recent call last)",
      "\u001b[0;32m<ipython-input-73-5b2669039e61>\u001b[0m in \u001b[0;36m<module>\u001b[0;34m()\u001b[0m\n\u001b[1;32m      1\u001b[0m \u001b[0mplt\u001b[0m\u001b[1;33m.\u001b[0m\u001b[0mfigure\u001b[0m\u001b[1;33m(\u001b[0m\u001b[0mfigsize\u001b[0m\u001b[1;33m=\u001b[0m\u001b[1;33m[\u001b[0m\u001b[1;36m16\u001b[0m\u001b[1;33m,\u001b[0m\u001b[1;36m6\u001b[0m\u001b[1;33m]\u001b[0m\u001b[1;33m)\u001b[0m\u001b[1;33m\u001b[0m\u001b[0m\n\u001b[0;32m----> 2\u001b[0;31m \u001b[0mfreq_jobs\u001b[0m\u001b[1;33m.\u001b[0m\u001b[0mplot\u001b[0m\u001b[1;33m(\u001b[0m\u001b[1;36m50\u001b[0m\u001b[1;33m,\u001b[0m \u001b[0mcumulative\u001b[0m\u001b[1;33m=\u001b[0m\u001b[1;32mTrue\u001b[0m\u001b[1;33m)\u001b[0m\u001b[1;33m\u001b[0m\u001b[0m\n\u001b[0m",
      "\u001b[0;31mNameError\u001b[0m: name 'freq_jobs' is not defined"
     ]
    },
    {
     "data": {
      "text/plain": [
       "<matplotlib.figure.Figure at 0x2324586f550>"
      ]
     },
     "metadata": {},
     "output_type": "display_data"
    }
   ],
   "source": [
    "plt.figure(figsize=[16,6])\n",
    "freq_jobs.plot(50, cumulative=True)"
   ]
  },
  {
   "cell_type": "code",
   "execution_count": 80,
   "metadata": {
    "collapsed": false
   },
   "outputs": [
    {
     "data": {
      "text/plain": [
       "['barley', 'corn', 'grain', 'wheat']"
      ]
     },
     "execution_count": 80,
     "metadata": {},
     "output_type": "execute_result"
    }
   ],
   "source": [
    "# The stories in this corpus overlap, we can ask to a list of all labels\n",
    "reuters.categories('training/9865')"
   ]
  },
  {
   "cell_type": "code",
   "execution_count": 157,
   "metadata": {
    "collapsed": false
   },
   "outputs": [
    {
     "data": {
      "text/plain": [
       "['FRENCH',\n",
       " 'FREE',\n",
       " 'MARKET',\n",
       " 'CEREAL',\n",
       " 'EXPORT',\n",
       " 'BIDS',\n",
       " 'DETAILED',\n",
       " 'French',\n",
       " 'operators',\n",
       " 'have',\n",
       " 'requested',\n",
       " 'licences',\n",
       " 'to',\n",
       " 'export',\n",
       " '675']"
      ]
     },
     "execution_count": 157,
     "metadata": {},
     "output_type": "execute_result"
    }
   ],
   "source": [
    "reuters.words('training/9865')[:15]"
   ]
  },
  {
   "cell_type": "markdown",
   "metadata": {},
   "source": [
    "## Inaugural Speech Corpus\n",
    "\n",
    "A Corpus containing the Speeches given at the US Presidential Inaugurations since 1789"
   ]
  },
  {
   "cell_type": "code",
   "execution_count": 88,
   "metadata": {
    "collapsed": false
   },
   "outputs": [
    {
     "data": {
      "text/plain": [
       "['1789',\n",
       " '1793',\n",
       " '1797',\n",
       " '1801',\n",
       " '1805',\n",
       " '1809',\n",
       " '1813',\n",
       " '1817',\n",
       " '1821',\n",
       " '1825']"
      ]
     },
     "execution_count": 88,
     "metadata": {},
     "output_type": "execute_result"
    }
   ],
   "source": [
    "from nltk.corpus import inaugural\n",
    "[fileid[:4] for fileid in inaugural.fileids()][:10]"
   ]
  },
  {
   "cell_type": "code",
   "execution_count": 128,
   "metadata": {
    "collapsed": false
   },
   "outputs": [
    {
     "data": {
      "image/png": "[encoded data removed]",
      "text/plain": [
       "<matplotlib.figure.Figure at 0x1fcbbcac5c0>"
      ]
     },
     "metadata": {},
     "output_type": "display_data"
    }
   ],
   "source": [
    "# Analyze Data Trends over time\n",
    "\n",
    "targets = ['nation', 'sovereignty']\n",
    "\n",
    "plt.figure(figsize=[16,8])\n",
    "cfd = nltk.ConditionalFreqDist(\n",
    "    (target, fileid[:4])\n",
    "    for fileid in inaugural.fileids()\n",
    "    for w in inaugural.words(fileid)\n",
    "    for target in targets\n",
    "    if w.lower().startswith(target)\n",
    ")\n",
    "cfd.plot()"
   ]
  },
  {
   "cell_type": "code",
   "execution_count": 156,
   "metadata": {
    "collapsed": false
   },
   "outputs": [
    {
     "data": {
      "text/plain": [
       "['1789-Washington.txt',\n",
       " '1793-Washington.txt',\n",
       " '1797-Adams.txt',\n",
       " '1801-Jefferson.txt',\n",
       " '1805-Jefferson.txt',\n",
       " '1809-Madison.txt',\n",
       " '1813-Madison.txt',\n",
       " '1817-Monroe.txt',\n",
       " '1821-Monroe.txt',\n",
       " '1825-Adams.txt']"
      ]
     },
     "execution_count": 156,
     "metadata": {},
     "output_type": "execute_result"
    }
   ],
   "source": [
    "inaugural.fileids()[:10]"
   ]
  },
  {
   "cell_type": "code",
   "execution_count": 155,
   "metadata": {
    "collapsed": false
   },
   "outputs": [
    {
     "data": {
      "text/plain": [
       "'Fellow-Citizens:\\n\\nWe stand to-day upon an eminence which overlooks a hundred years of national life -- a century crowded with perils, but crowned with the triumphs of liberty and law. Before continuing the onward march let us pause on this height for a moment to strengthen our faith and renew our hope by a glance at the pathway along which our people have traveled.\\n\\nIt is now three days more than a hundred years since the adoption of the first written constitution of the United States -- the Articles of Confederation and Perpetual Union. The new Republic was then beset with danger on every hand. It had not conquered a place in the family of nations. The decisive battle of the war for independence, whose centennial anniversary will soon be gratefully celebrated at Yorktown, had not yet been fought. The colonists were struggling not only against the armies of a great nation, but against the settled opinions of mankind; for the world did not then believe that the supreme authority of government could be safely intrusted to the guardianship of the people themselves.\\n\\nWe can not overestimate the fervent love of liberty, the intelligent courage, and the sum of common sense with which our fathers made the great experiment of self-government. When they found, after a short trial, that the confederacy of States, was too weak to meet the necessities of a vigorous and expanding republic, they boldly set it aside, and in its stead established a National Union, founded directly upon the w'"
      ]
     },
     "execution_count": 155,
     "metadata": {},
     "output_type": "execute_result"
    }
   ],
   "source": [
    "inaugural.raw('1881-Garfield.txt')[:1500]"
   ]
  },
  {
   "cell_type": "code",
   "execution_count": 151,
   "metadata": {
    "collapsed": false
   },
   "outputs": [
    {
     "data": {
      "image/png": "[encoded data removed]",
      "text/plain": [
       "<matplotlib.figure.Figure at 0x1fcba16ef28>"
      ]
     },
     "metadata": {},
     "output_type": "display_data"
    }
   ],
   "source": [
    "FreqDist(inaugural.words('1881-Garfield.txt')).plot(50,cumulative=True)"
   ]
  },
  {
   "cell_type": "markdown",
   "metadata": {},
   "source": [
    "## Annotated Text Corpora\n",
    "\n",
    "Many text corpora contain linguistic annotations, representing part-of-speech tags,named entities, syntactic structures, semantic roles, and so forth. NLTK providesconvenient ways to access several of these corpora, and has data packages containingcorpora and corpus samples, freely downloadable for use in teaching and research.<br>\n",
    "\n",
    "Table 2-2  lists some of the corpora. For information about downloading them, seehttp://www.nltk.org/data. For more examples of how to access NLTK corpora, pleaseconsult the Corpus HOWTO at http://www.nltk.org/howto."
   ]
  },
  {
   "cell_type": "code",
   "execution_count": 167,
   "metadata": {
    "collapsed": false
   },
   "outputs": [],
   "source": [
    "# TODO: Fill in example how to download and install Annotated Text Corpora"
   ]
  },
  {
   "cell_type": "markdown",
   "metadata": {},
   "source": [
    "## Checking for textual inconsitensies"
   ]
  },
  {
   "cell_type": "markdown",
   "metadata": {},
   "source": [
    "### Missspelling and unknown words\n",
    "\n",
    "In order to identify and clean unknown words in the text, we can make use of a general list corpus for a language that just contains all common words in the language. This is called a 'Word Corpus'"
   ]
  },
  {
   "cell_type": "code",
   "execution_count": 31,
   "metadata": {
    "collapsed": true
   },
   "outputs": [],
   "source": [
    "# Let's define a function to identify and return unknown words in a Text\n",
    "def unusual_words(text):\n",
    "    text_vocab = set(w.lower() for w in text if w.isalpha())\n",
    "    english_vocab = set(w.lower() for w in nltk.corpus.words.words())\n",
    "    unusual = text_vocab.difference(english_vocab)\n",
    "    return sorted(unusual)\n",
    "\n",
    "def content_fraction(text, language='english'):\n",
    "    \"\"\"\n",
    "    Calculates the fraction of content a text contains, against the amount of stopwords and fillers.\n",
    "    Language can be set to handle stopword deletion for different languages.\n",
    "    \"\"\"\n",
    "    stopwords = nltk.corpus.stopwords.words(language)\n",
    "    content = [w for w in text if w.lower() not in stopwords]\n",
    "    return len(content)/len(text)\n",
    "    "
   ]
  },
  {
   "cell_type": "code",
   "execution_count": 17,
   "metadata": {
    "collapsed": false
   },
   "outputs": [
    {
     "data": {
      "text/plain": [
       "['abbeyland',\n",
       " 'abhorred',\n",
       " 'abilities',\n",
       " 'abounded',\n",
       " 'abridgement',\n",
       " 'abused',\n",
       " 'abuses',\n",
       " 'accents',\n",
       " 'accepting',\n",
       " 'accommodations',\n",
       " 'accompanied',\n",
       " 'accounted',\n",
       " 'accounts',\n",
       " 'accustomary',\n",
       " 'aches',\n",
       " 'acknowledging',\n",
       " 'acknowledgment',\n",
       " 'acknowledgments',\n",
       " 'acquaintances',\n",
       " 'acquiesced',\n",
       " 'acquitted',\n",
       " 'acquitting',\n",
       " 'acted',\n",
       " 'actions',\n",
       " 'adapted',\n",
       " 'adding',\n",
       " 'additions',\n",
       " 'addressed',\n",
       " 'addresses',\n",
       " 'addressing',\n",
       " 'adhering',\n",
       " 'adieus',\n",
       " 'adjusting',\n",
       " 'administering',\n",
       " 'admirers',\n",
       " 'admires',\n",
       " 'admitting',\n",
       " 'adorned',\n",
       " 'advances',\n",
       " 'advantages',\n",
       " 'affairs',\n",
       " 'affections',\n",
       " 'affects',\n",
       " 'affixed',\n",
       " 'afflictions',\n",
       " 'afforded',\n",
       " 'affording',\n",
       " 'ages',\n",
       " 'agitated',\n",
       " 'agonies',\n",
       " 'ailments',\n",
       " 'aimed',\n",
       " 'alarms',\n",
       " 'alienated',\n",
       " 'alighted',\n",
       " 'alleged',\n",
       " 'allenham',\n",
       " 'allowances',\n",
       " 'allowed',\n",
       " 'allowing',\n",
       " 'alluded',\n",
       " 'alterations',\n",
       " 'altered',\n",
       " 'altering',\n",
       " 'amended',\n",
       " 'amounted',\n",
       " 'amusements',\n",
       " 'ankles',\n",
       " 'annamaria',\n",
       " 'annexed',\n",
       " 'announced',\n",
       " 'announcing',\n",
       " 'annuities',\n",
       " 'annum',\n",
       " 'answered',\n",
       " 'answering',\n",
       " 'answers',\n",
       " 'anticipated',\n",
       " 'anticipating',\n",
       " 'anticipations',\n",
       " 'anymore',\n",
       " 'apartments',\n",
       " 'apologies',\n",
       " 'apologising',\n",
       " 'apologized',\n",
       " 'appearances',\n",
       " 'appeared',\n",
       " 'appearing',\n",
       " 'appeased',\n",
       " 'appetites',\n",
       " 'applauded',\n",
       " 'applying',\n",
       " 'appointed',\n",
       " 'apprehended',\n",
       " 'apprehensions',\n",
       " 'approached',\n",
       " 'approved',\n",
       " 'arbour',\n",
       " 'ardour',\n",
       " 'arguments',\n",
       " 'arranged',\n",
       " 'arrangements',\n",
       " 'arranging',\n",
       " 'arrived',\n",
       " 'arrives',\n",
       " 'arriving',\n",
       " 'ascended',\n",
       " 'ascertained',\n",
       " 'asked',\n",
       " 'asking',\n",
       " 'assembled',\n",
       " 'assemblies',\n",
       " 'asserted',\n",
       " 'assertions',\n",
       " 'assiduities',\n",
       " 'assisted',\n",
       " 'assisting',\n",
       " 'associating',\n",
       " 'assurances',\n",
       " 'astonished',\n",
       " 'atoned',\n",
       " 'atoning',\n",
       " 'attaching',\n",
       " 'attachments',\n",
       " 'attacked',\n",
       " 'attacks',\n",
       " 'attained',\n",
       " 'attempted',\n",
       " 'attempting',\n",
       " 'attempts',\n",
       " 'attendants',\n",
       " 'attended',\n",
       " 'attending',\n",
       " 'attentions',\n",
       " 'attracted',\n",
       " 'attractions',\n",
       " 'attributed',\n",
       " 'attributing',\n",
       " 'auditors',\n",
       " 'augmenting',\n",
       " 'austen',\n",
       " 'authorised',\n",
       " 'authors',\n",
       " 'availed',\n",
       " 'avignon',\n",
       " 'avoided',\n",
       " 'avoiding',\n",
       " 'awaited',\n",
       " 'awakened',\n",
       " 'awaking',\n",
       " 'bags',\n",
       " 'balls',\n",
       " 'banished',\n",
       " 'barouches',\n",
       " 'bathed',\n",
       " 'bears',\n",
       " 'beasts',\n",
       " 'beauties',\n",
       " 'became',\n",
       " 'bedrooms',\n",
       " 'beds',\n",
       " 'befallen',\n",
       " 'befalls',\n",
       " 'befell',\n",
       " 'began',\n",
       " 'begged',\n",
       " 'begins',\n",
       " 'behaved',\n",
       " 'beings',\n",
       " 'believed',\n",
       " 'believes',\n",
       " 'belonged',\n",
       " 'belongs',\n",
       " 'benefited',\n",
       " 'bequeathed',\n",
       " 'berkeley',\n",
       " 'bestowed',\n",
       " 'betrayed',\n",
       " 'betraying',\n",
       " 'biased',\n",
       " 'blackest',\n",
       " 'blameable',\n",
       " 'blessings',\n",
       " 'blights',\n",
       " 'blossoms',\n",
       " 'blundered',\n",
       " 'blushed',\n",
       " 'blushes',\n",
       " 'bolder',\n",
       " 'bones',\n",
       " 'bonomi',\n",
       " 'books',\n",
       " 'booksellers',\n",
       " 'borrowed',\n",
       " 'bottoms',\n",
       " 'boys',\n",
       " 'breakfasting',\n",
       " 'bribing',\n",
       " 'brightened',\n",
       " 'brighter',\n",
       " 'bringing',\n",
       " 'brings',\n",
       " 'broader',\n",
       " 'brothers',\n",
       " 'bruised',\n",
       " 'buildings',\n",
       " 'bursts',\n",
       " 'buying',\n",
       " 'called',\n",
       " 'calls',\n",
       " 'calming',\n",
       " 'candles',\n",
       " 'candour',\n",
       " 'canvassing',\n",
       " 'cards',\n",
       " 'cares',\n",
       " 'caresses',\n",
       " 'careys',\n",
       " 'carriages',\n",
       " 'carries',\n",
       " 'cases',\n",
       " 'casts',\n",
       " 'cats',\n",
       " 'caused',\n",
       " 'ceased',\n",
       " 'ceasing',\n",
       " 'censured',\n",
       " 'centre',\n",
       " 'certainties',\n",
       " 'chagrined',\n",
       " 'chairs',\n",
       " 'chambers',\n",
       " 'chanced',\n",
       " 'changed',\n",
       " 'changes',\n",
       " 'changing',\n",
       " 'characters',\n",
       " 'charged',\n",
       " 'charmed',\n",
       " 'charms',\n",
       " 'cheated',\n",
       " 'checking',\n",
       " 'cheeks',\n",
       " 'cheerfuller',\n",
       " 'cherished',\n",
       " 'cherries',\n",
       " 'children',\n",
       " 'choked',\n",
       " 'chuse',\n",
       " 'chusing',\n",
       " 'circles',\n",
       " 'circumstances',\n",
       " 'civilities',\n",
       " 'claimed',\n",
       " 'claiming',\n",
       " 'claims',\n",
       " 'clarke',\n",
       " 'cleared',\n",
       " 'cleveland',\n",
       " 'clogged',\n",
       " 'closing',\n",
       " 'clouds',\n",
       " 'coats',\n",
       " 'collecting',\n",
       " 'coloured',\n",
       " 'colouring',\n",
       " 'combe',\n",
       " 'comforted',\n",
       " 'comforts',\n",
       " 'comings',\n",
       " 'commanded',\n",
       " 'commands',\n",
       " 'commended',\n",
       " 'comments',\n",
       " 'commissioned',\n",
       " 'commonest',\n",
       " 'communicated',\n",
       " 'companions',\n",
       " 'compared',\n",
       " 'compares',\n",
       " 'comparisons',\n",
       " 'complained',\n",
       " 'complaining',\n",
       " 'complaints',\n",
       " 'completed',\n",
       " 'compliments',\n",
       " 'comprehended',\n",
       " 'concealing',\n",
       " 'concerns',\n",
       " 'concessions',\n",
       " 'concluded',\n",
       " 'conclusions',\n",
       " 'conditions',\n",
       " 'conducted',\n",
       " 'confessed',\n",
       " 'confidante',\n",
       " 'conforming',\n",
       " 'congratulated',\n",
       " 'congratulating',\n",
       " 'congratulations',\n",
       " 'conjectured',\n",
       " 'conjectures',\n",
       " 'conjecturing',\n",
       " 'connections',\n",
       " 'conquests',\n",
       " 'consented',\n",
       " 'consequences',\n",
       " 'considerations',\n",
       " 'considers',\n",
       " 'consisted',\n",
       " 'consists',\n",
       " 'consoled',\n",
       " 'conspired',\n",
       " 'constantia',\n",
       " 'consulted',\n",
       " 'contained',\n",
       " 'containing',\n",
       " 'contend',\n",
       " 'contenting',\n",
       " 'continuing',\n",
       " 'contradicted',\n",
       " 'contrasted',\n",
       " 'contributed',\n",
       " 'contributing',\n",
       " 'contrived',\n",
       " 'contrives',\n",
       " 'contriving',\n",
       " 'controlled',\n",
       " 'conveniences',\n",
       " 'conversations',\n",
       " 'conversed',\n",
       " 'conversing',\n",
       " 'conveyed',\n",
       " 'conveying',\n",
       " 'copying',\n",
       " 'cordials',\n",
       " 'cottages',\n",
       " 'counsellor',\n",
       " 'counteracted',\n",
       " 'couples',\n",
       " 'courted',\n",
       " 'courting',\n",
       " 'courtland',\n",
       " 'cousins',\n",
       " 'cowper',\n",
       " 'cows',\n",
       " 'coxcombs',\n",
       " 'cramps',\n",
       " 'created',\n",
       " 'creating',\n",
       " 'creatures',\n",
       " 'cries',\n",
       " 'crimsoned',\n",
       " 'curtsying',\n",
       " 'cutlets',\n",
       " 'danced',\n",
       " 'dances',\n",
       " 'dared',\n",
       " 'darker',\n",
       " 'dartford',\n",
       " 'dashwood',\n",
       " 'dashwoods',\n",
       " 'daughters',\n",
       " 'davies',\n",
       " 'dawdled',\n",
       " 'dawlish',\n",
       " 'dawned',\n",
       " 'dearer',\n",
       " 'dearest',\n",
       " 'debated',\n",
       " 'debts',\n",
       " 'deceived',\n",
       " 'deciding',\n",
       " 'decisions',\n",
       " 'declares',\n",
       " 'declaring',\n",
       " 'declining',\n",
       " 'deemed',\n",
       " 'deeper',\n",
       " 'deepest',\n",
       " 'defects',\n",
       " 'defended',\n",
       " 'deficiencies',\n",
       " 'degrees',\n",
       " 'delaford',\n",
       " 'delayed',\n",
       " 'delays',\n",
       " 'deliberating',\n",
       " 'delicacies',\n",
       " 'delighful',\n",
       " 'delineated',\n",
       " 'delivered',\n",
       " 'demanded',\n",
       " 'demands',\n",
       " 'demonstrations',\n",
       " 'demur',\n",
       " 'denied',\n",
       " 'dennison',\n",
       " 'denoted',\n",
       " 'denoting',\n",
       " 'departing',\n",
       " 'depended',\n",
       " 'depends',\n",
       " 'deprived',\n",
       " 'described',\n",
       " 'describing',\n",
       " 'deserts',\n",
       " 'deserves',\n",
       " 'designs',\n",
       " 'desiring',\n",
       " 'despatch',\n",
       " 'despatching',\n",
       " 'despised',\n",
       " 'despising',\n",
       " 'destroyed',\n",
       " 'destroys',\n",
       " 'detaining',\n",
       " 'detected',\n",
       " 'detecting',\n",
       " 'determining',\n",
       " 'deterred',\n",
       " 'detested',\n",
       " 'devolved',\n",
       " 'died',\n",
       " 'dies',\n",
       " 'differed',\n",
       " 'differing',\n",
       " 'difficulties',\n",
       " 'dimensions',\n",
       " 'diminished',\n",
       " 'dined',\n",
       " 'dinners',\n",
       " 'directing',\n",
       " 'directions',\n",
       " 'disagreements',\n",
       " 'disappeared',\n",
       " 'disappointments',\n",
       " 'disapproved',\n",
       " 'disapproves',\n",
       " 'disapproving',\n",
       " 'discarded',\n",
       " 'discharged',\n",
       " 'disclaiming',\n",
       " 'disclosing',\n",
       " 'discontents',\n",
       " 'discovering',\n",
       " 'discussions',\n",
       " 'disgraced',\n",
       " 'disinherited',\n",
       " 'disliked',\n",
       " 'dismissed',\n",
       " 'dismounted',\n",
       " 'dispatched',\n",
       " 'dispatches',\n",
       " 'dispersing',\n",
       " 'disposing',\n",
       " 'disputes',\n",
       " 'disqualifications',\n",
       " 'disregarded',\n",
       " 'dissembling',\n",
       " 'dissented',\n",
       " 'distresses',\n",
       " 'distrusts',\n",
       " 'diverted',\n",
       " 'doatingly',\n",
       " 'donavan',\n",
       " 'doomed',\n",
       " 'dooming',\n",
       " 'doors',\n",
       " 'dorsetshire',\n",
       " 'doubted',\n",
       " 'doubts',\n",
       " 'douceur',\n",
       " 'downs',\n",
       " 'dr',\n",
       " 'drains',\n",
       " 'drawings',\n",
       " 'draws',\n",
       " 'dreaded',\n",
       " 'dreading',\n",
       " 'dreaming',\n",
       " 'dresses',\n",
       " 'drives',\n",
       " 'dropped',\n",
       " 'drops',\n",
       " 'drury',\n",
       " 'duets',\n",
       " 'duties',\n",
       " 'earlier',\n",
       " 'earliest',\n",
       " 'earned',\n",
       " 'ears',\n",
       " 'echoed',\n",
       " 'editions',\n",
       " 'edtions',\n",
       " 'effected',\n",
       " 'effecting',\n",
       " 'effusions',\n",
       " 'ellison',\n",
       " 'ellisons',\n",
       " 'eloping',\n",
       " 'eluded',\n",
       " 'embellishments',\n",
       " 'embraced',\n",
       " 'embraces',\n",
       " 'employments',\n",
       " 'enabled',\n",
       " 'enamoured',\n",
       " 'encouraged',\n",
       " 'encouragements',\n",
       " 'encroachments',\n",
       " 'encumbered',\n",
       " 'endeavoring',\n",
       " 'endeavors',\n",
       " 'endeavour',\n",
       " 'endeavoured',\n",
       " 'endeavouring',\n",
       " 'endeavours',\n",
       " 'endowed',\n",
       " 'ends',\n",
       " 'endured',\n",
       " 'enfeebled',\n",
       " 'enforcing',\n",
       " 'engagements',\n",
       " 'england',\n",
       " 'enjoyed',\n",
       " 'enjoyments',\n",
       " 'enquired',\n",
       " 'enquiries',\n",
       " 'enquiring',\n",
       " 'ensued',\n",
       " 'ensured',\n",
       " 'entered',\n",
       " 'entertained',\n",
       " 'entitled',\n",
       " 'entreated',\n",
       " 'entreaties',\n",
       " 'entrusted',\n",
       " 'equalled',\n",
       " 'equals',\n",
       " 'erred',\n",
       " 'errors',\n",
       " 'escaped',\n",
       " 'esq',\n",
       " 'establishing',\n",
       " 'esteemed',\n",
       " 'esteeming',\n",
       " 'esteems',\n",
       " 'estimating',\n",
       " 'estranged',\n",
       " 'evenings',\n",
       " 'events',\n",
       " 'evils',\n",
       " 'examined',\n",
       " 'exceeded',\n",
       " 'excellencies',\n",
       " 'exchanged',\n",
       " 'exclaimed',\n",
       " 'exclamations',\n",
       " 'excused',\n",
       " 'excuses',\n",
       " 'exercised',\n",
       " 'exercising',\n",
       " 'exerted',\n",
       " 'exertions',\n",
       " 'exeter',\n",
       " 'exhilarated',\n",
       " 'existed',\n",
       " 'expectations',\n",
       " 'expected',\n",
       " 'expecting',\n",
       " 'expects',\n",
       " 'expenses',\n",
       " 'experiencing',\n",
       " 'explained',\n",
       " 'explanations',\n",
       " 'expressing',\n",
       " 'expressions',\n",
       " 'extolling',\n",
       " 'extorted',\n",
       " 'extorting',\n",
       " 'extremest',\n",
       " 'eyeing',\n",
       " 'eyes',\n",
       " 'faces',\n",
       " 'facts',\n",
       " 'failed',\n",
       " 'falls',\n",
       " 'familiarized',\n",
       " 'families',\n",
       " 'fancying',\n",
       " 'fates',\n",
       " 'fatigued',\n",
       " 'fatigues',\n",
       " 'faults',\n",
       " 'favour',\n",
       " 'favourable',\n",
       " 'favourite',\n",
       " 'favourites',\n",
       " 'fearing',\n",
       " 'fears',\n",
       " 'features',\n",
       " 'feelings',\n",
       " 'feels',\n",
       " 'feet',\n",
       " 'felicitations',\n",
       " 'females',\n",
       " 'ferrars',\n",
       " 'fetches',\n",
       " 'fettered',\n",
       " 'finds',\n",
       " 'finest',\n",
       " 'fingers',\n",
       " 'flattered',\n",
       " 'flatteries',\n",
       " 'flowed',\n",
       " 'fluctuating',\n",
       " 'flushed',\n",
       " 'foibles',\n",
       " 'followed',\n",
       " 'follows',\n",
       " 'fond',\n",
       " 'footsteps',\n",
       " 'forebodings',\n",
       " 'foreplanned',\n",
       " 'foresaw',\n",
       " 'foreseeing',\n",
       " 'foreseen',\n",
       " 'forfeited',\n",
       " 'forfeiting',\n",
       " 'forgave',\n",
       " 'forgiven',\n",
       " 'forms',\n",
       " 'forsaking',\n",
       " 'fortunes',\n",
       " 'forwarded',\n",
       " 'foundations',\n",
       " 'founded',\n",
       " 'fowls',\n",
       " 'friendliest',\n",
       " 'friends',\n",
       " 'frightens',\n",
       " 'froid',\n",
       " 'frosts',\n",
       " 'fulfil',\n",
       " 'fulfilled',\n",
       " 'fullest',\n",
       " 'gained',\n",
       " 'gales',\n",
       " 'gardens',\n",
       " 'garrets',\n",
       " 'gates',\n",
       " 'gathered',\n",
       " 'generations',\n",
       " 'gentlemen',\n",
       " 'gigs',\n",
       " 'gilberts',\n",
       " 'girls',\n",
       " 'gives',\n",
       " 'glances',\n",
       " 'gloried',\n",
       " 'gloves',\n",
       " 'godby',\n",
       " 'goings',\n",
       " 'goodby',\n",
       " 'governed',\n",
       " 'gowns',\n",
       " 'graces',\n",
       " 'grandmothers',\n",
       " 'granted',\n",
       " 'greatest',\n",
       " 'grieves',\n",
       " 'grows',\n",
       " 'guardians',\n",
       " 'guessed',\n",
       " 'guests',\n",
       " 'guided',\n",
       " 'guineas',\n",
       " 'habits',\n",
       " 'hallooing',\n",
       " 'hands',\n",
       " 'handsomer',\n",
       " 'handsomest',\n",
       " 'hang',\n",
       " 'hanover',\n",
       " 'happened',\n",
       " 'happens',\n",
       " 'hardened',\n",
       " 'hardships',\n",
       " 'harley',\n",
       " 'has',\n",
       " 'hastened',\n",
       " 'hastening',\n",
       " 'hated',\n",
       " 'hates',\n",
       " 'hating',\n",
       " 'having',\n",
       " 'hazarded',\n",
       " 'hazarding',\n",
       " 'heads',\n",
       " 'heard',\n",
       " 'hears',\n",
       " 'heightened',\n",
       " 'heightening',\n",
       " 'heights',\n",
       " 'heirs',\n",
       " 'held',\n",
       " 'hens',\n",
       " 'henshawe',\n",
       " 'hesitated',\n",
       " 'hiding',\n",
       " 'hills',\n",
       " 'hinted',\n",
       " 'hints',\n",
       " 'hoarded',\n",
       " 'holborn',\n",
       " 'holburn',\n",
       " 'holds',\n",
       " 'holidays',\n",
       " 'homes',\n",
       " 'honeysuckles',\n",
       " 'honiton',\n",
       " 'honour',\n",
       " 'honourable',\n",
       " 'honourably',\n",
       " 'honoured',\n",
       " 'honours',\n",
       " 'hopes',\n",
       " 'hoping',\n",
       " 'horrors',\n",
       " 'horses',\n",
       " 'hours',\n",
       " 'houses',\n",
       " 'howsever',\n",
       " 'humbled',\n",
       " 'humiliations',\n",
       " 'humored',\n",
       " 'humoured',\n",
       " 'humouring',\n",
       " 'hunted',\n",
       " 'hunters',\n",
       " 'hunts',\n",
       " 'hurrying',\n",
       " 'husbands',\n",
       " 'huswifes',\n",
       " 'ideas',\n",
       " 'idled',\n",
       " 'idolized',\n",
       " 'ii',\n",
       " 'imaginations',\n",
       " 'imagined',\n",
       " 'imagining',\n",
       " 'imbibed',\n",
       " 'immoveable',\n",
       " 'imparted',\n",
       " 'imperfections',\n",
       " 'implied',\n",
       " 'implies',\n",
       " 'impoverished',\n",
       " 'impoverishing',\n",
       " 'improved',\n",
       " 'improvements',\n",
       " 'imputed',\n",
       " 'inclinations',\n",
       " 'inclined',\n",
       " 'inclosing',\n",
       " 'including',\n",
       " 'incommoded',\n",
       " 'inconveniences',\n",
       " 'increased',\n",
       " 'incurred',\n",
       " 'incurring',\n",
       " 'indulged',\n",
       " 'infants',\n",
       " 'inflicted',\n",
       " 'inflicting',\n",
       " 'influenced',\n",
       " 'inforce',\n",
       " 'inforced',\n",
       " 'informing',\n",
       " 'inhabitants',\n",
       " 'inhabiting',\n",
       " 'inheriting',\n",
       " 'injuries',\n",
       " 'inquired',\n",
       " 'inquiries',\n",
       " 'insinuations',\n",
       " 'insisted',\n",
       " 'installed',\n",
       " 'instigated',\n",
       " 'instructions',\n",
       " 'insulted',\n",
       " 'intends',\n",
       " 'intentions',\n",
       " 'intents',\n",
       " 'interests',\n",
       " 'interposed',\n",
       " 'interspersed',\n",
       " 'intervals',\n",
       " 'interviews',\n",
       " 'intimated',\n",
       " 'introduced',\n",
       " 'introducing',\n",
       " 'intruded',\n",
       " 'invented',\n",
       " 'inventing',\n",
       " 'invitations',\n",
       " 'invited',\n",
       " 'irritated',\n",
       " 'irritates',\n",
       " 'issued',\n",
       " 'jealousies',\n",
       " 'jenning',\n",
       " 'jennings',\n",
       " 'jewels',\n",
       " 'jilting',\n",
       " 'joined',\n",
       " 'joked',\n",
       " 'jokes',\n",
       " 'joking',\n",
       " 'joys',\n",
       " 'judged',\n",
       " 'judging',\n",
       " 'judgments',\n",
       " 'jumbled',\n",
       " 'justified',\n",
       " 'keeps',\n",
       " 'keys',\n",
       " 'kicked',\n",
       " 'kinder',\n",
       " 'kindest',\n",
       " 'kingham',\n",
       " 'kissed',\n",
       " 'kisses',\n",
       " 'knees',\n",
       " 'knives',\n",
       " 'knows',\n",
       " 'laboured',\n",
       " 'lamentations',\n",
       " 'lamps',\n",
       " 'lanes',\n",
       " 'languages',\n",
       " 'larger',\n",
       " 'largest',\n",
       " 'lasted',\n",
       " 'laughed',\n",
       " 'laughs',\n",
       " 'leagued',\n",
       " 'legacies',\n",
       " 'lengthened',\n",
       " 'lengths',\n",
       " 'lessened',\n",
       " 'lessening',\n",
       " 'letters',\n",
       " 'letting',\n",
       " 'lies',\n",
       " 'lifted',\n",
       " 'lightened',\n",
       " 'liked',\n",
       " 'likes',\n",
       " 'limbs',\n",
       " 'limits',\n",
       " 'lines',\n",
       " 'lingered',\n",
       " 'lingering',\n",
       " 'lips',\n",
       " 'listened',\n",
       " 'lives',\n",
       " 'livings',\n",
       " 'll',\n",
       " 'lodges',\n",
       " 'loitered',\n",
       " 'lombardy',\n",
       " 'london',\n",
       " 'longed',\n",
       " 'longest',\n",
       " 'longstaple',\n",
       " 'looked',\n",
       " 'looks',\n",
       " 'loved',\n",
       " 'lovers',\n",
       " 'loves',\n",
       " 'lowered',\n",
       " 'lurking',\n",
       " 'magna',\n",
       " 'maids',\n",
       " 'maintained',\n",
       " 'makes',\n",
       " 'mama',\n",
       " 'managed',\n",
       " 'marlborough',\n",
       " 'marriages',\n",
       " 'marries',\n",
       " 'matters',\n",
       " 'maxims',\n",
       " 'meadows',\n",
       " 'meals',\n",
       " 'means',\n",
       " 'meantime',\n",
       " 'measures',\n",
       " 'medicines',\n",
       " 'meditated',\n",
       " 'meditations',\n",
       " 'meetings',\n",
       " 'mentioned',\n",
       " 'mentioning',\n",
       " 'merest',\n",
       " 'merits',\n",
       " 'merrier',\n",
       " 'messages',\n",
       " 'middleton',\n",
       " 'middletons',\n",
       " 'militated',\n",
       " 'minds',\n",
       " 'minutes',\n",
       " 'misapplied',\n",
       " 'misinformed',\n",
       " 'missed',\n",
       " 'misses',\n",
       " 'mistakes',\n",
       " 'mixing',\n",
       " 'modestest',\n",
       " 'mohrs',\n",
       " 'moments',\n",
       " 'months',\n",
       " 'mosquitoes',\n",
       " 'mothers',\n",
       " 'motives',\n",
       " 'moved',\n",
       " 'murmurings',\n",
       " 'muttered',\n",
       " 'nabobs',\n",
       " 'named',\n",
       " 'names',\n",
       " 'natured',\n",
       " 'nearer',\n",
       " 'needed',\n",
       " 'neglected',\n",
       " 'neighbour',\n",
       " 'neighbourhood',\n",
       " 'neighbouring',\n",
       " 'neighbourly',\n",
       " 'neighbours',\n",
       " 'nerves',\n",
       " 'nests',\n",
       " 'nettles',\n",
       " 'newer',\n",
       " 'newspapers',\n",
       " 'nicest',\n",
       " 'nieces',\n",
       " 'nipped',\n",
       " 'nodded',\n",
       " 'nods',\n",
       " 'noisier',\n",
       " 'notes',\n",
       " 'noticed',\n",
       " 'noticing',\n",
       " 'notions',\n",
       " 'nt',\n",
       " 'nurses',\n",
       " 'obeyed',\n",
       " 'objected',\n",
       " 'objections',\n",
       " 'objects',\n",
       " 'obligations',\n",
       " 'observations',\n",
       " 'observed',\n",
       " 'obstacles',\n",
       " 'obstructed',\n",
       " 'obtained',\n",
       " 'obtaining',\n",
       " 'obviated',\n",
       " 'obviating',\n",
       " 'occasioned',\n",
       " 'occasions',\n",
       " 'occupations',\n",
       " 'occupied',\n",
       " 'occurred',\n",
       " 'oddest',\n",
       " 'offence',\n",
       " 'offences',\n",
       " 'offending',\n",
       " 'offered',\n",
       " 'offices',\n",
       " 'oftener',\n",
       " 'oftenest',\n",
       " 'oldest',\n",
       " 'olives',\n",
       " 'omitted',\n",
       " 'ones',\n",
       " 'opened',\n",
       " 'opinions',\n",
       " 'opportunities',\n",
       " 'ordained',\n",
       " 'orders',\n",
       " 'originated',\n",
       " 'ornamented',\n",
       " 'ornaments',\n",
       " 'others',\n",
       " 'outdone',\n",
       " ...]"
      ]
     },
     "execution_count": 17,
     "metadata": {},
     "output_type": "execute_result"
    }
   ],
   "source": [
    "unusual_words(gutenberg.words('austen-sense.txt'))"
   ]
  },
  {
   "cell_type": "markdown",
   "metadata": {},
   "source": [
    "#### Removing Stop Words from the Dataset\n",
    "\n",
    "Removing words that are most common in a language, but do not carry distinguishing factors should be removed to get a clearer dataset."
   ]
  },
  {
   "cell_type": "code",
   "execution_count": 23,
   "metadata": {
    "collapsed": false
   },
   "outputs": [
    {
     "data": {
      "text/plain": [
       "['aber',\n",
       " 'alle',\n",
       " 'allem',\n",
       " 'allen',\n",
       " 'aller',\n",
       " 'alles',\n",
       " 'als',\n",
       " 'also',\n",
       " 'am',\n",
       " 'an',\n",
       " 'ander',\n",
       " 'andere',\n",
       " 'anderem',\n",
       " 'anderen',\n",
       " 'anderer',\n",
       " 'anderes',\n",
       " 'anderm',\n",
       " 'andern',\n",
       " 'anderr',\n",
       " 'anders',\n",
       " 'auch',\n",
       " 'auf',\n",
       " 'aus',\n",
       " 'bei',\n",
       " 'bin',\n",
       " 'bis',\n",
       " 'bist',\n",
       " 'da',\n",
       " 'damit',\n",
       " 'dann',\n",
       " 'der',\n",
       " 'den',\n",
       " 'des',\n",
       " 'dem',\n",
       " 'die',\n",
       " 'das',\n",
       " 'daß',\n",
       " 'derselbe',\n",
       " 'derselben',\n",
       " 'denselben',\n",
       " 'desselben',\n",
       " 'demselben',\n",
       " 'dieselbe',\n",
       " 'dieselben',\n",
       " 'dasselbe',\n",
       " 'dazu',\n",
       " 'dein',\n",
       " 'deine',\n",
       " 'deinem',\n",
       " 'deinen',\n",
       " 'deiner',\n",
       " 'deines',\n",
       " 'denn',\n",
       " 'derer',\n",
       " 'dessen',\n",
       " 'dich',\n",
       " 'dir',\n",
       " 'du',\n",
       " 'dies',\n",
       " 'diese',\n",
       " 'diesem',\n",
       " 'diesen',\n",
       " 'dieser',\n",
       " 'dieses',\n",
       " 'doch',\n",
       " 'dort',\n",
       " 'durch',\n",
       " 'ein',\n",
       " 'eine',\n",
       " 'einem',\n",
       " 'einen',\n",
       " 'einer',\n",
       " 'eines',\n",
       " 'einig',\n",
       " 'einige',\n",
       " 'einigem',\n",
       " 'einigen',\n",
       " 'einiger',\n",
       " 'einiges',\n",
       " 'einmal',\n",
       " 'er',\n",
       " 'ihn',\n",
       " 'ihm',\n",
       " 'es',\n",
       " 'etwas',\n",
       " 'euer',\n",
       " 'eure',\n",
       " 'eurem',\n",
       " 'euren',\n",
       " 'eurer',\n",
       " 'eures',\n",
       " 'für',\n",
       " 'gegen',\n",
       " 'gewesen',\n",
       " 'hab',\n",
       " 'habe',\n",
       " 'haben',\n",
       " 'hat',\n",
       " 'hatte',\n",
       " 'hatten',\n",
       " 'hier',\n",
       " 'hin',\n",
       " 'hinter',\n",
       " 'ich',\n",
       " 'mich',\n",
       " 'mir',\n",
       " 'ihr',\n",
       " 'ihre',\n",
       " 'ihrem',\n",
       " 'ihren',\n",
       " 'ihrer',\n",
       " 'ihres',\n",
       " 'euch',\n",
       " 'im',\n",
       " 'in',\n",
       " 'indem',\n",
       " 'ins',\n",
       " 'ist',\n",
       " 'jede',\n",
       " 'jedem',\n",
       " 'jeden',\n",
       " 'jeder',\n",
       " 'jedes',\n",
       " 'jene',\n",
       " 'jenem',\n",
       " 'jenen',\n",
       " 'jener',\n",
       " 'jenes',\n",
       " 'jetzt',\n",
       " 'kann',\n",
       " 'kein',\n",
       " 'keine',\n",
       " 'keinem',\n",
       " 'keinen',\n",
       " 'keiner',\n",
       " 'keines',\n",
       " 'können',\n",
       " 'könnte',\n",
       " 'machen',\n",
       " 'man',\n",
       " 'manche',\n",
       " 'manchem',\n",
       " 'manchen',\n",
       " 'mancher',\n",
       " 'manches',\n",
       " 'mein',\n",
       " 'meine',\n",
       " 'meinem',\n",
       " 'meinen',\n",
       " 'meiner',\n",
       " 'meines',\n",
       " 'mit',\n",
       " 'muss',\n",
       " 'musste',\n",
       " 'nach',\n",
       " 'nicht',\n",
       " 'nichts',\n",
       " 'noch',\n",
       " 'nun',\n",
       " 'nur',\n",
       " 'ob',\n",
       " 'oder',\n",
       " 'ohne',\n",
       " 'sehr',\n",
       " 'sein',\n",
       " 'seine',\n",
       " 'seinem',\n",
       " 'seinen',\n",
       " 'seiner',\n",
       " 'seines',\n",
       " 'selbst',\n",
       " 'sich',\n",
       " 'sie',\n",
       " 'ihnen',\n",
       " 'sind',\n",
       " 'so',\n",
       " 'solche',\n",
       " 'solchem',\n",
       " 'solchen',\n",
       " 'solcher',\n",
       " 'solches',\n",
       " 'soll',\n",
       " 'sollte',\n",
       " 'sondern',\n",
       " 'sonst',\n",
       " 'über',\n",
       " 'um',\n",
       " 'und',\n",
       " 'uns',\n",
       " 'unsere',\n",
       " 'unserem',\n",
       " 'unseren',\n",
       " 'unser',\n",
       " 'unseres',\n",
       " 'unter',\n",
       " 'viel',\n",
       " 'vom',\n",
       " 'von',\n",
       " 'vor',\n",
       " 'während',\n",
       " 'war',\n",
       " 'waren',\n",
       " 'warst',\n",
       " 'was',\n",
       " 'weg',\n",
       " 'weil',\n",
       " 'weiter',\n",
       " 'welche',\n",
       " 'welchem',\n",
       " 'welchen',\n",
       " 'welcher',\n",
       " 'welches',\n",
       " 'wenn',\n",
       " 'werde',\n",
       " 'werden',\n",
       " 'wie',\n",
       " 'wieder',\n",
       " 'will',\n",
       " 'wir',\n",
       " 'wird',\n",
       " 'wirst',\n",
       " 'wo',\n",
       " 'wollen',\n",
       " 'wollte',\n",
       " 'würde',\n",
       " 'würden',\n",
       " 'zu',\n",
       " 'zum',\n",
       " 'zur',\n",
       " 'zwar',\n",
       " 'zwischen']"
      ]
     },
     "execution_count": 23,
     "metadata": {},
     "output_type": "execute_result"
    }
   ],
   "source": [
    "from nltk.corpus import stopwords\n",
    "\n",
    "# Display the list of stopwords\n",
    "stopwords.words('german')"
   ]
  },
  {
   "cell_type": "code",
   "execution_count": 22,
   "metadata": {
    "collapsed": false
   },
   "outputs": [
    {
     "name": "stdout",
     "output_type": "stream",
     "text": [
      "english has  153 stopwords\n",
      "german has  231 stopwords\n",
      "french has  155 stopwords\n",
      "dutch has  101 stopwords\n"
     ]
    }
   ],
   "source": [
    "for l in ['english', 'german', 'french', 'dutch']:\n",
    "    print(l, 'has ',len(stopwords.words(l)), 'stopwords')"
   ]
  },
  {
   "cell_type": "code",
   "execution_count": 32,
   "metadata": {
    "collapsed": false
   },
   "outputs": [
    {
     "data": {
      "text/plain": [
       "0.5285429733853195"
      ]
     },
     "execution_count": 32,
     "metadata": {},
     "output_type": "execute_result"
    }
   ],
   "source": [
    "# We can calculate the amount of content for given text\n",
    "content_fraction(nltk.corpus.gutenberg.words('austen-sense.txt'))"
   ]
  },
  {
   "cell_type": "markdown",
   "metadata": {},
   "source": [
    "\"PRACTICE APPLICATION\"\n",
    "\n",
    "Let's build a crossword solver is given a 3x3 array of letters, and is tasked to build words using at least 4 letters, including the middle character. Each letter can only be used once!\n",
    "\n",
    "The trick in the solution is to create a FreqDist for the initial letters and compare it to the FreqDist created from each word. As the FreqDist counts the instances of each token, a lower or equal distribution garantuees the intedent restraint is met."
   ]
  },
  {
   "cell_type": "code",
   "execution_count": 34,
   "metadata": {
    "collapsed": false
   },
   "outputs": [
    {
     "data": {
      "text/plain": [
       "['glover',\n",
       " 'gorlin',\n",
       " 'govern',\n",
       " 'grovel',\n",
       " 'ignore',\n",
       " 'involver',\n",
       " 'lienor',\n",
       " 'linger',\n",
       " 'longer',\n",
       " 'lovering',\n",
       " 'noiler',\n",
       " 'overling',\n",
       " 'region',\n",
       " 'renvoi',\n",
       " 'revolving',\n",
       " 'ringle',\n",
       " 'roving',\n",
       " 'violer',\n",
       " 'virole']"
      ]
     },
     "execution_count": 34,
     "metadata": {},
     "output_type": "execute_result"
    }
   ],
   "source": [
    "# Implementing the Solver\n",
    "puzzle_letters = nltk.FreqDist('egivrvonl')\n",
    "obligatory = 'r'\n",
    "wordlist = nltk.corpus.words.words()\n",
    "[w for w in wordlist if len(w) >= 6\n",
    "                     and obligatory in w\n",
    "                     and nltk.FreqDist(w) <= puzzle_letters]"
   ]
  },
  {
   "cell_type": "markdown",
   "metadata": {},
   "source": [
    "#### Person Name Disambiguation with the 'Names Corpus'\n",
    "\n",
    "This corpus contains 8000 labeld male and female first Names in seperate files."
   ]
  },
  {
   "cell_type": "code",
   "execution_count": 35,
   "metadata": {
    "collapsed": false
   },
   "outputs": [
    {
     "data": {
      "text/plain": [
       "['female.txt', 'male.txt']"
      ]
     },
     "execution_count": 35,
     "metadata": {},
     "output_type": "execute_result"
    }
   ],
   "source": [
    "# Importing the Names files for male and female first names\n",
    "names = nltk.corpus.names\n",
    "names.fileids()"
   ]
  },
  {
   "cell_type": "code",
   "execution_count": 39,
   "metadata": {
    "collapsed": true
   },
   "outputs": [],
   "source": [
    "male_names = names.words('male.txt')\n",
    "female_names = names.words('female.txt')\n",
    "\n",
    "# Next we create a dataset of both gender names\n",
    "ambigous = [n for n in male_names if n in female_names]"
   ]
  },
  {
   "cell_type": "code",
   "execution_count": 42,
   "metadata": {
    "collapsed": false
   },
   "outputs": [
    {
     "data": {
      "text/plain": [
       "365"
      ]
     },
     "execution_count": 42,
     "metadata": {},
     "output_type": "execute_result"
    }
   ],
   "source": [
    "len(ambigous)"
   ]
  },
  {
   "cell_type": "code",
   "execution_count": 44,
   "metadata": {
    "collapsed": false
   },
   "outputs": [
    {
     "name": "stdout",
     "output_type": "stream",
     "text": [
      "5001\n",
      "2943\n"
     ]
    }
   ],
   "source": [
    "print(len(female_names))\n",
    "print(len(male_names))"
   ]
  },
  {
   "cell_type": "code",
   "execution_count": 49,
   "metadata": {
    "collapsed": false
   },
   "outputs": [
    {
     "data": {
      "image/png": "[encoded data removed]",
      "text/plain": [
       "<matplotlib.figure.Figure at 0x232444f1be0>"
      ]
     },
     "metadata": {},
     "output_type": "display_data"
    }
   ],
   "source": [
    "# Let's plot the take and explore it\n",
    "cfd = nltk.ConditionalFreqDist(\n",
    "    (fileid, name[-1])\n",
    "    for fileid in names.fileids()\n",
    "    for name in names.words(fileid)\n",
    ")\n",
    "plt.figure(figsize=[14,6])\n",
    "cfd.plot()"
   ]
  },
  {
   "cell_type": "markdown",
   "metadata": {},
   "source": [
    "Names stariting with 'a' and 'e' are much more likely to be feminine names. For all other Letters the proportions are about equal."
   ]
  },
  {
   "cell_type": "markdown",
   "metadata": {},
   "source": [
    "### Comparative Wordlists\n",
    "\n",
    "Another example of a tabular lexicon is a comparative wordlist. The Swadsh wordlist contains synonyms for 200 common words over a list of languages."
   ]
  },
  {
   "cell_type": "code",
   "execution_count": 52,
   "metadata": {
    "collapsed": false
   },
   "outputs": [
    {
     "data": {
      "text/plain": [
       "['be',\n",
       " 'bg',\n",
       " 'bs',\n",
       " 'ca',\n",
       " 'cs',\n",
       " 'cu',\n",
       " 'de',\n",
       " 'en',\n",
       " 'es',\n",
       " 'fr',\n",
       " 'hr',\n",
       " 'it',\n",
       " 'la',\n",
       " 'mk',\n",
       " 'nl',\n",
       " 'pl',\n",
       " 'pt',\n",
       " 'ro',\n",
       " 'ru',\n",
       " 'sk',\n",
       " 'sl',\n",
       " 'sr',\n",
       " 'sw',\n",
       " 'uk']"
      ]
     },
     "execution_count": 52,
     "metadata": {},
     "output_type": "execute_result"
    }
   ],
   "source": [
    "from nltk.corpus import swadesh\n",
    "# It contains the following languages\n",
    "swadesh.fileids()"
   ]
  },
  {
   "cell_type": "code",
   "execution_count": 55,
   "metadata": {
    "collapsed": false
   },
   "outputs": [
    {
     "data": {
      "text/plain": [
       "[207,\n",
       " 207,\n",
       " 207,\n",
       " 207,\n",
       " 207,\n",
       " 174,\n",
       " 207,\n",
       " 207,\n",
       " 207,\n",
       " 207,\n",
       " 207,\n",
       " 207,\n",
       " 207,\n",
       " 207,\n",
       " 207,\n",
       " 207,\n",
       " 207,\n",
       " 207,\n",
       " 207,\n",
       " 207,\n",
       " 207,\n",
       " 207,\n",
       " 207,\n",
       " 207]"
      ]
     },
     "execution_count": 55,
     "metadata": {},
     "output_type": "execute_result"
    }
   ],
   "source": [
    "# All language except one contain the same amount of words\n",
    "[len(swadesh.words(language)) for language in swadesh.fileids()]"
   ]
  },
  {
   "cell_type": "code",
   "execution_count": 58,
   "metadata": {
    "collapsed": false
   },
   "outputs": [
    {
     "data": {
      "text/plain": [
       "[('je', 'I'),\n",
       " ('tu, vous', 'you (singular), thou'),\n",
       " ('il', 'he'),\n",
       " ('nous', 'we'),\n",
       " ('vous', 'you (plural)'),\n",
       " ('ils, elles', 'they'),\n",
       " ('ceci', 'this'),\n",
       " ('cela', 'that'),\n",
       " ('ici', 'here'),\n",
       " ('là', 'there'),\n",
       " ('qui', 'who'),\n",
       " ('quoi', 'what'),\n",
       " ('où', 'where'),\n",
       " ('quand', 'when'),\n",
       " ('comment', 'how'),\n",
       " ('ne...pas', 'not'),\n",
       " ('tout', 'all'),\n",
       " ('plusieurs', 'many'),\n",
       " ('quelques', 'some'),\n",
       " ('peu', 'few'),\n",
       " ('autre', 'other'),\n",
       " ('un', 'one'),\n",
       " ('deux', 'two'),\n",
       " ('trois', 'three'),\n",
       " ('quatre', 'four'),\n",
       " ('cinq', 'five'),\n",
       " ('grand', 'big'),\n",
       " ('long', 'long'),\n",
       " ('large', 'wide'),\n",
       " ('épais', 'thick'),\n",
       " ('lourd', 'heavy'),\n",
       " ('petit', 'small'),\n",
       " ('court', 'short'),\n",
       " ('étroit', 'narrow'),\n",
       " ('mince', 'thin'),\n",
       " ('femme', 'woman'),\n",
       " ('homme', 'man (adult male)'),\n",
       " ('homme', 'man (human being)'),\n",
       " ('enfant', 'child'),\n",
       " ('femme, épouse', 'wife'),\n",
       " ('mari, époux', 'husband'),\n",
       " ('mère', 'mother'),\n",
       " ('père', 'father'),\n",
       " ('animal', 'animal'),\n",
       " ('poisson', 'fish'),\n",
       " ('oiseau', 'bird'),\n",
       " ('chien', 'dog'),\n",
       " ('pou', 'louse'),\n",
       " ('serpent', 'snake'),\n",
       " ('ver', 'worm'),\n",
       " ('arbre', 'tree'),\n",
       " ('forêt', 'forest'),\n",
       " ('bâton', 'stick'),\n",
       " ('fruit', 'fruit'),\n",
       " ('graine', 'seed'),\n",
       " ('feuille', 'leaf'),\n",
       " ('racine', 'root'),\n",
       " ('écorce', 'bark (from tree)'),\n",
       " ('fleur', 'flower'),\n",
       " ('herbe', 'grass'),\n",
       " ('corde', 'rope'),\n",
       " ('peau', 'skin'),\n",
       " ('viande', 'meat'),\n",
       " ('sang', 'blood'),\n",
       " ('os', 'bone'),\n",
       " ('graisse', 'fat (noun)'),\n",
       " ('œuf', 'egg'),\n",
       " ('corne', 'horn'),\n",
       " ('queue', 'tail'),\n",
       " ('plume', 'feather'),\n",
       " ('cheveu', 'hair'),\n",
       " ('tête', 'head'),\n",
       " ('oreille', 'ear'),\n",
       " ('œil', 'eye'),\n",
       " ('nez', 'nose'),\n",
       " ('bouche', 'mouth'),\n",
       " ('dent', 'tooth'),\n",
       " ('langue', 'tongue'),\n",
       " ('ongle', 'fingernail'),\n",
       " ('pied', 'foot'),\n",
       " ('jambe', 'leg'),\n",
       " ('genou', 'knee'),\n",
       " ('main', 'hand'),\n",
       " ('aile', 'wing'),\n",
       " ('ventre', 'belly'),\n",
       " ('entrailles', 'guts'),\n",
       " ('cou', 'neck'),\n",
       " ('dos', 'back'),\n",
       " ('sein, poitrine', 'breast'),\n",
       " ('cœur', 'heart'),\n",
       " ('foie', 'liver'),\n",
       " ('boire', 'drink'),\n",
       " ('manger', 'eat'),\n",
       " ('mordre', 'bite'),\n",
       " ('sucer', 'suck'),\n",
       " ('cracher', 'spit'),\n",
       " ('vomir', 'vomit'),\n",
       " ('souffler', 'blow'),\n",
       " ('respirer', 'breathe'),\n",
       " ('rire', 'laugh'),\n",
       " ('voir', 'see'),\n",
       " ('entendre', 'hear'),\n",
       " ('savoir', 'know (a fact)'),\n",
       " ('penser', 'think'),\n",
       " ('sentir', 'smell'),\n",
       " ('craindre, avoir peur', 'fear'),\n",
       " ('dormir', 'sleep'),\n",
       " ('vivre', 'live'),\n",
       " ('mourir', 'die'),\n",
       " ('tuer', 'kill'),\n",
       " ('se battre', 'fight'),\n",
       " ('chasser', 'hunt'),\n",
       " ('frapper', 'hit'),\n",
       " ('couper', 'cut'),\n",
       " ('fendre', 'split'),\n",
       " ('poignarder', 'stab'),\n",
       " ('gratter', 'scratch'),\n",
       " ('creuser', 'dig'),\n",
       " ('nager', 'swim'),\n",
       " ('voler', 'fly (verb)'),\n",
       " ('marcher', 'walk'),\n",
       " ('venir', 'come'),\n",
       " (\"s'étendre\", 'lie'),\n",
       " (\"s'asseoir\", 'sit'),\n",
       " ('se lever', 'stand'),\n",
       " ('tourner', 'turn'),\n",
       " ('tomber', 'fall'),\n",
       " ('donner', 'give'),\n",
       " ('tenir', 'hold'),\n",
       " ('serrer', 'squeeze'),\n",
       " ('frotter', 'rub'),\n",
       " ('laver', 'wash'),\n",
       " ('essuyer', 'wipe'),\n",
       " ('tirer', 'pull'),\n",
       " ('pousser', 'push'),\n",
       " ('jeter', 'throw'),\n",
       " ('lier', 'tie'),\n",
       " ('coudre', 'sew'),\n",
       " ('compter', 'count'),\n",
       " ('dire', 'say'),\n",
       " ('chanter', 'sing'),\n",
       " ('jouer', 'play'),\n",
       " ('flotter', 'float'),\n",
       " ('couler', 'flow'),\n",
       " ('geler', 'freeze'),\n",
       " ('gonfler', 'swell'),\n",
       " ('soleil', 'sun'),\n",
       " ('lune', 'moon'),\n",
       " ('étoile', 'star'),\n",
       " ('eau', 'water'),\n",
       " ('pluie', 'rain'),\n",
       " ('rivière', 'river'),\n",
       " ('lac', 'lake'),\n",
       " ('mer', 'sea'),\n",
       " ('sel', 'salt'),\n",
       " ('pierre', 'stone'),\n",
       " ('sable', 'sand'),\n",
       " ('poussière', 'dust'),\n",
       " ('terre', 'earth'),\n",
       " ('nuage', 'cloud'),\n",
       " ('brouillard', 'fog'),\n",
       " ('ciel', 'sky'),\n",
       " ('vent', 'wind'),\n",
       " ('neige', 'snow'),\n",
       " ('glace', 'ice'),\n",
       " ('fumée', 'smoke'),\n",
       " ('feu', 'fire'),\n",
       " ('cendres', 'ashes'),\n",
       " ('brûler', 'burn'),\n",
       " ('route', 'road'),\n",
       " ('montagne', 'mountain'),\n",
       " ('rouge', 'red'),\n",
       " ('vert', 'green'),\n",
       " ('jaune', 'yellow'),\n",
       " ('blanc', 'white'),\n",
       " ('noir', 'black'),\n",
       " ('nuit', 'night'),\n",
       " ('jour', 'day'),\n",
       " ('an, année', 'year'),\n",
       " ('chaud', 'warm'),\n",
       " ('froid', 'cold'),\n",
       " ('plein', 'full'),\n",
       " ('nouveau', 'new'),\n",
       " ('vieux', 'old'),\n",
       " ('bon', 'good'),\n",
       " ('mauvais', 'bad'),\n",
       " ('pourri', 'rotten'),\n",
       " ('sale', 'dirty'),\n",
       " ('droit', 'straight'),\n",
       " ('rond', 'round'),\n",
       " ('tranchant, pointu, aigu', 'sharp'),\n",
       " ('émoussé', 'dull'),\n",
       " ('lisse', 'smooth'),\n",
       " ('mouillé', 'wet'),\n",
       " ('sec', 'dry'),\n",
       " ('juste, correct', 'correct'),\n",
       " ('proche', 'near'),\n",
       " ('loin', 'far'),\n",
       " ('à droite', 'right'),\n",
       " ('à gauche', 'left'),\n",
       " ('à', 'at'),\n",
       " ('dans', 'in'),\n",
       " ('avec', 'with'),\n",
       " ('et', 'and'),\n",
       " ('si', 'if'),\n",
       " ('parce que', 'because'),\n",
       " ('nom', 'name')]"
      ]
     },
     "execution_count": 58,
     "metadata": {},
     "output_type": "execute_result"
    }
   ],
   "source": [
    "# We can compare words\n",
    "fr2en = swadesh.entries(['fr', 'en'])\n",
    "fr2en"
   ]
  },
  {
   "cell_type": "code",
   "execution_count": 64,
   "metadata": {
    "collapsed": false
   },
   "outputs": [
    {
     "data": {
      "text/plain": [
       "'throw'"
      ]
     },
     "execution_count": 64,
     "metadata": {},
     "output_type": "execute_result"
    }
   ],
   "source": [
    "# For translation, we just turn the list into a dict and assign the keys to be french\n",
    "translate = dict(fr2en)\n",
    "translate['jeter']"
   ]
  },
  {
   "cell_type": "code",
   "execution_count": 65,
   "metadata": {
    "collapsed": true
   },
   "outputs": [],
   "source": [
    "# Now we can update the dict with new language tuples\n",
    "de2en = swadesh.entries(['de', 'en'])\n",
    "es2en = swadesh.entries(['es', 'en'])\n",
    "\n",
    "# Update the existing dict with the new mappings\n",
    "translate.update(dict(de2en))\n",
    "translate.update(dict(es2en))"
   ]
  },
  {
   "cell_type": "code",
   "execution_count": 71,
   "metadata": {
    "collapsed": false
   },
   "outputs": [
    {
     "name": "stdout",
     "output_type": "stream",
     "text": [
      "('say', 'sagen', 'zeggen', 'decir', 'dire', 'dizer', 'dicere')\n",
      "('sing', 'singen', 'zingen', 'cantar', 'chanter', 'cantar', 'canere')\n",
      "('hold', 'halten', 'houden', 'sostener', 'tenir', 'segurar', 'tenere')\n"
     ]
    }
   ],
   "source": [
    "# Let's compare a couple of words\n",
    "languages = ['en', 'de', 'nl', 'es', 'fr', 'pt', 'la']\n",
    "for i in [139, 140, 128]:\n",
    "    print (swadesh.entries(languages)[i])"
   ]
  },
  {
   "cell_type": "markdown",
   "metadata": {},
   "source": [
    "### WordNet\n",
    "\n",
    "WordNet is a semantically oriented dictionary of English, similar to a traditional the-saurus but with a richer structure. NLTK includes the English WordNet, with 155,287words and 117,659 synonym sets. We’ll begin by looking at synonyms and how theyare accessed in WordNet."
   ]
  },
  {
   "cell_type": "code",
   "execution_count": null,
   "metadata": {
    "collapsed": true
   },
   "outputs": [],
   "source": []
  }
 ],
 "metadata": {
  "kernelspec": {
   "display_name": "Python 3",
   "language": "python",
   "name": "python3"
  },
  "language_info": {
   "codemirror_mode": {
    "name": "ipython",
    "version": 3
   },
   "file_extension": ".py",
   "mimetype": "text/x-python",
   "name": "python",
   "nbconvert_exporter": "python",
   "pygments_lexer": "ipython3",
   "version": "3.6.0"
  }
 },
 "nbformat": 4,
 "nbformat_minor": 2
}
