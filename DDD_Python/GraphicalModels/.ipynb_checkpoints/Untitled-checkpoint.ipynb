{
 "cells": [
  {
   "cell_type": "code",
   "execution_count": 2,
   "metadata": {
    "collapsed": true
   },
   "outputs": [],
   "source": [
    "from pgmpy.factors import TabularCPD\n",
    "from pgmpy.models import BayesianModel"
   ]
  },
  {
   "cell_type": "code",
   "execution_count": 3,
   "metadata": {
    "collapsed": true
   },
   "outputs": [],
   "source": [
    "olympic_model = BayesianModel([('Genetics', 'OlympicTrials'),\n",
    "                                ('Practice', 'OlympicTrials'),\n",
    "                                ('OlympicTrials', 'Offer')])"
   ]
  },
  {
   "cell_type": "code",
   "execution_count": 4,
   "metadata": {
    "collapsed": true
   },
   "outputs": [],
   "source": [
    "genetics_cpd = TabularCPD (\n",
    "            variable = 'Genetics',\n",
    "            variable_card = 2,\n",
    "            values = [[.2,.8]])"
   ]
  },
  {
   "cell_type": "code",
   "execution_count": 5,
   "metadata": {
    "collapsed": true
   },
   "outputs": [],
   "source": [
    "practice_cpd = TabularCPD (\n",
    "            variable = 'Practice',\n",
    "            variable_card = 2,\n",
    "            values = [[.2,.8]])"
   ]
  },
  {
   "cell_type": "code",
   "execution_count": 6,
   "metadata": {
    "collapsed": true
   },
   "outputs": [],
   "source": [
    "offer_cpd = TabularCPD (\n",
    "            variable = 'Offer',\n",
    "            variable_card = 2,\n",
    "            values = [[.95, .8, .5],\n",
    "                    [.05, .2, .5]],\n",
    "            evidence= ['OlympicTrials'],\n",
    "            evidence_card = 3)"
   ]
  },
  {
   "cell_type": "code",
   "execution_count": 8,
   "metadata": {
    "collapsed": false
   },
   "outputs": [],
   "source": [
    "olympic_trials_cpd = TabularCPD(\n",
    "            variable = 'OlympicTrials',\n",
    "            variable_card = 3,\n",
    "            values = [[.5, .8, .8, .9],\n",
    "                        [.3, .15, .1, .08],\n",
    "                        [.2, .05, .1, .02]],\n",
    "            evidence= ['Genetics', 'Practice'],\n",
    "            evidence_card=[2,2])"
   ]
  },
  {
   "cell_type": "code",
   "execution_count": 9,
   "metadata": {
    "collapsed": true
   },
   "outputs": [],
   "source": [
    "olympic_model.add_cpds ( genetics_cpd, practice_cpd, offer_cpd, olympic_trials_cpd)"
   ]
  },
  {
   "cell_type": "code",
   "execution_count": 10,
   "metadata": {
    "collapsed": false
   },
   "outputs": [
    {
     "data": {
      "text/plain": [
       "[<TabularCPD representing P(Genetics:2) at 0x1a28a588e48>,\n",
       " <TabularCPD representing P(Practice:2) at 0x1a28a588fd0>,\n",
       " <TabularCPD representing P(Offer:2 | OlympicTrials:3) at 0x1a28a59f320>,\n",
       " <TabularCPD representing P(OlympicTrials:3 | Genetics:2, Practice:2) at 0x1a28a59f748>]"
      ]
     },
     "execution_count": 10,
     "metadata": {},
     "output_type": "execute_result"
    }
   ],
   "source": [
    "olympic_model.get_cpds()"
   ]
  },
  {
   "cell_type": "code",
   "execution_count": 11,
   "metadata": {
    "collapsed": false
   },
   "outputs": [
    {
     "data": {
      "text/plain": [
       "{'Genetics', 'Offer', 'OlympicTrials'}"
      ]
     },
     "execution_count": 11,
     "metadata": {},
     "output_type": "execute_result"
    }
   ],
   "source": [
    "olympic_model.active_trail_nodes('Genetics')"
   ]
  },
  {
   "cell_type": "code",
   "execution_count": 14,
   "metadata": {
    "collapsed": false
   },
   "outputs": [
    {
     "data": {
      "text/plain": [
       "{'Genetics', 'Offer', 'OlympicTrials', 'Practice'}"
      ]
     },
     "execution_count": 14,
     "metadata": {},
     "output_type": "execute_result"
    }
   ],
   "source": [
    "olympic_model.active_trail_nodes('OlympicTrials')"
   ]
  },
  {
   "cell_type": "code",
   "execution_count": 15,
   "metadata": {
    "collapsed": false
   },
   "outputs": [
    {
     "data": {
      "text/plain": [
       "(Genetics _|_ Practice)"
      ]
     },
     "execution_count": 15,
     "metadata": {},
     "output_type": "execute_result"
    }
   ],
   "source": [
    "olympic_model.local_independencies('Genetics')"
   ]
  },
  {
   "cell_type": "code",
   "execution_count": 17,
   "metadata": {
    "collapsed": false
   },
   "outputs": [
    {
     "ename": "RequiredError",
     "evalue": "'event2 needed'",
     "output_type": "error",
     "traceback": [
      "\u001b[0;31m---------------------------------------------------------------------------\u001b[0m",
      "\u001b[0;31mRequiredError\u001b[0m                             Traceback (most recent call last)",
      "\u001b[0;32m<ipython-input-17-a57b383a0d4c>\u001b[0m in \u001b[0;36m<module>\u001b[0;34m()\u001b[0m\n\u001b[0;32m----> 1\u001b[0;31m \u001b[0molympic_model\u001b[0m\u001b[1;33m.\u001b[0m\u001b[0mlocal_independencies\u001b[0m\u001b[1;33m(\u001b[0m\u001b[1;34m'OlympicTrials'\u001b[0m\u001b[1;33m)\u001b[0m\u001b[1;33m\u001b[0m\u001b[0m\n\u001b[0m",
      "\u001b[0;32mC:\\Users\\frank\\Anaconda3\\lib\\site-packages\\pgmpy\\models\\BayesianModel.py\u001b[0m in \u001b[0;36mlocal_independencies\u001b[0;34m(self, variables)\u001b[0m\n\u001b[1;32m    391\u001b[0m             independencies.add_assertions([variable, set(self.nodes()) - set(dfs(variable)) -\n\u001b[1;32m    392\u001b[0m                                            \u001b[0mset\u001b[0m\u001b[1;33m(\u001b[0m\u001b[0mself\u001b[0m\u001b[1;33m.\u001b[0m\u001b[0mget_parents\u001b[0m\u001b[1;33m(\u001b[0m\u001b[0mvariable\u001b[0m\u001b[1;33m)\u001b[0m\u001b[1;33m)\u001b[0m \u001b[1;33m-\u001b[0m \u001b[1;33m{\u001b[0m\u001b[0mvariable\u001b[0m\u001b[1;33m}\u001b[0m\u001b[1;33m,\u001b[0m\u001b[1;33m\u001b[0m\u001b[0m\n\u001b[0;32m--> 393\u001b[0;31m                                            set(self.get_parents(variable))])\n\u001b[0m\u001b[1;32m    394\u001b[0m         \u001b[1;32mreturn\u001b[0m \u001b[0mindependencies\u001b[0m\u001b[1;33m\u001b[0m\u001b[0m\n\u001b[1;32m    395\u001b[0m \u001b[1;33m\u001b[0m\u001b[0m\n",
      "\u001b[0;32mC:\\Users\\frank\\Anaconda3\\lib\\site-packages\\pgmpy\\independencies\\Independencies.py\u001b[0m in \u001b[0;36madd_assertions\u001b[0;34m(self, *assertions)\u001b[0m\n\u001b[1;32m     94\u001b[0m             \u001b[1;32melse\u001b[0m\u001b[1;33m:\u001b[0m\u001b[1;33m\u001b[0m\u001b[0m\n\u001b[1;32m     95\u001b[0m                 \u001b[1;32mtry\u001b[0m\u001b[1;33m:\u001b[0m\u001b[1;33m\u001b[0m\u001b[0m\n\u001b[0;32m---> 96\u001b[0;31m                     \u001b[0mself\u001b[0m\u001b[1;33m.\u001b[0m\u001b[0mindependencies\u001b[0m\u001b[1;33m.\u001b[0m\u001b[0mappend\u001b[0m\u001b[1;33m(\u001b[0m\u001b[0mIndependenceAssertion\u001b[0m\u001b[1;33m(\u001b[0m\u001b[0massertion\u001b[0m\u001b[1;33m[\u001b[0m\u001b[1;36m0\u001b[0m\u001b[1;33m]\u001b[0m\u001b[1;33m,\u001b[0m \u001b[0massertion\u001b[0m\u001b[1;33m[\u001b[0m\u001b[1;36m1\u001b[0m\u001b[1;33m]\u001b[0m\u001b[1;33m,\u001b[0m \u001b[0massertion\u001b[0m\u001b[1;33m[\u001b[0m\u001b[1;36m2\u001b[0m\u001b[1;33m]\u001b[0m\u001b[1;33m)\u001b[0m\u001b[1;33m)\u001b[0m\u001b[1;33m\u001b[0m\u001b[0m\n\u001b[0m\u001b[1;32m     97\u001b[0m                 \u001b[1;32mexcept\u001b[0m \u001b[0mIndexError\u001b[0m\u001b[1;33m:\u001b[0m\u001b[1;33m\u001b[0m\u001b[0m\n\u001b[1;32m     98\u001b[0m                     \u001b[0mself\u001b[0m\u001b[1;33m.\u001b[0m\u001b[0mindependencies\u001b[0m\u001b[1;33m.\u001b[0m\u001b[0mappend\u001b[0m\u001b[1;33m(\u001b[0m\u001b[0mIndependenceAssertion\u001b[0m\u001b[1;33m(\u001b[0m\u001b[0massertion\u001b[0m\u001b[1;33m[\u001b[0m\u001b[1;36m0\u001b[0m\u001b[1;33m]\u001b[0m\u001b[1;33m,\u001b[0m \u001b[0massertion\u001b[0m\u001b[1;33m[\u001b[0m\u001b[1;36m1\u001b[0m\u001b[1;33m]\u001b[0m\u001b[1;33m)\u001b[0m\u001b[1;33m)\u001b[0m\u001b[1;33m\u001b[0m\u001b[0m\n",
      "\u001b[0;32mC:\\Users\\frank\\Anaconda3\\lib\\site-packages\\pgmpy\\independencies\\Independencies.py\u001b[0m in \u001b[0;36m__init__\u001b[0;34m(self, event1, event2, event3)\u001b[0m\n\u001b[1;32m    179\u001b[0m         \"\"\"\n\u001b[1;32m    180\u001b[0m         \u001b[1;32mif\u001b[0m \u001b[0mevent1\u001b[0m \u001b[1;32mand\u001b[0m \u001b[1;32mnot\u001b[0m \u001b[0mevent2\u001b[0m\u001b[1;33m:\u001b[0m\u001b[1;33m\u001b[0m\u001b[0m\n\u001b[0;32m--> 181\u001b[0;31m             \u001b[1;32mraise\u001b[0m \u001b[0mexceptions\u001b[0m\u001b[1;33m.\u001b[0m\u001b[0mRequiredError\u001b[0m\u001b[1;33m(\u001b[0m\u001b[1;34m'event2 needed'\u001b[0m\u001b[1;33m)\u001b[0m\u001b[1;33m\u001b[0m\u001b[0m\n\u001b[0m\u001b[1;32m    182\u001b[0m         \u001b[1;32mif\u001b[0m \u001b[0many\u001b[0m\u001b[1;33m(\u001b[0m\u001b[1;33m[\u001b[0m\u001b[0mevent2\u001b[0m\u001b[1;33m,\u001b[0m \u001b[0mevent3\u001b[0m\u001b[1;33m]\u001b[0m\u001b[1;33m)\u001b[0m \u001b[1;32mand\u001b[0m \u001b[1;32mnot\u001b[0m \u001b[0mevent1\u001b[0m\u001b[1;33m:\u001b[0m\u001b[1;33m\u001b[0m\u001b[0m\n\u001b[1;32m    183\u001b[0m             \u001b[1;32mraise\u001b[0m \u001b[0mexceptions\u001b[0m\u001b[1;33m.\u001b[0m\u001b[0mRequiredError\u001b[0m\u001b[1;33m(\u001b[0m\u001b[1;34m'event1'\u001b[0m\u001b[1;33m)\u001b[0m\u001b[1;33m\u001b[0m\u001b[0m\n",
      "\u001b[0;31mRequiredError\u001b[0m: 'event2 needed'"
     ]
    }
   ],
   "source": [
    "olympic_model.local_independencies('OlympicTrials')"
   ]
  },
  {
   "cell_type": "code",
   "execution_count": 18,
   "metadata": {
    "collapsed": false
   },
   "outputs": [
    {
     "data": {
      "text/plain": [
       "(Genetics _|_ Practice | OlympicTrials)\n",
       "(Genetics _|_ OlympicTrials, Offer | Practice)\n",
       "(Genetics _|_ OlympicTrials, Practice | Offer)\n",
       "(OlympicTrials _|_ Offer, Practice | Genetics)\n",
       "(OlympicTrials _|_ Offer, Genetics | Practice)\n",
       "(OlympicTrials _|_ Practice, Genetics | Offer)\n",
       "(Practice _|_ OlympicTrials, Offer | Genetics)\n",
       "(Practice _|_ Genetics | OlympicTrials)\n",
       "(Practice _|_ OlympicTrials, Genetics | Offer)\n",
       "(Offer _|_ OlympicTrials, Practice | Genetics)\n",
       "(Offer _|_ OlympicTrials, Genetics | Practice)"
      ]
     },
     "execution_count": 18,
     "metadata": {},
     "output_type": "execute_result"
    }
   ],
   "source": [
    "olympic_model.get_independencies()"
   ]
  },
  {
   "cell_type": "code",
   "execution_count": 20,
   "metadata": {
    "collapsed": false
   },
   "outputs": [],
   "source": [
    "from pgmpy.inference import VariableElimination"
   ]
  },
  {
   "cell_type": "code",
   "execution_count": 22,
   "metadata": {
    "collapsed": false
   },
   "outputs": [],
   "source": [
    "olympic_infer = VariableElimination(olympic_model)"
   ]
  },
  {
   "cell_type": "code",
   "execution_count": 27,
   "metadata": {
    "collapsed": false
   },
   "outputs": [
    {
     "name": "stdout",
     "output_type": "stream",
     "text": [
      "╒═════════╤══════════════╕\n",
      "│ Offer   │   phi(Offer) │\n",
      "╞═════════╪══════════════╡\n",
      "│ Offer_0 │       0.9144 │\n",
      "├─────────┼──────────────┤\n",
      "│ Offer_1 │       0.0856 │\n",
      "╘═════════╧══════════════╛\n"
     ]
    }
   ],
   "source": [
    "prob_offer = olympic_infer.query(variables = ['Offer'])\n",
    "print(prob_offer['Offer'])"
   ]
  },
  {
   "cell_type": "markdown",
   "metadata": {},
   "source": [
    "### Getting conditional propabilities taking into account what we already know"
   ]
  },
  {
   "cell_type": "code",
   "execution_count": 29,
   "metadata": {
    "collapsed": false
   },
   "outputs": [
    {
     "name": "stdout",
     "output_type": "stream",
     "text": [
      "╒════════════╤═════════════════╕\n",
      "│ Genetics   │   phi(Genetics) │\n",
      "╞════════════╪═════════════════╡\n",
      "│ Genetics_0 │          0.2000 │\n",
      "├────────────┼─────────────────┤\n",
      "│ Genetics_1 │          0.8000 │\n",
      "╘════════════╧═════════════════╛\n",
      "╒═════════╤══════════════╕\n",
      "│ Offer   │   phi(Offer) │\n",
      "╞═════════╪══════════════╡\n",
      "│ Offer_0 │       0.9144 │\n",
      "├─────────┼──────────────┤\n",
      "│ Offer_1 │       0.0856 │\n",
      "╘═════════╧══════════════╛\n"
     ]
    }
   ],
   "source": [
    "prop_offer_good_genes = olympic_infer.query(variables=['Offer', 'Genetics'])\n",
    "\n",
    "print(prop_offer_good_genes['Genetics'])\n",
    "print(prop_offer_good_genes['Offer'])"
   ]
  },
  {
   "cell_type": "code",
   "execution_count": 34,
   "metadata": {
    "collapsed": false
   },
   "outputs": [
    {
     "name": "stdout",
     "output_type": "stream",
     "text": [
      "╒═════════╤══════════════╕\n",
      "│ Offer   │   phi(Offer) │\n",
      "╞═════════╪══════════════╡\n",
      "│ Offer_0 │       0.9242 │\n",
      "├─────────┼──────────────┤\n",
      "│ Offer_1 │       0.0758 │\n",
      "╘═════════╧══════════════╛\n"
     ]
    }
   ],
   "source": [
    "prop_offer_good_genes = olympic_infer.query(variables=['Offer'],\n",
    "                                          evidence = {'Genetics':0})\n",
    "\n",
    "print(prop_offer_bad_genes['Offer'])"
   ]
  },
  {
   "cell_type": "code",
   "execution_count": 31,
   "metadata": {
    "collapsed": false
   },
   "outputs": [
    {
     "name": "stdout",
     "output_type": "stream",
     "text": [
      "╒════════════╤═════════════════╕\n",
      "│ Genetics   │   phi(Genetics) │\n",
      "╞════════════╪═════════════════╡\n",
      "│ Genetics_0 │          0.2000 │\n",
      "├────────────┼─────────────────┤\n",
      "│ Genetics_1 │          0.8000 │\n",
      "╘════════════╧═════════════════╛\n",
      "╒═════════╤══════════════╕\n",
      "│ Offer   │   phi(Offer) │\n",
      "╞═════════╪══════════════╡\n",
      "│ Offer_0 │       0.9144 │\n",
      "├─────────┼──────────────┤\n",
      "│ Offer_1 │       0.0856 │\n",
      "╘═════════╧══════════════╛\n"
     ]
    }
   ],
   "source": [
    "prop_offer_good_genes = olympic_infer.query(variables=['Offer'],\n",
    "                                          evidence = {'Genetics':1})\n",
    "\n",
    "print(prop_offer_bad_genes['Offer'])"
   ]
  },
  {
   "cell_type": "code",
   "execution_count": null,
   "metadata": {
    "collapsed": true
   },
   "outputs": [],
   "source": []
  }
 ],
 "metadata": {
  "kernelspec": {
   "display_name": "Python 3",
   "language": "python",
   "name": "python3"
  },
  "language_info": {
   "codemirror_mode": {
    "name": "ipython",
    "version": 3
   },
   "file_extension": ".py",
   "mimetype": "text/x-python",
   "name": "python",
   "nbconvert_exporter": "python",
   "pygments_lexer": "ipython3",
   "version": "3.6.0"
  }
 },
 "nbformat": 4,
 "nbformat_minor": 2
}
